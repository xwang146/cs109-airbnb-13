{
 "cells": [
  {
   "cell_type": "code",
   "execution_count": 1,
   "metadata": {
    "collapsed": true
   },
   "outputs": [],
   "source": [
    "import numpy as np\n",
    "import pandas as pd\n",
    "import itertools as it\n",
    "import matplotlib\n",
    "import matplotlib.pyplot as plt\n",
    "import matplotlib.cm as cmx\n",
    "import matplotlib.colors as colors\n",
    "import scipy as sp\n",
    "import statsmodels.api as sm\n",
    "from itertools import combinations\n",
    "from sklearn import preprocessing\n",
    "from sklearn.cross_validation import train_test_split\n",
    "from sklearn.linear_model import LinearRegression\n",
    "from collections import Counter\n",
    "%matplotlib inline"
   ]
  },
  {
   "cell_type": "code",
   "execution_count": 2,
   "metadata": {
    "collapsed": false
   },
   "outputs": [
    {
     "name": "stdout",
     "output_type": "stream",
     "text": [
      "['id' 'host_since' 'zipcode' 'latitude' 'longitude' 'property_type'\n",
      " 'room_type' 'accommodates' 'bathrooms' 'bedrooms' 'beds' 'bed_type'\n",
      " 'guests_included' 'minimum_nights' 'maximum_nights' 'availability_30'\n",
      " 'availability_60' 'availability_90' 'availability_365' 'number_of_reviews'\n",
      " 'first_review' 'last_review' 'review_scores_rating'\n",
      " 'review_scores_accuracy' 'review_scores_cleanliness'\n",
      " 'review_scores_checkin' 'review_scores_communication'\n",
      " 'review_scores_location' 'review_scores_value' 'host_listing_count'\n",
      " 'price']\n"
     ]
    },
    {
     "data": {
      "text/html": [
       "<div>\n",
       "<table border=\"1\" class=\"dataframe\">\n",
       "  <thead>\n",
       "    <tr style=\"text-align: right;\">\n",
       "      <th></th>\n",
       "      <th>id</th>\n",
       "      <th>host_since</th>\n",
       "      <th>zipcode</th>\n",
       "      <th>latitude</th>\n",
       "      <th>longitude</th>\n",
       "      <th>property_type</th>\n",
       "      <th>room_type</th>\n",
       "      <th>accommodates</th>\n",
       "      <th>bathrooms</th>\n",
       "      <th>bedrooms</th>\n",
       "      <th>...</th>\n",
       "      <th>last_review</th>\n",
       "      <th>review_scores_rating</th>\n",
       "      <th>review_scores_accuracy</th>\n",
       "      <th>review_scores_cleanliness</th>\n",
       "      <th>review_scores_checkin</th>\n",
       "      <th>review_scores_communication</th>\n",
       "      <th>review_scores_location</th>\n",
       "      <th>review_scores_value</th>\n",
       "      <th>host_listing_count</th>\n",
       "      <th>price</th>\n",
       "    </tr>\n",
       "  </thead>\n",
       "  <tbody>\n",
       "    <tr>\n",
       "      <th>0</th>\n",
       "      <td>1069266</td>\n",
       "      <td>1926</td>\n",
       "      <td>10022.0</td>\n",
       "      <td>40.756852</td>\n",
       "      <td>-73.964754</td>\n",
       "      <td>0</td>\n",
       "      <td>0</td>\n",
       "      <td>2</td>\n",
       "      <td>1.0</td>\n",
       "      <td>1.0</td>\n",
       "      <td>...</td>\n",
       "      <td>2542.0</td>\n",
       "      <td>86.0</td>\n",
       "      <td>9.0</td>\n",
       "      <td>7.0</td>\n",
       "      <td>9.0</td>\n",
       "      <td>9.0</td>\n",
       "      <td>10.0</td>\n",
       "      <td>9.0</td>\n",
       "      <td>1</td>\n",
       "      <td>160</td>\n",
       "    </tr>\n",
       "    <tr>\n",
       "      <th>1</th>\n",
       "      <td>1846722</td>\n",
       "      <td>1625</td>\n",
       "      <td>NaN</td>\n",
       "      <td>40.830599</td>\n",
       "      <td>-73.941014</td>\n",
       "      <td>0</td>\n",
       "      <td>0</td>\n",
       "      <td>10</td>\n",
       "      <td>1.0</td>\n",
       "      <td>3.0</td>\n",
       "      <td>...</td>\n",
       "      <td>2554.0</td>\n",
       "      <td>85.0</td>\n",
       "      <td>8.0</td>\n",
       "      <td>8.0</td>\n",
       "      <td>9.0</td>\n",
       "      <td>8.0</td>\n",
       "      <td>7.0</td>\n",
       "      <td>8.0</td>\n",
       "      <td>2</td>\n",
       "      <td>105</td>\n",
       "    </tr>\n",
       "    <tr>\n",
       "      <th>2</th>\n",
       "      <td>2061725</td>\n",
       "      <td>1831</td>\n",
       "      <td>11221.0</td>\n",
       "      <td>40.692189</td>\n",
       "      <td>-73.924120</td>\n",
       "      <td>0</td>\n",
       "      <td>1</td>\n",
       "      <td>2</td>\n",
       "      <td>1.0</td>\n",
       "      <td>1.0</td>\n",
       "      <td>...</td>\n",
       "      <td>2554.0</td>\n",
       "      <td>98.0</td>\n",
       "      <td>10.0</td>\n",
       "      <td>10.0</td>\n",
       "      <td>10.0</td>\n",
       "      <td>10.0</td>\n",
       "      <td>9.0</td>\n",
       "      <td>10.0</td>\n",
       "      <td>4</td>\n",
       "      <td>58</td>\n",
       "    </tr>\n",
       "    <tr>\n",
       "      <th>3</th>\n",
       "      <td>44974</td>\n",
       "      <td>953</td>\n",
       "      <td>10011.0</td>\n",
       "      <td>40.734751</td>\n",
       "      <td>-74.002592</td>\n",
       "      <td>0</td>\n",
       "      <td>0</td>\n",
       "      <td>2</td>\n",
       "      <td>1.0</td>\n",
       "      <td>1.0</td>\n",
       "      <td>...</td>\n",
       "      <td>2494.0</td>\n",
       "      <td>96.0</td>\n",
       "      <td>10.0</td>\n",
       "      <td>9.0</td>\n",
       "      <td>10.0</td>\n",
       "      <td>10.0</td>\n",
       "      <td>10.0</td>\n",
       "      <td>9.0</td>\n",
       "      <td>1</td>\n",
       "      <td>185</td>\n",
       "    </tr>\n",
       "    <tr>\n",
       "      <th>4</th>\n",
       "      <td>4701675</td>\n",
       "      <td>2479</td>\n",
       "      <td>10011.0</td>\n",
       "      <td>40.745282</td>\n",
       "      <td>-73.997836</td>\n",
       "      <td>0</td>\n",
       "      <td>0</td>\n",
       "      <td>2</td>\n",
       "      <td>1.0</td>\n",
       "      <td>1.0</td>\n",
       "      <td>...</td>\n",
       "      <td>2533.0</td>\n",
       "      <td>100.0</td>\n",
       "      <td>10.0</td>\n",
       "      <td>10.0</td>\n",
       "      <td>10.0</td>\n",
       "      <td>10.0</td>\n",
       "      <td>10.0</td>\n",
       "      <td>10.0</td>\n",
       "      <td>1</td>\n",
       "      <td>195</td>\n",
       "    </tr>\n",
       "  </tbody>\n",
       "</table>\n",
       "<p>5 rows × 31 columns</p>\n",
       "</div>"
      ],
      "text/plain": [
       "        id  host_since  zipcode   latitude  longitude  property_type  \\\n",
       "0  1069266        1926  10022.0  40.756852 -73.964754              0   \n",
       "1  1846722        1625      NaN  40.830599 -73.941014              0   \n",
       "2  2061725        1831  11221.0  40.692189 -73.924120              0   \n",
       "3    44974         953  10011.0  40.734751 -74.002592              0   \n",
       "4  4701675        2479  10011.0  40.745282 -73.997836              0   \n",
       "\n",
       "   room_type  accommodates  bathrooms  bedrooms  ...    last_review  \\\n",
       "0          0             2        1.0       1.0  ...         2542.0   \n",
       "1          0            10        1.0       3.0  ...         2554.0   \n",
       "2          1             2        1.0       1.0  ...         2554.0   \n",
       "3          0             2        1.0       1.0  ...         2494.0   \n",
       "4          0             2        1.0       1.0  ...         2533.0   \n",
       "\n",
       "   review_scores_rating  review_scores_accuracy  review_scores_cleanliness  \\\n",
       "0                  86.0                     9.0                        7.0   \n",
       "1                  85.0                     8.0                        8.0   \n",
       "2                  98.0                    10.0                       10.0   \n",
       "3                  96.0                    10.0                        9.0   \n",
       "4                 100.0                    10.0                       10.0   \n",
       "\n",
       "   review_scores_checkin  review_scores_communication  review_scores_location  \\\n",
       "0                    9.0                          9.0                    10.0   \n",
       "1                    9.0                          8.0                     7.0   \n",
       "2                   10.0                         10.0                     9.0   \n",
       "3                   10.0                         10.0                    10.0   \n",
       "4                   10.0                         10.0                    10.0   \n",
       "\n",
       "   review_scores_value  host_listing_count  price  \n",
       "0                  9.0                   1    160  \n",
       "1                  8.0                   2    105  \n",
       "2                 10.0                   4     58  \n",
       "3                  9.0                   1    185  \n",
       "4                 10.0                   1    195  \n",
       "\n",
       "[5 rows x 31 columns]"
      ]
     },
     "execution_count": 2,
     "metadata": {},
     "output_type": "execute_result"
    }
   ],
   "source": [
    "#read the data\n",
    "df = pd.read_csv('listings_clean.csv')\n",
    "print(df.columns.values)\n",
    "df.head()"
   ]
  },
  {
   "cell_type": "code",
   "execution_count": 3,
   "metadata": {
    "collapsed": false
   },
   "outputs": [
    {
     "data": {
      "text/plain": [
       "(27392, 31)"
      ]
     },
     "execution_count": 3,
     "metadata": {},
     "output_type": "execute_result"
    }
   ],
   "source": [
    "df.shape"
   ]
  },
  {
   "cell_type": "markdown",
   "metadata": {},
   "source": [
    "### Remove 5% samples from smallest zipcode clusters ###"
   ]
  },
  {
   "cell_type": "code",
   "execution_count": 4,
   "metadata": {
    "collapsed": false
   },
   "outputs": [
    {
     "name": "stdout",
     "output_type": "stream",
     "text": [
      "Remaining data proportion: 0.94976635514\n",
      "(26016, 31)\n"
     ]
    }
   ],
   "source": [
    "# remove small zipcode clusters, with 95% data left\n",
    "# count each zipcode entries\n",
    "nb_counts = Counter(df['zipcode'])\n",
    "tdf = pd.DataFrame.from_dict(nb_counts, orient='index').sort_values(by=0)\n",
    "# select clusters with size >= 50\n",
    "tdf1 = tdf[tdf.values>=50]\n",
    "print 'Remaining data proportion: ' + str(float(sum(tdf1.values))/df.shape[0])\n",
    "# get zipcode clusters\n",
    "zipcode_included = tdf1.index\n",
    "\n",
    "df1 = df.loc[df['zipcode'].isin(zipcode_included)]\n",
    "print df1.shape"
   ]
  },
  {
   "cell_type": "code",
   "execution_count": 5,
   "metadata": {
    "collapsed": false
   },
   "outputs": [],
   "source": [
    "y = df1['price']"
   ]
  },
  {
   "cell_type": "code",
   "execution_count": 6,
   "metadata": {
    "collapsed": false
   },
   "outputs": [
    {
     "data": {
      "text/html": [
       "<div>\n",
       "<table border=\"1\" class=\"dataframe\">\n",
       "  <thead>\n",
       "    <tr style=\"text-align: right;\">\n",
       "      <th></th>\n",
       "      <th>zipcode</th>\n",
       "      <th>latitude</th>\n",
       "      <th>longitude</th>\n",
       "      <th>property_type</th>\n",
       "      <th>room_type</th>\n",
       "      <th>accommodates</th>\n",
       "      <th>bathrooms</th>\n",
       "      <th>bedrooms</th>\n",
       "      <th>beds</th>\n",
       "      <th>bed_type</th>\n",
       "      <th>number_of_reviews</th>\n",
       "      <th>review_scores_rating</th>\n",
       "      <th>review_scores_accuracy</th>\n",
       "      <th>review_scores_cleanliness</th>\n",
       "      <th>review_scores_checkin</th>\n",
       "      <th>review_scores_communication</th>\n",
       "      <th>review_scores_location</th>\n",
       "      <th>review_scores_value</th>\n",
       "      <th>host_listing_count</th>\n",
       "    </tr>\n",
       "  </thead>\n",
       "  <tbody>\n",
       "    <tr>\n",
       "      <th>0</th>\n",
       "      <td>10022.0</td>\n",
       "      <td>40.756852</td>\n",
       "      <td>-73.964754</td>\n",
       "      <td>0</td>\n",
       "      <td>0</td>\n",
       "      <td>2</td>\n",
       "      <td>1.0</td>\n",
       "      <td>1.0</td>\n",
       "      <td>1.0</td>\n",
       "      <td>0</td>\n",
       "      <td>62</td>\n",
       "      <td>86.0</td>\n",
       "      <td>9.0</td>\n",
       "      <td>7.0</td>\n",
       "      <td>9.0</td>\n",
       "      <td>9.0</td>\n",
       "      <td>10.0</td>\n",
       "      <td>9.0</td>\n",
       "      <td>1</td>\n",
       "    </tr>\n",
       "    <tr>\n",
       "      <th>2</th>\n",
       "      <td>11221.0</td>\n",
       "      <td>40.692189</td>\n",
       "      <td>-73.924120</td>\n",
       "      <td>0</td>\n",
       "      <td>1</td>\n",
       "      <td>2</td>\n",
       "      <td>1.0</td>\n",
       "      <td>1.0</td>\n",
       "      <td>2.0</td>\n",
       "      <td>0</td>\n",
       "      <td>35</td>\n",
       "      <td>98.0</td>\n",
       "      <td>10.0</td>\n",
       "      <td>10.0</td>\n",
       "      <td>10.0</td>\n",
       "      <td>10.0</td>\n",
       "      <td>9.0</td>\n",
       "      <td>10.0</td>\n",
       "      <td>4</td>\n",
       "    </tr>\n",
       "    <tr>\n",
       "      <th>3</th>\n",
       "      <td>10011.0</td>\n",
       "      <td>40.734751</td>\n",
       "      <td>-74.002592</td>\n",
       "      <td>0</td>\n",
       "      <td>0</td>\n",
       "      <td>2</td>\n",
       "      <td>1.0</td>\n",
       "      <td>1.0</td>\n",
       "      <td>1.0</td>\n",
       "      <td>0</td>\n",
       "      <td>26</td>\n",
       "      <td>96.0</td>\n",
       "      <td>10.0</td>\n",
       "      <td>9.0</td>\n",
       "      <td>10.0</td>\n",
       "      <td>10.0</td>\n",
       "      <td>10.0</td>\n",
       "      <td>9.0</td>\n",
       "      <td>1</td>\n",
       "    </tr>\n",
       "    <tr>\n",
       "      <th>4</th>\n",
       "      <td>10011.0</td>\n",
       "      <td>40.745282</td>\n",
       "      <td>-73.997836</td>\n",
       "      <td>0</td>\n",
       "      <td>0</td>\n",
       "      <td>2</td>\n",
       "      <td>1.0</td>\n",
       "      <td>1.0</td>\n",
       "      <td>2.0</td>\n",
       "      <td>0</td>\n",
       "      <td>1</td>\n",
       "      <td>100.0</td>\n",
       "      <td>10.0</td>\n",
       "      <td>10.0</td>\n",
       "      <td>10.0</td>\n",
       "      <td>10.0</td>\n",
       "      <td>10.0</td>\n",
       "      <td>10.0</td>\n",
       "      <td>1</td>\n",
       "    </tr>\n",
       "    <tr>\n",
       "      <th>5</th>\n",
       "      <td>11231.0</td>\n",
       "      <td>40.679060</td>\n",
       "      <td>-73.994730</td>\n",
       "      <td>0</td>\n",
       "      <td>0</td>\n",
       "      <td>6</td>\n",
       "      <td>1.0</td>\n",
       "      <td>2.0</td>\n",
       "      <td>3.0</td>\n",
       "      <td>0</td>\n",
       "      <td>16</td>\n",
       "      <td>96.0</td>\n",
       "      <td>10.0</td>\n",
       "      <td>9.0</td>\n",
       "      <td>10.0</td>\n",
       "      <td>9.0</td>\n",
       "      <td>10.0</td>\n",
       "      <td>9.0</td>\n",
       "      <td>2</td>\n",
       "    </tr>\n",
       "  </tbody>\n",
       "</table>\n",
       "</div>"
      ],
      "text/plain": [
       "   zipcode   latitude  longitude  property_type  room_type  accommodates  \\\n",
       "0  10022.0  40.756852 -73.964754              0          0             2   \n",
       "2  11221.0  40.692189 -73.924120              0          1             2   \n",
       "3  10011.0  40.734751 -74.002592              0          0             2   \n",
       "4  10011.0  40.745282 -73.997836              0          0             2   \n",
       "5  11231.0  40.679060 -73.994730              0          0             6   \n",
       "\n",
       "   bathrooms  bedrooms  beds  bed_type  number_of_reviews  \\\n",
       "0        1.0       1.0   1.0         0                 62   \n",
       "2        1.0       1.0   2.0         0                 35   \n",
       "3        1.0       1.0   1.0         0                 26   \n",
       "4        1.0       1.0   2.0         0                  1   \n",
       "5        1.0       2.0   3.0         0                 16   \n",
       "\n",
       "   review_scores_rating  review_scores_accuracy  review_scores_cleanliness  \\\n",
       "0                  86.0                     9.0                        7.0   \n",
       "2                  98.0                    10.0                       10.0   \n",
       "3                  96.0                    10.0                        9.0   \n",
       "4                 100.0                    10.0                       10.0   \n",
       "5                  96.0                    10.0                        9.0   \n",
       "\n",
       "   review_scores_checkin  review_scores_communication  review_scores_location  \\\n",
       "0                    9.0                          9.0                    10.0   \n",
       "2                   10.0                         10.0                     9.0   \n",
       "3                   10.0                         10.0                    10.0   \n",
       "4                   10.0                         10.0                    10.0   \n",
       "5                   10.0                          9.0                    10.0   \n",
       "\n",
       "   review_scores_value  host_listing_count  \n",
       "0                  9.0                   1  \n",
       "2                 10.0                   4  \n",
       "3                  9.0                   1  \n",
       "4                 10.0                   1  \n",
       "5                  9.0                   2  "
      ]
     },
     "execution_count": 6,
     "metadata": {},
     "output_type": "execute_result"
    }
   ],
   "source": [
    "#Feature Extraction:\n",
    "#Use the features we decided last time\n",
    "features = ['zipcode', 'latitude', 'longitude', 'property_type', 'room_type', 'accommodates', \n",
    "            'bathrooms', 'bedrooms', 'beds', 'bed_type', 'number_of_reviews', 'review_scores_rating',\n",
    "            'review_scores_accuracy', 'review_scores_cleanliness', \n",
    "            'review_scores_checkin', 'review_scores_communication', \n",
    "            'review_scores_location', 'review_scores_value', 'host_listing_count']\n",
    "\n",
    "df_x = df1[features]\n",
    "df_x.head()"
   ]
  },
  {
   "cell_type": "markdown",
   "metadata": {},
   "source": [
    "Now we start imputing missing values. We fill in numerical values with the mean of its columns, fill in categorical values with most common value of its column."
   ]
  },
  {
   "cell_type": "code",
   "execution_count": 7,
   "metadata": {
    "collapsed": false
   },
   "outputs": [
    {
     "data": {
      "text/html": [
       "<div>\n",
       "<table border=\"1\" class=\"dataframe\">\n",
       "  <thead>\n",
       "    <tr style=\"text-align: right;\">\n",
       "      <th></th>\n",
       "      <th>zipcode</th>\n",
       "      <th>property_type</th>\n",
       "      <th>room_type</th>\n",
       "      <th>bed_type</th>\n",
       "      <th>latitude</th>\n",
       "      <th>longitude</th>\n",
       "      <th>accommodates</th>\n",
       "      <th>bathrooms</th>\n",
       "      <th>bedrooms</th>\n",
       "      <th>beds</th>\n",
       "      <th>number_of_reviews</th>\n",
       "      <th>review_scores_rating</th>\n",
       "      <th>review_scores_accuracy</th>\n",
       "      <th>review_scores_cleanliness</th>\n",
       "      <th>review_scores_checkin</th>\n",
       "      <th>review_scores_communication</th>\n",
       "      <th>review_scores_location</th>\n",
       "      <th>review_scores_value</th>\n",
       "      <th>host_listing_count</th>\n",
       "    </tr>\n",
       "  </thead>\n",
       "  <tbody>\n",
       "    <tr>\n",
       "      <th>0</th>\n",
       "      <td>10022.0</td>\n",
       "      <td>0</td>\n",
       "      <td>0</td>\n",
       "      <td>0</td>\n",
       "      <td>40.756852</td>\n",
       "      <td>-73.964754</td>\n",
       "      <td>2</td>\n",
       "      <td>1.0</td>\n",
       "      <td>1.0</td>\n",
       "      <td>1.0</td>\n",
       "      <td>62</td>\n",
       "      <td>86.0</td>\n",
       "      <td>9.0</td>\n",
       "      <td>7.0</td>\n",
       "      <td>9.0</td>\n",
       "      <td>9.0</td>\n",
       "      <td>10.0</td>\n",
       "      <td>9.0</td>\n",
       "      <td>1</td>\n",
       "    </tr>\n",
       "    <tr>\n",
       "      <th>2</th>\n",
       "      <td>11221.0</td>\n",
       "      <td>0</td>\n",
       "      <td>1</td>\n",
       "      <td>0</td>\n",
       "      <td>40.692189</td>\n",
       "      <td>-73.924120</td>\n",
       "      <td>2</td>\n",
       "      <td>1.0</td>\n",
       "      <td>1.0</td>\n",
       "      <td>2.0</td>\n",
       "      <td>35</td>\n",
       "      <td>98.0</td>\n",
       "      <td>10.0</td>\n",
       "      <td>10.0</td>\n",
       "      <td>10.0</td>\n",
       "      <td>10.0</td>\n",
       "      <td>9.0</td>\n",
       "      <td>10.0</td>\n",
       "      <td>4</td>\n",
       "    </tr>\n",
       "    <tr>\n",
       "      <th>3</th>\n",
       "      <td>10011.0</td>\n",
       "      <td>0</td>\n",
       "      <td>0</td>\n",
       "      <td>0</td>\n",
       "      <td>40.734751</td>\n",
       "      <td>-74.002592</td>\n",
       "      <td>2</td>\n",
       "      <td>1.0</td>\n",
       "      <td>1.0</td>\n",
       "      <td>1.0</td>\n",
       "      <td>26</td>\n",
       "      <td>96.0</td>\n",
       "      <td>10.0</td>\n",
       "      <td>9.0</td>\n",
       "      <td>10.0</td>\n",
       "      <td>10.0</td>\n",
       "      <td>10.0</td>\n",
       "      <td>9.0</td>\n",
       "      <td>1</td>\n",
       "    </tr>\n",
       "    <tr>\n",
       "      <th>4</th>\n",
       "      <td>10011.0</td>\n",
       "      <td>0</td>\n",
       "      <td>0</td>\n",
       "      <td>0</td>\n",
       "      <td>40.745282</td>\n",
       "      <td>-73.997836</td>\n",
       "      <td>2</td>\n",
       "      <td>1.0</td>\n",
       "      <td>1.0</td>\n",
       "      <td>2.0</td>\n",
       "      <td>1</td>\n",
       "      <td>100.0</td>\n",
       "      <td>10.0</td>\n",
       "      <td>10.0</td>\n",
       "      <td>10.0</td>\n",
       "      <td>10.0</td>\n",
       "      <td>10.0</td>\n",
       "      <td>10.0</td>\n",
       "      <td>1</td>\n",
       "    </tr>\n",
       "    <tr>\n",
       "      <th>5</th>\n",
       "      <td>11231.0</td>\n",
       "      <td>0</td>\n",
       "      <td>0</td>\n",
       "      <td>0</td>\n",
       "      <td>40.679060</td>\n",
       "      <td>-73.994730</td>\n",
       "      <td>6</td>\n",
       "      <td>1.0</td>\n",
       "      <td>2.0</td>\n",
       "      <td>3.0</td>\n",
       "      <td>16</td>\n",
       "      <td>96.0</td>\n",
       "      <td>10.0</td>\n",
       "      <td>9.0</td>\n",
       "      <td>10.0</td>\n",
       "      <td>9.0</td>\n",
       "      <td>10.0</td>\n",
       "      <td>9.0</td>\n",
       "      <td>2</td>\n",
       "    </tr>\n",
       "  </tbody>\n",
       "</table>\n",
       "</div>"
      ],
      "text/plain": [
       "   zipcode  property_type  room_type  bed_type   latitude  longitude  \\\n",
       "0  10022.0              0          0         0  40.756852 -73.964754   \n",
       "2  11221.0              0          1         0  40.692189 -73.924120   \n",
       "3  10011.0              0          0         0  40.734751 -74.002592   \n",
       "4  10011.0              0          0         0  40.745282 -73.997836   \n",
       "5  11231.0              0          0         0  40.679060 -73.994730   \n",
       "\n",
       "   accommodates  bathrooms  bedrooms  beds  number_of_reviews  \\\n",
       "0             2        1.0       1.0   1.0                 62   \n",
       "2             2        1.0       1.0   2.0                 35   \n",
       "3             2        1.0       1.0   1.0                 26   \n",
       "4             2        1.0       1.0   2.0                  1   \n",
       "5             6        1.0       2.0   3.0                 16   \n",
       "\n",
       "   review_scores_rating  review_scores_accuracy  review_scores_cleanliness  \\\n",
       "0                  86.0                     9.0                        7.0   \n",
       "2                  98.0                    10.0                       10.0   \n",
       "3                  96.0                    10.0                        9.0   \n",
       "4                 100.0                    10.0                       10.0   \n",
       "5                  96.0                    10.0                        9.0   \n",
       "\n",
       "   review_scores_checkin  review_scores_communication  review_scores_location  \\\n",
       "0                    9.0                          9.0                    10.0   \n",
       "2                   10.0                         10.0                     9.0   \n",
       "3                   10.0                         10.0                    10.0   \n",
       "4                   10.0                         10.0                    10.0   \n",
       "5                   10.0                          9.0                    10.0   \n",
       "\n",
       "   review_scores_value  host_listing_count  \n",
       "0                  9.0                   1  \n",
       "2                 10.0                   4  \n",
       "3                  9.0                   1  \n",
       "4                 10.0                   1  \n",
       "5                  9.0                   2  "
      ]
     },
     "execution_count": 7,
     "metadata": {},
     "output_type": "execute_result"
    }
   ],
   "source": [
    "#categorical and numerical column names\n",
    "cate = ['zipcode', 'property_type', 'room_type', 'bed_type']\n",
    "nume = [c for c in df_x.columns.values if c not in cate]\n",
    "\n",
    "#fill categorical with mode, numerical with mean\n",
    "df_x_cate = df_x[cate].apply(lambda x:x.fillna(x.value_counts().index[0]))\n",
    "df_x_nume = df_x[nume].apply(lambda x:x.fillna(x.mean()))\n",
    "\n",
    "df_x = pd.concat([df_x_cate, df_x_nume], axis=1)\n",
    "df_x.head()"
   ]
  },
  {
   "cell_type": "markdown",
   "metadata": {},
   "source": [
    "Now we encode categorical variables."
   ]
  },
  {
   "cell_type": "code",
   "execution_count": 8,
   "metadata": {
    "collapsed": false
   },
   "outputs": [
    {
     "data": {
      "text/plain": [
       "array([[  0.,   0.,   0., ...,  10.,   9.,   1.],\n",
       "       [  0.,   0.,   0., ...,   9.,  10.,   4.],\n",
       "       [  0.,   0.,   0., ...,  10.,   9.,   1.],\n",
       "       ..., \n",
       "       [  0.,   0.,   0., ...,   9.,   8.,  15.],\n",
       "       [  0.,   0.,   0., ...,   9.,  10.,   7.],\n",
       "       [  0.,   0.,   0., ...,  10.,  10.,   2.]])"
      ]
     },
     "execution_count": 8,
     "metadata": {},
     "output_type": "execute_result"
    }
   ],
   "source": [
    "# Get numpy array from data\n",
    "x = df_x.values\n",
    "\n",
    "# Apply one hot endcoing\n",
    "categorical = [(c in cate) for c in df_x.columns]\n",
    "encoder = preprocessing.OneHotEncoder(categorical_features=categorical, sparse=False)  \n",
    "\n",
    "x = encoder.fit_transform(x)\n",
    "x"
   ]
  },
  {
   "cell_type": "code",
   "execution_count": 9,
   "metadata": {
    "collapsed": false
   },
   "outputs": [
    {
     "name": "stdout",
     "output_type": "stream",
     "text": [
      "(26016, 103)\n",
      "(26016,)\n"
     ]
    }
   ],
   "source": [
    "print x.shape\n",
    "print y.shape"
   ]
  },
  {
   "cell_type": "code",
   "execution_count": 17,
   "metadata": {
    "collapsed": false
   },
   "outputs": [
    {
     "data": {
      "image/png": "[encoded data removed]",
      "text/plain": [
       "<matplotlib.figure.Figure at 0x7fc62db01a50>"
      ]
     },
     "metadata": {},
     "output_type": "display_data"
    }
   ],
   "source": [
    "plt.figure()\n",
    "plt.hist(np.log(y), bins=50);"
   ]
  },
  {
   "cell_type": "markdown",
   "metadata": {},
   "source": [
    "Now we've already preprocessed data in both files. We could start build models. We split our training dataset into train data and test data."
   ]
  },
  {
   "cell_type": "code",
   "execution_count": 10,
   "metadata": {
    "collapsed": false
   },
   "outputs": [],
   "source": [
    "x_train, x_test, y_train, y_test = train_test_split(x, y, test_size=0.3, random_state=0)"
   ]
  },
  {
   "cell_type": "code",
   "execution_count": 11,
   "metadata": {
    "collapsed": false
   },
   "outputs": [
    {
     "name": "stdout",
     "output_type": "stream",
     "text": [
      "train data:  (18211, 103)\n",
      "test data:  (7805, 103)\n"
     ]
    }
   ],
   "source": [
    "print 'train data: ', x_train.shape\n",
    "print 'test data: ', x_test.shape"
   ]
  },
  {
   "cell_type": "code",
   "execution_count": 16,
   "metadata": {
    "collapsed": false
   },
   "outputs": [
    {
     "name": "stdout",
     "output_type": "stream",
     "text": [
      "                            OLS Regression Results                            \n",
      "==============================================================================\n",
      "Dep. Variable:                  price   R-squared:                       0.663\n",
      "Model:                            OLS   Adj. R-squared:                  0.662\n",
      "Method:                 Least Squares   F-statistic:                     360.7\n",
      "Date:                Tue, 06 Dec 2016   Prob (F-statistic):               0.00\n",
      "Time:                        11:31:36   Log-Likelihood:                -7679.2\n",
      "No. Observations:               18211   AIC:                         1.556e+04\n",
      "Df Residuals:                   18111   BIC:                         1.634e+04\n",
      "Df Model:                          99                                         \n",
      "Covariance Type:            nonrobust                                         \n",
      "==============================================================================\n",
      "                 coef    std err          t      P>|t|      [95.0% Conf. Int.]\n",
      "------------------------------------------------------------------------------\n",
      "const       -333.9286     28.662    -11.651      0.000      -390.108  -277.749\n",
      "x1            -4.2817      0.408    -10.492      0.000        -5.082    -3.482\n",
      "x2            -4.4259      0.394    -11.229      0.000        -5.199    -3.653\n",
      "x3            -4.3037      0.398    -10.819      0.000        -5.083    -3.524\n",
      "x4            -4.3494      0.405    -10.739      0.000        -5.143    -3.556\n",
      "x5            -4.3339      0.401    -10.812      0.000        -5.120    -3.548\n",
      "x6            -4.2506      0.406    -10.474      0.000        -5.046    -3.455\n",
      "x7            -4.3924      0.393    -11.167      0.000        -5.163    -3.621\n",
      "x8            -4.2829      0.399    -10.722      0.000        -5.066    -3.500\n",
      "x9            -4.3234      0.407    -10.618      0.000        -5.121    -3.525\n",
      "x10           -4.2597      0.401    -10.619      0.000        -5.046    -3.473\n",
      "x11           -4.2705      0.401    -10.638      0.000        -5.057    -3.484\n",
      "x12           -4.2787      0.407    -10.515      0.000        -5.076    -3.481\n",
      "x13           -4.2606      0.399    -10.681      0.000        -5.042    -3.479\n",
      "x14           -4.2677      0.399    -10.686      0.000        -5.050    -3.485\n",
      "x15           -4.4188      0.409    -10.792      0.000        -5.221    -3.616\n",
      "x16           -4.4127      0.410    -10.758      0.000        -5.217    -3.609\n",
      "x17           -4.3842      0.399    -10.999      0.000        -5.166    -3.603\n",
      "x18           -4.2361      0.399    -10.624      0.000        -5.018    -3.455\n",
      "x19           -4.4609      0.412    -10.828      0.000        -5.268    -3.653\n",
      "x20           -4.4922      0.413    -10.885      0.000        -5.301    -3.683\n",
      "x21           -4.6506      0.414    -11.236      0.000        -5.462    -3.839\n",
      "x22           -4.7516      0.410    -11.579      0.000        -5.556    -3.947\n",
      "x23           -4.8540      0.412    -11.771      0.000        -5.662    -4.046\n",
      "x24           -4.3750      0.399    -10.975      0.000        -5.156    -3.594\n",
      "x25           -4.6996      0.402    -11.693      0.000        -5.487    -3.912\n",
      "x26           -4.9755      0.413    -12.041      0.000        -5.785    -4.166\n",
      "x27           -5.0582      0.418    -12.115      0.000        -5.877    -4.240\n",
      "x28           -5.0642      0.420    -12.066      0.000        -5.887    -4.242\n",
      "x29           -5.0944      0.424    -12.027      0.000        -5.925    -4.264\n",
      "x30           -5.1530      0.426    -12.088      0.000        -5.988    -4.317\n",
      "x31           -4.7568      0.403    -11.794      0.000        -5.547    -3.966\n",
      "x32           -4.4001      0.411    -10.713      0.000        -5.205    -3.595\n",
      "x33           -4.7537      0.410    -11.605      0.000        -5.557    -3.951\n",
      "x34           -4.3417      0.400    -10.855      0.000        -5.126    -3.558\n",
      "x35           -4.9533      0.416    -11.903      0.000        -5.769    -4.138\n",
      "x36           -5.1358      0.425    -12.083      0.000        -5.969    -4.303\n",
      "x37           -4.3102      0.399    -10.801      0.000        -5.092    -3.528\n",
      "x38           -4.4213      0.398    -11.097      0.000        -5.202    -3.640\n",
      "x39           -4.3943      0.400    -10.998      0.000        -5.177    -3.611\n",
      "x40           -4.2157      0.407    -10.361      0.000        -5.013    -3.418\n",
      "x41           -5.1578      0.424    -12.176      0.000        -5.988    -4.327\n",
      "x42           -4.5454      0.385    -11.806      0.000        -5.300    -3.791\n",
      "x43           -4.5675      0.385    -11.876      0.000        -5.321    -3.814\n",
      "x44           -4.5581      0.377    -12.077      0.000        -5.298    -3.818\n",
      "x45           -4.5811      0.374    -12.242      0.000        -5.315    -3.848\n",
      "x46           -4.7286      0.381    -12.395      0.000        -5.476    -3.981\n",
      "x47           -4.6603      0.383    -12.156      0.000        -5.412    -3.909\n",
      "x48           -4.3412      0.387    -11.232      0.000        -5.099    -3.584\n",
      "x49           -4.4330      0.375    -11.835      0.000        -5.167    -3.699\n",
      "x50           -4.4944      0.367    -12.261      0.000        -5.213    -3.776\n",
      "x51           -4.5574      0.346    -13.166      0.000        -5.236    -3.879\n",
      "x52           -4.7538      0.390    -12.193      0.000        -5.518    -3.990\n",
      "x53           -4.2881      0.353    -12.138      0.000        -4.981    -3.596\n",
      "x54           -4.3383      0.376    -11.529      0.000        -5.076    -3.601\n",
      "x55           -4.4815      0.356    -12.572      0.000        -5.180    -3.783\n",
      "x56           -4.4038      0.376    -11.717      0.000        -5.141    -3.667\n",
      "x57           -4.5018      0.363    -12.392      0.000        -5.214    -3.790\n",
      "x58           -4.3660      0.378    -11.544      0.000        -5.107    -3.625\n",
      "x59           -4.5063      0.366    -12.314      0.000        -5.224    -3.789\n",
      "x60           -4.7682      0.385    -12.396      0.000        -5.522    -4.014\n",
      "x61           -4.5211      0.357    -12.675      0.000        -5.220    -3.822\n",
      "x62           -4.4572      0.380    -11.718      0.000        -5.203    -3.712\n",
      "x63           -4.4706      0.361    -12.380      0.000        -5.178    -3.763\n",
      "x64           -4.4743      0.358    -12.495      0.000        -5.176    -3.772\n",
      "x65           -4.3556      0.358    -12.165      0.000        -5.057    -3.654\n",
      "x66           -4.4381      0.388    -11.450      0.000        -5.198    -3.678\n",
      "x67           -4.4729      0.353    -12.679      0.000        -5.164    -3.781\n",
      "x68           -4.4453      0.357    -12.463      0.000        -5.144    -3.746\n",
      "x69           -4.3951      0.370    -11.892      0.000        -5.120    -3.671\n",
      "x70           -4.3135      0.381    -11.322      0.000        -5.060    -3.567\n",
      "x71           -4.3985      0.363    -12.133      0.000        -5.109    -3.688\n",
      "x72           -4.1155      0.333    -12.359      0.000        -4.768    -3.463\n",
      "x73           -4.5748      0.369    -12.412      0.000        -5.297    -3.852\n",
      "x74           -4.4186      0.352    -12.555      0.000        -5.108    -3.729\n",
      "x75          -55.7011      4.777    -11.661      0.000       -65.064   -46.338\n",
      "x76          -55.6269      4.776    -11.647      0.000       -64.989   -46.265\n",
      "x77          -55.5663      4.777    -11.632      0.000       -64.930   -46.203\n",
      "x78          -55.5236      4.777    -11.623      0.000       -64.887   -46.160\n",
      "x79          -55.9802      4.778    -11.716      0.000       -65.346   -46.614\n",
      "x80          -55.5305      4.777    -11.624      0.000       -64.895   -46.166\n",
      "x81         -110.9112      9.554    -11.609      0.000      -129.638   -92.184\n",
      "x82         -111.3863      9.554    -11.659      0.000      -130.113   -92.660\n",
      "x83         -111.6311      9.554    -11.685      0.000      -130.357   -92.905\n",
      "x84          -66.7682      5.732    -11.648      0.000       -78.004   -55.532\n",
      "x85          -66.8615      5.732    -11.665      0.000       -78.097   -55.626\n",
      "x86          -66.7770      5.732    -11.649      0.000       -78.013   -55.541\n",
      "x87          -66.7369      5.732    -11.642      0.000       -77.973   -55.501\n",
      "x88          -66.7851      5.733    -11.650      0.000       -78.022   -55.548\n",
      "x89            4.1191      0.622      6.618      0.000         2.899     5.339\n",
      "x90           -5.5154      0.543    -10.164      0.000        -6.579    -4.452\n",
      "x91            0.0726      0.003     24.734      0.000         0.067     0.078\n",
      "x92            0.1785      0.009     20.068      0.000         0.161     0.196\n",
      "x93            0.2102      0.006     36.920      0.000         0.199     0.221\n",
      "x94           -0.0415      0.004     -9.277      0.000        -0.050    -0.033\n",
      "x95           -0.0027      0.000    -18.040      0.000        -0.003    -0.002\n",
      "x96            0.0042      0.001      5.999      0.000         0.003     0.006\n",
      "x97            0.0077      0.005      1.476      0.140        -0.003     0.018\n",
      "x98            0.0342      0.004      8.683      0.000         0.026     0.042\n",
      "x99            0.0119      0.006      2.158      0.031         0.001     0.023\n",
      "x100           0.0130      0.006      2.060      0.039         0.001     0.025\n",
      "x101           0.0029      0.004      0.672      0.502        -0.006     0.012\n",
      "x102          -0.0476      0.005     -8.939      0.000        -0.058    -0.037\n",
      "x103          -0.0144      0.001    -11.047      0.000        -0.017    -0.012\n",
      "==============================================================================\n",
      "Omnibus:                     5606.231   Durbin-Watson:                   2.022\n",
      "Prob(Omnibus):                  0.000   Jarque-Bera (JB):            46499.587\n",
      "Skew:                           1.245   Prob(JB):                         0.00\n",
      "Kurtosis:                      10.421   Cond. No.                     1.00e+16\n",
      "==============================================================================\n",
      "\n",
      "Warnings:\n",
      "[1] Standard Errors assume that the covariance matrix of the errors is correctly specified.\n",
      "[2] The smallest eigenvalue is 2.96e-24. This might indicate that there are\n",
      "strong multicollinearity problems or that the design matrix is singular.\n"
     ]
    }
   ],
   "source": [
    "#OLS\n",
    "X = sm.add_constant(x_train)\n",
    "model = sm.OLS(np.log(y_train),X)\n",
    "results = model.fit()\n",
    "print results.summary()"
   ]
  },
  {
   "cell_type": "markdown",
   "metadata": {},
   "source": [
    "$R^2$ is 0.663"
   ]
  },
  {
   "cell_type": "code",
   "execution_count": 19,
   "metadata": {
    "collapsed": false
   },
   "outputs": [
    {
     "name": "stdout",
     "output_type": "stream",
     "text": [
      " Train Score 0.663484435695\n",
      "Test Score 0.659456995631\n"
     ]
    }
   ],
   "source": [
    "#same OLS model with sklearn (easier to score but less detailed output)\n",
    "model = LinearRegression()\n",
    "model.fit(x_train, np.log(y_train))\n",
    "print \"Train Score\", model.score(x_train, np.log(y_train))\n",
    "print \"Test Score\", model.score(x_test, np.log(y_test))"
   ]
  },
  {
   "cell_type": "markdown",
   "metadata": {},
   "source": [
    "Interestingly, for this split the test set does better than the training set."
   ]
  },
  {
   "cell_type": "code",
   "execution_count": 20,
   "metadata": {
    "collapsed": false
   },
   "outputs": [
    {
     "name": "stdout",
     "output_type": "stream",
     "text": [
      "Train 0.663 Test 0.659\n",
      "Train 0.660 Test 0.668\n",
      "Train 0.658 Test 0.672\n",
      "Train 0.658 Test 0.673\n",
      "Train 0.657 Test 0.677\n",
      "Train 0.667 Test 0.652\n",
      "Train 0.664 Test 0.659\n",
      "Train 0.666 Test 0.655\n",
      "Train 0.662 Test 0.663\n",
      "Train 0.667 Test 0.652\n"
     ]
    }
   ],
   "source": [
    "#try several random seeds to check for stability and variance\n",
    "for r in range(10):\n",
    "    x_train, x_test, y_train, y_test = train_test_split(x, y, test_size=0.3, random_state=r)\n",
    "    model = LinearRegression()\n",
    "    model.fit(x_train, np.log(y_train))\n",
    "    print \"Train {:.3f} Test {:.3f}\".format(model.score(x_train, np.log(y_train)), model.score(x_test, np.log(y_test)))"
   ]
  },
  {
   "cell_type": "code",
   "execution_count": 21,
   "metadata": {
    "collapsed": false
   },
   "outputs": [
    {
     "data": {
      "text/plain": [
       "array([  2.41440325e-01,   7.04484144e-02,   2.11267244e-01,\n",
       "         4.50986058e-02,   1.96923704e-01,   2.00466488e-01,\n",
       "         1.08696323e-01,   2.58744032e-01,   2.21433681e-01,\n",
       "         2.50390305e-01,   2.43440383e-01,   2.59369151e-01,\n",
       "         2.93402077e-01,   2.72060093e-01,   9.01109517e-02,\n",
       "         1.48403458e-01,   1.59642368e-01,   2.86570058e-01,\n",
       "         8.88843631e-02,   4.02769837e-02,  -1.02441676e-01,\n",
       "        -1.77450213e-01,  -3.12881039e-01,   1.56151409e-01,\n",
       "        -1.37155564e-01,  -3.71559823e-01,  -4.62448875e-01,\n",
       "        -4.48144358e-01,  -4.89418607e-01,  -5.59794254e-01,\n",
       "        -2.19996118e-01,   1.72229713e-01,  -1.19633077e-01,\n",
       "         1.85396913e-01,  -4.42381403e-01,  -5.37627062e-01,\n",
       "         2.11636012e-01,   1.28757120e-01,   1.59110432e-01,\n",
       "         2.72530082e-01,  -6.93481277e-01,  -1.00227013e-03,\n",
       "        -6.21626831e-02,  -3.24971783e-02,  -6.18589978e-02,\n",
       "        -1.56424267e-01,  -1.11979742e-01,   1.67779700e-01,\n",
       "         1.88898556e-02,   8.17225782e-03,  -5.78924432e-02,\n",
       "        -3.91249376e-01,   1.42319501e-01,   1.55198733e-01,\n",
       "         2.95980819e-02,   4.98554350e-02,  -2.96597696e-02,\n",
       "         1.12155474e-01,  -5.45068912e-02,  -3.30511194e-01,\n",
       "        -5.13794621e-02,   4.66230608e-02,  -3.14396786e-02,\n",
       "        -5.18983968e-02,   4.15625514e-02,   2.86302973e-03,\n",
       "        -3.44225681e-02,   1.08034361e-02,   7.18758404e-02,\n",
       "         1.83023664e-01,   1.17686947e-01,   4.11199427e-01,\n",
       "        -4.85227105e-02,   3.93332907e-02,  -5.17460898e-02,\n",
       "         1.72532926e-02,   8.26739114e-02,   1.11362535e-01,\n",
       "        -3.23691899e-01,   1.64148250e-01,   4.01551762e-01,\n",
       "        -6.50215185e-02,  -3.36530243e-01,   2.22036217e-02,\n",
       "        -6.11036308e-02,  -1.03651223e-02,   1.69576780e-02,\n",
       "         3.23074534e-02,   3.26685004e+00,  -5.27289443e+00,\n",
       "         8.03700540e-02,   1.60943661e-01,   2.11743527e-01,\n",
       "        -4.84683409e-02,  -2.72892157e-03,   4.13081607e-03,\n",
       "         1.44205706e-02,   2.89216736e-02,   1.75131773e-02,\n",
       "         7.68457546e-03,   5.89752581e-03,  -5.19469578e-02,\n",
       "        -1.34952839e-02])"
      ]
     },
     "execution_count": 21,
     "metadata": {},
     "output_type": "execute_result"
    }
   ],
   "source": [
    "model.coef_"
   ]
  },
  {
   "cell_type": "markdown",
   "metadata": {
    "collapsed": true
   },
   "source": [
    "We check that the coefficients are reasonable (similar in magnitude).  Before we discarded the zipcodes with only a small number of data points, we observed high variance and numerical instability in the coefficents."
   ]
  }
 ],
 "metadata": {
  "anaconda-cloud": {},
  "kernelspec": {
   "display_name": "Python 2",
   "language": "python",
   "name": "python2"
  },
  "language_info": {
   "codemirror_mode": {
    "name": "ipython",
    "version": 2
   },
   "file_extension": ".py",
   "mimetype": "text/x-python",
   "name": "python",
   "nbconvert_exporter": "python",
   "pygments_lexer": "ipython2",
   "version": "2.7.12"
  }
 },
 "nbformat": 4,
 "nbformat_minor": 0
}
