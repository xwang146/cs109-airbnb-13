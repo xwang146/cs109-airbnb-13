{
 "cells": [
  {
   "cell_type": "code",
   "execution_count": 1,
   "metadata": {
    "collapsed": false
   },
   "outputs": [],
   "source": [
    "import pandas as pd\n",
    "import numpy as np\n",
    "import time\n",
    "from langdetect import detect\n",
    "import goslate\n",
    "from guess_language import guess_language as guess_lan\n",
    "import enchant"
   ]
  },
  {
   "cell_type": "code",
   "execution_count": 2,
   "metadata": {
    "collapsed": false
   },
   "outputs": [
    {
     "data": {
      "text/html": [
       "<div>\n",
       "<table border=\"1\" class=\"dataframe\">\n",
       "  <thead>\n",
       "    <tr style=\"text-align: right;\">\n",
       "      <th></th>\n",
       "      <th>listing_id</th>\n",
       "      <th>id</th>\n",
       "      <th>date</th>\n",
       "      <th>reviewer_id</th>\n",
       "      <th>reviewer_name</th>\n",
       "      <th>comments</th>\n",
       "    </tr>\n",
       "  </thead>\n",
       "  <tbody>\n",
       "    <tr>\n",
       "      <th>0</th>\n",
       "      <td>1180670</td>\n",
       "      <td>14705995</td>\n",
       "      <td>2014-06-24</td>\n",
       "      <td>10875598</td>\n",
       "      <td>Gregory</td>\n",
       "      <td>Ok, if you like the location and don't mind an...</td>\n",
       "    </tr>\n",
       "    <tr>\n",
       "      <th>1</th>\n",
       "      <td>4457617</td>\n",
       "      <td>24432844</td>\n",
       "      <td>2014-12-28</td>\n",
       "      <td>24502047</td>\n",
       "      <td>Amber</td>\n",
       "      <td>Kleine süße WG, super gelegen, sehr freundlich...</td>\n",
       "    </tr>\n",
       "    <tr>\n",
       "      <th>2</th>\n",
       "      <td>722394</td>\n",
       "      <td>9248781</td>\n",
       "      <td>2013-12-16</td>\n",
       "      <td>6821360</td>\n",
       "      <td>Giri</td>\n",
       "      <td>Extremely disappointed.</td>\n",
       "    </tr>\n",
       "    <tr>\n",
       "      <th>3</th>\n",
       "      <td>4074444</td>\n",
       "      <td>23983183</td>\n",
       "      <td>2014-12-15</td>\n",
       "      <td>8822691</td>\n",
       "      <td>Wendy</td>\n",
       "      <td>Exactly as described.</td>\n",
       "    </tr>\n",
       "    <tr>\n",
       "      <th>4</th>\n",
       "      <td>68046</td>\n",
       "      <td>11797670</td>\n",
       "      <td>2014-04-15</td>\n",
       "      <td>12231047</td>\n",
       "      <td>Virginie</td>\n",
       "      <td>Appartement très sympa, accueillant. A quelque...</td>\n",
       "    </tr>\n",
       "  </tbody>\n",
       "</table>\n",
       "</div>"
      ],
      "text/plain": [
       "   listing_id        id        date  reviewer_id reviewer_name  \\\n",
       "0     1180670  14705995  2014-06-24     10875598       Gregory   \n",
       "1     4457617  24432844  2014-12-28     24502047         Amber   \n",
       "2      722394   9248781  2013-12-16      6821360          Giri   \n",
       "3     4074444  23983183  2014-12-15      8822691         Wendy   \n",
       "4       68046  11797670  2014-04-15     12231047      Virginie   \n",
       "\n",
       "                                            comments  \n",
       "0  Ok, if you like the location and don't mind an...  \n",
       "1  Kleine süße WG, super gelegen, sehr freundlich...  \n",
       "2                            Extremely disappointed.  \n",
       "3                              Exactly as described.  \n",
       "4  Appartement très sympa, accueillant. A quelque...  "
      ]
     },
     "execution_count": 2,
     "metadata": {},
     "output_type": "execute_result"
    }
   ],
   "source": [
    "# read data\n",
    "reviews = pd.read_csv('./Data/reviews.csv')\n",
    "\n",
    "# check data\n",
    "reviews.head()"
   ]
  },
  {
   "cell_type": "code",
   "execution_count": 3,
   "metadata": {
    "collapsed": false
   },
   "outputs": [
    {
     "name": "stdout",
     "output_type": "stream",
     "text": [
      "277659\n",
      "Ok, if you like the location and don't mind an occasional roach.\n"
     ]
    }
   ],
   "source": [
    "print(reviews.shape[0])\n",
    "print(reviews.loc[0][\"comments\"])\n"
   ]
  },
  {
   "cell_type": "code",
   "execution_count": 4,
   "metadata": {
    "collapsed": false
   },
   "outputs": [],
   "source": [
    "reviews['null_review']=np.zeros([reviews.shape[0],])\n",
    "reviews['if_English']=np.zeros([reviews.shape[0],])"
   ]
  },
  {
   "cell_type": "code",
   "execution_count": 5,
   "metadata": {
    "collapsed": true
   },
   "outputs": [],
   "source": [
    "def check_null(row):\n",
    "    \n",
    "    if pd.isnull(row['comments']) is True:\n",
    "        return 1\n",
    "    else:\n",
    "        return 0"
   ]
  },
  {
   "cell_type": "code",
   "execution_count": 6,
   "metadata": {
    "collapsed": false
   },
   "outputs": [
    {
     "name": "stdout",
     "output_type": "stream",
     "text": [
      "(277495, 8)\n"
     ]
    }
   ],
   "source": [
    "# Clean up 'NaN' rows\n",
    "reviews['null_review'] = reviews.apply(check_null, axis=1)\n",
    "reviews = reviews[reviews['null_review'] == 0]\n",
    "# Check reduced data size\n",
    "print reviews.shape"
   ]
  },
  {
   "cell_type": "code",
   "execution_count": 9,
   "metadata": {
    "collapsed": true
   },
   "outputs": [],
   "source": [
    "# check if review is English\n",
    "def check_if_english1(row):\n",
    "    in_str = row['comments']\n",
    "    count_not_en = 0\n",
    "    words = in_str.split()\n",
    "    d = enchant.Dict(\"en_US\")\n",
    "    for idx in range(len(words)):\n",
    "        if d.check(words[idx]) is False:\n",
    "            count_not_en += 1\n",
    "    if float(count_not_en)/len(words) > 0.3:\n",
    "        return 0\n",
    "    else:\n",
    "        return 1"
   ]
  },
  {
   "cell_type": "code",
   "execution_count": 10,
   "metadata": {
    "collapsed": false
   },
   "outputs": [],
   "source": [
    "# Check if reviews are English\n",
    "reviews['if_English'] = reviews.apply(check_if_english1, axis=1)\n"
   ]
  },
  {
   "cell_type": "code",
   "execution_count": 22,
   "metadata": {
    "collapsed": false
   },
   "outputs": [
    {
     "name": "stdout",
     "output_type": "stream",
     "text": [
      "(252035, 7)\n"
     ]
    }
   ],
   "source": [
    "reviews_cleaned = pd.DataFrame(reviews[reviews['if_English']==1])\n",
    "reviews_cleaned=reviews_cleaned.drop('null_review', axis = 1)\n",
    "print reviews_cleaned.shape\n"
   ]
  },
  {
   "cell_type": "code",
   "execution_count": 24,
   "metadata": {
    "collapsed": false
   },
   "outputs": [
    {
     "data": {
      "text/plain": [
       "0.9077141385656506"
      ]
     },
     "execution_count": 24,
     "metadata": {},
     "output_type": "execute_result"
    }
   ],
   "source": [
    "float(reviews_cleaned.shape[0])/277659"
   ]
  },
  {
   "cell_type": "code",
   "execution_count": 28,
   "metadata": {
    "collapsed": false
   },
   "outputs": [
    {
     "data": {
      "text/html": [
       "<div>\n",
       "<table border=\"1\" class=\"dataframe\">\n",
       "  <thead>\n",
       "    <tr style=\"text-align: right;\">\n",
       "      <th></th>\n",
       "      <th>listing_id</th>\n",
       "      <th>id</th>\n",
       "      <th>date</th>\n",
       "      <th>reviewer_id</th>\n",
       "      <th>reviewer_name</th>\n",
       "      <th>comments</th>\n",
       "      <th>if_English</th>\n",
       "    </tr>\n",
       "  </thead>\n",
       "  <tbody>\n",
       "    <tr>\n",
       "      <th>1128</th>\n",
       "      <td>65985</td>\n",
       "      <td>5390957</td>\n",
       "      <td>2013-06-27</td>\n",
       "      <td>2940058</td>\n",
       "      <td>Sarah</td>\n",
       "      <td>I so enjoyed my stay at David's place which wa...</td>\n",
       "      <td>1</td>\n",
       "    </tr>\n",
       "    <tr>\n",
       "      <th>1129</th>\n",
       "      <td>65985</td>\n",
       "      <td>267165</td>\n",
       "      <td>2011-05-16</td>\n",
       "      <td>587693</td>\n",
       "      <td>Shane</td>\n",
       "      <td>David was the perfect host and Earnest was the...</td>\n",
       "      <td>1</td>\n",
       "    </tr>\n",
       "    <tr>\n",
       "      <th>1130</th>\n",
       "      <td>65985</td>\n",
       "      <td>5173454</td>\n",
       "      <td>2013-06-17</td>\n",
       "      <td>4657295</td>\n",
       "      <td>Lena</td>\n",
       "      <td>David has been the perfect host. We highly app...</td>\n",
       "      <td>1</td>\n",
       "    </tr>\n",
       "    <tr>\n",
       "      <th>1131</th>\n",
       "      <td>65985</td>\n",
       "      <td>5051846</td>\n",
       "      <td>2013-06-10</td>\n",
       "      <td>5734842</td>\n",
       "      <td>Graham</td>\n",
       "      <td>David is an amazing host! His apartment is ver...</td>\n",
       "      <td>1</td>\n",
       "    </tr>\n",
       "    <tr>\n",
       "      <th>1132</th>\n",
       "      <td>65985</td>\n",
       "      <td>4800183</td>\n",
       "      <td>2013-05-27</td>\n",
       "      <td>4973678</td>\n",
       "      <td>Salvatore</td>\n",
       "      <td>David is a fantastic host always happy to help...</td>\n",
       "      <td>1</td>\n",
       "    </tr>\n",
       "    <tr>\n",
       "      <th>1133</th>\n",
       "      <td>65985</td>\n",
       "      <td>4591937</td>\n",
       "      <td>2013-05-14</td>\n",
       "      <td>4761088</td>\n",
       "      <td>Augusto</td>\n",
       "      <td>David is a perfect host! His kindness goes bey...</td>\n",
       "      <td>1</td>\n",
       "    </tr>\n",
       "    <tr>\n",
       "      <th>1134</th>\n",
       "      <td>65985</td>\n",
       "      <td>4411284</td>\n",
       "      <td>2013-05-03</td>\n",
       "      <td>1694277</td>\n",
       "      <td>Ulrike</td>\n",
       "      <td>Thanks, David you are a great host and really ...</td>\n",
       "      <td>1</td>\n",
       "    </tr>\n",
       "    <tr>\n",
       "      <th>1135</th>\n",
       "      <td>65985</td>\n",
       "      <td>4115244</td>\n",
       "      <td>2013-04-11</td>\n",
       "      <td>3781773</td>\n",
       "      <td>Horst</td>\n",
       "      <td>We really loved staying at David's! He's such...</td>\n",
       "      <td>1</td>\n",
       "    </tr>\n",
       "    <tr>\n",
       "      <th>1136</th>\n",
       "      <td>65985</td>\n",
       "      <td>4058239</td>\n",
       "      <td>2013-04-06</td>\n",
       "      <td>4009958</td>\n",
       "      <td>Janis</td>\n",
       "      <td>David's apartment is well kept and easy to get...</td>\n",
       "      <td>1</td>\n",
       "    </tr>\n",
       "    <tr>\n",
       "      <th>1137</th>\n",
       "      <td>65985</td>\n",
       "      <td>4040082</td>\n",
       "      <td>2013-04-05</td>\n",
       "      <td>4433748</td>\n",
       "      <td>Jan</td>\n",
       "      <td>David was an amazing host. He was always helpf...</td>\n",
       "      <td>1</td>\n",
       "    </tr>\n",
       "    <tr>\n",
       "      <th>1138</th>\n",
       "      <td>65985</td>\n",
       "      <td>3989625</td>\n",
       "      <td>2013-04-01</td>\n",
       "      <td>594740</td>\n",
       "      <td>Tyler</td>\n",
       "      <td>David was an excellent host who was both frien...</td>\n",
       "      <td>1</td>\n",
       "    </tr>\n",
       "    <tr>\n",
       "      <th>1139</th>\n",
       "      <td>65985</td>\n",
       "      <td>3951848</td>\n",
       "      <td>2013-03-30</td>\n",
       "      <td>5398154</td>\n",
       "      <td>Mireille</td>\n",
       "      <td>We really enjoyed our stay at David's place. D...</td>\n",
       "      <td>1</td>\n",
       "    </tr>\n",
       "    <tr>\n",
       "      <th>1140</th>\n",
       "      <td>65985</td>\n",
       "      <td>3887218</td>\n",
       "      <td>2013-03-25</td>\n",
       "      <td>4754936</td>\n",
       "      <td>Antonia</td>\n",
       "      <td>David was a great host!! His appartment is lov...</td>\n",
       "      <td>1</td>\n",
       "    </tr>\n",
       "    <tr>\n",
       "      <th>1141</th>\n",
       "      <td>65985</td>\n",
       "      <td>3804902</td>\n",
       "      <td>2013-03-17</td>\n",
       "      <td>4788650</td>\n",
       "      <td>Elisa</td>\n",
       "      <td>We had a great stay at David's, the appartment...</td>\n",
       "      <td>1</td>\n",
       "    </tr>\n",
       "    <tr>\n",
       "      <th>1142</th>\n",
       "      <td>65985</td>\n",
       "      <td>3747394</td>\n",
       "      <td>2013-03-11</td>\n",
       "      <td>4929238</td>\n",
       "      <td>Melissa</td>\n",
       "      <td>We had a wonderful time at David's apartment. ...</td>\n",
       "      <td>1</td>\n",
       "    </tr>\n",
       "    <tr>\n",
       "      <th>1143</th>\n",
       "      <td>65985</td>\n",
       "      <td>252812</td>\n",
       "      <td>2011-05-05</td>\n",
       "      <td>472866</td>\n",
       "      <td>Kevin</td>\n",
       "      <td>David is awesome and very chill ... Ernest is ...</td>\n",
       "      <td>1</td>\n",
       "    </tr>\n",
       "    <tr>\n",
       "      <th>1144</th>\n",
       "      <td>65985</td>\n",
       "      <td>3689370</td>\n",
       "      <td>2013-03-04</td>\n",
       "      <td>1360378</td>\n",
       "      <td>Déborah</td>\n",
       "      <td>I had a pleasant stay at  David's place. The a...</td>\n",
       "      <td>1</td>\n",
       "    </tr>\n",
       "    <tr>\n",
       "      <th>1145</th>\n",
       "      <td>65985</td>\n",
       "      <td>3665548</td>\n",
       "      <td>2013-03-01</td>\n",
       "      <td>5221196</td>\n",
       "      <td>James</td>\n",
       "      <td>This was the first time I had used Airbnb. Eve...</td>\n",
       "      <td>1</td>\n",
       "    </tr>\n",
       "    <tr>\n",
       "      <th>1146</th>\n",
       "      <td>65985</td>\n",
       "      <td>3648068</td>\n",
       "      <td>2013-02-27</td>\n",
       "      <td>2081441</td>\n",
       "      <td>Gaëlle</td>\n",
       "      <td>A short but sweet time at David's:\\nRicky and ...</td>\n",
       "      <td>1</td>\n",
       "    </tr>\n",
       "    <tr>\n",
       "      <th>1147</th>\n",
       "      <td>65985</td>\n",
       "      <td>3517504</td>\n",
       "      <td>2013-02-11</td>\n",
       "      <td>4796927</td>\n",
       "      <td>Maria</td>\n",
       "      <td>Let me preface by stating that my husband and ...</td>\n",
       "      <td>1</td>\n",
       "    </tr>\n",
       "  </tbody>\n",
       "</table>\n",
       "</div>"
      ],
      "text/plain": [
       "      listing_id       id        date  reviewer_id reviewer_name  \\\n",
       "1128       65985  5390957  2013-06-27      2940058         Sarah   \n",
       "1129       65985   267165  2011-05-16       587693         Shane   \n",
       "1130       65985  5173454  2013-06-17      4657295          Lena   \n",
       "1131       65985  5051846  2013-06-10      5734842        Graham   \n",
       "1132       65985  4800183  2013-05-27      4973678     Salvatore   \n",
       "1133       65985  4591937  2013-05-14      4761088       Augusto   \n",
       "1134       65985  4411284  2013-05-03      1694277        Ulrike   \n",
       "1135       65985  4115244  2013-04-11      3781773         Horst   \n",
       "1136       65985  4058239  2013-04-06      4009958         Janis   \n",
       "1137       65985  4040082  2013-04-05      4433748           Jan   \n",
       "1138       65985  3989625  2013-04-01       594740         Tyler   \n",
       "1139       65985  3951848  2013-03-30      5398154      Mireille   \n",
       "1140       65985  3887218  2013-03-25      4754936       Antonia   \n",
       "1141       65985  3804902  2013-03-17      4788650         Elisa   \n",
       "1142       65985  3747394  2013-03-11      4929238       Melissa   \n",
       "1143       65985   252812  2011-05-05       472866         Kevin   \n",
       "1144       65985  3689370  2013-03-04      1360378       Déborah   \n",
       "1145       65985  3665548  2013-03-01      5221196         James   \n",
       "1146       65985  3648068  2013-02-27      2081441        Gaëlle   \n",
       "1147       65985  3517504  2013-02-11      4796927         Maria   \n",
       "\n",
       "                                               comments  if_English  \n",
       "1128  I so enjoyed my stay at David's place which wa...           1  \n",
       "1129  David was the perfect host and Earnest was the...           1  \n",
       "1130  David has been the perfect host. We highly app...           1  \n",
       "1131  David is an amazing host! His apartment is ver...           1  \n",
       "1132  David is a fantastic host always happy to help...           1  \n",
       "1133  David is a perfect host! His kindness goes bey...           1  \n",
       "1134  Thanks, David you are a great host and really ...           1  \n",
       "1135   We really loved staying at David's! He's such...           1  \n",
       "1136  David's apartment is well kept and easy to get...           1  \n",
       "1137  David was an amazing host. He was always helpf...           1  \n",
       "1138  David was an excellent host who was both frien...           1  \n",
       "1139  We really enjoyed our stay at David's place. D...           1  \n",
       "1140  David was a great host!! His appartment is lov...           1  \n",
       "1141  We had a great stay at David's, the appartment...           1  \n",
       "1142  We had a wonderful time at David's apartment. ...           1  \n",
       "1143  David is awesome and very chill ... Ernest is ...           1  \n",
       "1144  I had a pleasant stay at  David's place. The a...           1  \n",
       "1145  This was the first time I had used Airbnb. Eve...           1  \n",
       "1146  A short but sweet time at David's:\\nRicky and ...           1  \n",
       "1147  Let me preface by stating that my husband and ...           1  "
      ]
     },
     "execution_count": 28,
     "metadata": {},
     "output_type": "execute_result"
    }
   ],
   "source": [
    "reviews_cleaned[1000:1020]"
   ]
  },
  {
   "cell_type": "code",
   "execution_count": 27,
   "metadata": {
    "collapsed": false
   },
   "outputs": [],
   "source": [
    "reviews_cleaned.to_csv('./Data/reviews_cleaned.csv', sep=',', index = False)"
   ]
  }
 ],
 "metadata": {
  "anaconda-cloud": {},
  "kernelspec": {
   "display_name": "Python [py27]",
   "language": "python",
   "name": "Python [py27]"
  },
  "language_info": {
   "codemirror_mode": {
    "name": "ipython",
    "version": 2
   },
   "file_extension": ".py",
   "mimetype": "text/x-python",
   "name": "python",
   "nbconvert_exporter": "python",
   "pygments_lexer": "ipython2",
   "version": "2.7.12"
  }
 },
 "nbformat": 4,
 "nbformat_minor": 0
}
