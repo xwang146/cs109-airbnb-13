{
 "cells": [
  {
   "cell_type": "markdown",
   "metadata": {},
   "source": [
    "## AC209a project - clean and visualize calendar.csv ##\n"
   ]
  },
  {
   "cell_type": "code",
   "execution_count": 1,
   "metadata": {
    "collapsed": true
   },
   "outputs": [],
   "source": [
    "import pandas as pd\n",
    "import time\n",
    "from langdetect import detect\n",
    "import goslate\n",
    "from matplotlib import dates\n",
    "import numpy as np\n",
    "import matplotlib\n",
    "import matplotlib.pyplot as plt\n",
    "\n",
    "import scipy as sp\n",
    "from scipy.stats import mode\n",
    "\n",
    "%matplotlib inline"
   ]
  },
  {
   "cell_type": "markdown",
   "metadata": {},
   "source": [
    "## Data cleaning for calendar1.csv ##\n",
    "- Solve \"2,000\" or \"1,400\" case (with ',' same as delimiter)\n",
    "- convert date string to number\n",
    "- remove unavailabe listings\n"
   ]
  },
  {
   "cell_type": "code",
   "execution_count": 2,
   "metadata": {
    "collapsed": false
   },
   "outputs": [
    {
     "data": {
      "text/html": [
       "<div>\n",
       "<table border=\"1\" class=\"dataframe\">\n",
       "  <thead>\n",
       "    <tr style=\"text-align: right;\">\n",
       "      <th></th>\n",
       "      <th>listing_id</th>\n",
       "      <th>date</th>\n",
       "      <th>available</th>\n",
       "      <th>price</th>\n",
       "      <th>etc</th>\n",
       "    </tr>\n",
       "  </thead>\n",
       "  <tbody>\n",
       "    <tr>\n",
       "      <th>0</th>\n",
       "      <td>3604481</td>\n",
       "      <td>2015-01-01</td>\n",
       "      <td>t</td>\n",
       "      <td>$600.00</td>\n",
       "      <td>NaN</td>\n",
       "    </tr>\n",
       "    <tr>\n",
       "      <th>1</th>\n",
       "      <td>3604481</td>\n",
       "      <td>2015-01-02</td>\n",
       "      <td>t</td>\n",
       "      <td>$600.00</td>\n",
       "      <td>NaN</td>\n",
       "    </tr>\n",
       "    <tr>\n",
       "      <th>2</th>\n",
       "      <td>3604481</td>\n",
       "      <td>2015-01-03</td>\n",
       "      <td>t</td>\n",
       "      <td>$600.00</td>\n",
       "      <td>NaN</td>\n",
       "    </tr>\n",
       "    <tr>\n",
       "      <th>3</th>\n",
       "      <td>3604481</td>\n",
       "      <td>2015-01-04</td>\n",
       "      <td>t</td>\n",
       "      <td>$600.00</td>\n",
       "      <td>NaN</td>\n",
       "    </tr>\n",
       "    <tr>\n",
       "      <th>4</th>\n",
       "      <td>3604481</td>\n",
       "      <td>2015-01-05</td>\n",
       "      <td>t</td>\n",
       "      <td>$600.00</td>\n",
       "      <td>NaN</td>\n",
       "    </tr>\n",
       "  </tbody>\n",
       "</table>\n",
       "</div>"
      ],
      "text/plain": [
       "   listing_id        date available    price  etc\n",
       "0     3604481  2015-01-01         t  $600.00  NaN\n",
       "1     3604481  2015-01-02         t  $600.00  NaN\n",
       "2     3604481  2015-01-03         t  $600.00  NaN\n",
       "3     3604481  2015-01-04         t  $600.00  NaN\n",
       "4     3604481  2015-01-05         t  $600.00  NaN"
      ]
     },
     "execution_count": 2,
     "metadata": {},
     "output_type": "execute_result"
    }
   ],
   "source": [
    "# read data\n",
    "calendar = pd.read_csv('./Data/calendar1.csv', delimiter = ',')\n",
    "\n",
    "# check data\n",
    "calendar.head()\n"
   ]
  },
  {
   "cell_type": "code",
   "execution_count": 3,
   "metadata": {
    "collapsed": false
   },
   "outputs": [
    {
     "data": {
      "text/plain": [
       "(9998080, 5)"
      ]
     },
     "execution_count": 3,
     "metadata": {},
     "output_type": "execute_result"
    }
   ],
   "source": [
    "# check entries in original data\n",
    "calendar.shape"
   ]
  },
  {
   "cell_type": "code",
   "execution_count": 91,
   "metadata": {
    "collapsed": false
   },
   "outputs": [],
   "source": [
    "# --------------\n",
    "# clean up price\n",
    "# --------------\n",
    "\n",
    "# get only available entries\n",
    "available = pd.DataFrame(calendar[calendar[\"available\"] == \"t\"])\n",
    "\n",
    "# insert a column to store cleaned price\n",
    "available.insert(3, \"price_cleaned\", np.zeros((available.shape[0],1)))\n",
    "\n",
    "# convert price string to number\n",
    "available[\"price\"]=available[\"price\"].map(lambda x: x.lstrip(\"$\"))\n",
    "available[\"price\"] = available[\"price\"].apply(pd.to_numeric)\n",
    "\n",
    "# find indices for price < 1000 and >= 1000\n",
    "index_low = available[pd.isnull(available[\"etc\"])].index\n",
    "index_high = available[pd.notnull(available[\"etc\"])].index\n",
    "\n",
    "# clean up price and store in price_cleaned\n",
    "available.loc[index_low,\"price_cleaned\"]=available.loc[index_low,\"price\"]\n",
    "available.loc[index_high,\"price_cleaned\"]=available.loc[index_high,\"price\"]*1000 + available.loc[index_high,\"etc\"]\n",
    "\n",
    "# remove columns \"price\" and \"etc\"\n",
    "available.drop(\"etc\", axis=1, inplace=True)\n",
    "available.drop(\"price\", axis=1, inplace=True)\n",
    "\n",
    "# save to csv\n",
    "available.to_csv('./Data/calendar_cleaned.csv', delimiter = ',')"
   ]
  },
  {
   "cell_type": "code",
   "execution_count": 64,
   "metadata": {
    "collapsed": false
   },
   "outputs": [
    {
     "name": "stdout",
     "output_type": "stream",
     "text": [
      "(7201883, 5)\n"
     ]
    }
   ],
   "source": [
    "# check how many entries are left\n",
    "print available.shape"
   ]
  },
  {
   "cell_type": "code",
   "execution_count": 109,
   "metadata": {
    "collapsed": true
   },
   "outputs": [],
   "source": [
    "# remove columns \"price\" and \"etc\"\n",
    "available.drop(\"etc\", axis=1, inplace=True)\n",
    "available.drop(\"price\", axis=1, inplace=True)\n",
    "\n",
    "# save to csv\n",
    "available.to_csv('./Data/calendar_cleaned.csv', delimiter = ',', index = False)"
   ]
  },
  {
   "cell_type": "markdown",
   "metadata": {},
   "source": [
    "## Data exploration ##"
   ]
  },
  {
   "cell_type": "code",
   "execution_count": 2,
   "metadata": {
    "collapsed": false
   },
   "outputs": [
    {
     "data": {
      "text/html": [
       "<div>\n",
       "<table border=\"1\" class=\"dataframe\">\n",
       "  <thead>\n",
       "    <tr style=\"text-align: right;\">\n",
       "      <th></th>\n",
       "      <th>listing_id</th>\n",
       "      <th>date</th>\n",
       "      <th>available</th>\n",
       "      <th>price_cleaned</th>\n",
       "    </tr>\n",
       "  </thead>\n",
       "  <tbody>\n",
       "    <tr>\n",
       "      <th>0</th>\n",
       "      <td>3604481</td>\n",
       "      <td>2015-01-01</td>\n",
       "      <td>t</td>\n",
       "      <td>600.0</td>\n",
       "    </tr>\n",
       "    <tr>\n",
       "      <th>1</th>\n",
       "      <td>3604481</td>\n",
       "      <td>2015-01-02</td>\n",
       "      <td>t</td>\n",
       "      <td>600.0</td>\n",
       "    </tr>\n",
       "    <tr>\n",
       "      <th>2</th>\n",
       "      <td>3604481</td>\n",
       "      <td>2015-01-03</td>\n",
       "      <td>t</td>\n",
       "      <td>600.0</td>\n",
       "    </tr>\n",
       "    <tr>\n",
       "      <th>3</th>\n",
       "      <td>3604481</td>\n",
       "      <td>2015-01-04</td>\n",
       "      <td>t</td>\n",
       "      <td>600.0</td>\n",
       "    </tr>\n",
       "    <tr>\n",
       "      <th>4</th>\n",
       "      <td>3604481</td>\n",
       "      <td>2015-01-05</td>\n",
       "      <td>t</td>\n",
       "      <td>600.0</td>\n",
       "    </tr>\n",
       "  </tbody>\n",
       "</table>\n",
       "</div>"
      ],
      "text/plain": [
       "   listing_id        date available  price_cleaned\n",
       "0     3604481  2015-01-01         t          600.0\n",
       "1     3604481  2015-01-02         t          600.0\n",
       "2     3604481  2015-01-03         t          600.0\n",
       "3     3604481  2015-01-04         t          600.0\n",
       "4     3604481  2015-01-05         t          600.0"
      ]
     },
     "execution_count": 2,
     "metadata": {},
     "output_type": "execute_result"
    }
   ],
   "source": [
    "# read data\n",
    "data = pd.read_csv('./Data/calendar_cleaned.csv', delimiter = ',')\n",
    "\n",
    "# check data\n",
    "data.head()\n"
   ]
  },
  {
   "cell_type": "code",
   "execution_count": 13,
   "metadata": {
    "collapsed": false
   },
   "outputs": [
    {
     "name": "stdout",
     "output_type": "stream",
     "text": [
      "Total number of listings in data: 7201883\n"
     ]
    }
   ],
   "source": [
    "print 'Total number of listings in data: ' + str(data.shape[0])"
   ]
  },
  {
   "cell_type": "code",
   "execution_count": 4,
   "metadata": {
    "collapsed": false
   },
   "outputs": [],
   "source": [
    "# parse year, month, and day\n",
    "data['date'] = pd.to_datetime(data['date'])\n",
    "data['year'], data['month'], data['day'] = \\\n",
    "data['date'].dt.year, data['date'].dt.month, data['date'].dt.day\n"
   ]
  },
  {
   "cell_type": "code",
   "execution_count": 5,
   "metadata": {
    "collapsed": false
   },
   "outputs": [
    {
     "data": {
      "text/html": [
       "<div>\n",
       "<table border=\"1\" class=\"dataframe\">\n",
       "  <thead>\n",
       "    <tr style=\"text-align: right;\">\n",
       "      <th></th>\n",
       "      <th>listing_id</th>\n",
       "      <th>date</th>\n",
       "      <th>available</th>\n",
       "      <th>price_cleaned</th>\n",
       "      <th>year</th>\n",
       "      <th>month</th>\n",
       "      <th>day</th>\n",
       "    </tr>\n",
       "  </thead>\n",
       "  <tbody>\n",
       "    <tr>\n",
       "      <th>0</th>\n",
       "      <td>3604481</td>\n",
       "      <td>2015-01-01</td>\n",
       "      <td>t</td>\n",
       "      <td>600.0</td>\n",
       "      <td>2015</td>\n",
       "      <td>1</td>\n",
       "      <td>1</td>\n",
       "    </tr>\n",
       "    <tr>\n",
       "      <th>1</th>\n",
       "      <td>3604481</td>\n",
       "      <td>2015-01-02</td>\n",
       "      <td>t</td>\n",
       "      <td>600.0</td>\n",
       "      <td>2015</td>\n",
       "      <td>1</td>\n",
       "      <td>2</td>\n",
       "    </tr>\n",
       "    <tr>\n",
       "      <th>2</th>\n",
       "      <td>3604481</td>\n",
       "      <td>2015-01-03</td>\n",
       "      <td>t</td>\n",
       "      <td>600.0</td>\n",
       "      <td>2015</td>\n",
       "      <td>1</td>\n",
       "      <td>3</td>\n",
       "    </tr>\n",
       "    <tr>\n",
       "      <th>3</th>\n",
       "      <td>3604481</td>\n",
       "      <td>2015-01-04</td>\n",
       "      <td>t</td>\n",
       "      <td>600.0</td>\n",
       "      <td>2015</td>\n",
       "      <td>1</td>\n",
       "      <td>4</td>\n",
       "    </tr>\n",
       "    <tr>\n",
       "      <th>4</th>\n",
       "      <td>3604481</td>\n",
       "      <td>2015-01-05</td>\n",
       "      <td>t</td>\n",
       "      <td>600.0</td>\n",
       "      <td>2015</td>\n",
       "      <td>1</td>\n",
       "      <td>5</td>\n",
       "    </tr>\n",
       "  </tbody>\n",
       "</table>\n",
       "</div>"
      ],
      "text/plain": [
       "   listing_id       date available  price_cleaned  year  month  day\n",
       "0     3604481 2015-01-01         t          600.0  2015      1    1\n",
       "1     3604481 2015-01-02         t          600.0  2015      1    2\n",
       "2     3604481 2015-01-03         t          600.0  2015      1    3\n",
       "3     3604481 2015-01-04         t          600.0  2015      1    4\n",
       "4     3604481 2015-01-05         t          600.0  2015      1    5"
      ]
     },
     "execution_count": 5,
     "metadata": {},
     "output_type": "execute_result"
    }
   ],
   "source": [
    "# select year 2015 data\n",
    "index_2015 = data[data['year'] == 2015].index\n",
    "data_2015 = pd.DataFrame(data.loc[index_2015])\n",
    "data_2015.head()"
   ]
  },
  {
   "cell_type": "markdown",
   "metadata": {},
   "source": [
    "### Check listings vs month ###"
   ]
  },
  {
   "cell_type": "code",
   "execution_count": 17,
   "metadata": {
    "collapsed": false
   },
   "outputs": [],
   "source": [
    "# count listings vs month\n",
    "np_mon = np.array(data_2015['month'])\n",
    "np_mon_count = np.zeros((12,))\n",
    "\n",
    "for idx_mon in range(12):\n",
    "    np_mon_count[idx_mon] = np.sum(np_mon == (idx_mon + 1))\n"
   ]
  },
  {
   "cell_type": "code",
   "execution_count": 20,
   "metadata": {
    "collapsed": false
   },
   "outputs": [
    {
     "data": {
      "image/png": "[encoded data removed]",
      "text/plain": [
       "<matplotlib.figure.Figure at 0x11cba1790>"
      ]
     },
     "metadata": {},
     "output_type": "display_data"
    }
   ],
   "source": [
    "# plot listings vs month\n",
    "matplotlib.rcParams['font.size'] = 16\n",
    "fig, ax = plt.subplots(1, 1, figsize=(8, 5))\n",
    "ax.plot(range(1,13,1), np_mon_count, 'bo-', label = 'listings', alpha = 0.8)\n",
    "ax.set_xlabel('month', fontsize=16)\n",
    "ax.set_ylabel('num of listings', fontsize=16)\n",
    "ax.set_title('num listings vs month (2015)', fontsize=16)\n",
    "ax.set_xlim([1,12])\n",
    "plt.xticks(range(1,13,1))\n",
    "plt.legend(loc = 2, fontsize = 14)\n",
    "plt.show() "
   ]
  },
  {
   "cell_type": "markdown",
   "metadata": {},
   "source": [
    "### Check listings vs price ###"
   ]
  },
  {
   "cell_type": "code",
   "execution_count": 15,
   "metadata": {
    "collapsed": false
   },
   "outputs": [],
   "source": [
    "# check price distribution\n",
    "np_price = np.array(data_2015['price_cleaned'])\n",
    "\n",
    "price_cat = [0, 75, 150, 300, 10000]\n",
    "np_price_count = np.zeros(len(price_cat) - 1)\n",
    "\n",
    "for idx_price in range(len(price_cat) -1):\n",
    "    \n",
    "    np_price_count[idx_price] = np.sum(np.multiply(np_price > price_cat[idx_price], \\\n",
    "                                                   np_price <= price_cat[idx_price + 1]))\n",
    " "
   ]
  },
  {
   "cell_type": "code",
   "execution_count": 19,
   "metadata": {
    "collapsed": false
   },
   "outputs": [
    {
     "data": {
      "image/png": "[encoded data removed]",
      "text/plain": [
       "<matplotlib.figure.Figure at 0x11d84b390>"
      ]
     },
     "metadata": {},
     "output_type": "display_data"
    }
   ],
   "source": [
    "# plot povstings price distribution\n",
    "fig, ax = plt.subplots(1, 1, figsize=(6, 6))\n",
    "\n",
    "labels = ['<=75', 'price<=150', '<=300', '< 10000']\n",
    "fracs = np_price_count/len(np_price)\n",
    "explode= [0, 0.05, 0, 0]\n",
    "colors = ['yellowgreen', 'gold', 'lightskyblue', 'lightcoral']\n",
    "\n",
    "ax.pie(fracs, explode=explode, labels=labels, colors=colors,\n",
    "                autopct='%1.1f%%', shadow=True, startangle=0)\n",
    "\n",
    "ax.set_title('listing price distribution (2015)', fontsize=20)\n",
    "\n",
    "plt.show()"
   ]
  },
  {
   "cell_type": "markdown",
   "metadata": {},
   "source": [
    "### Check listings and price by listing_id ###"
   ]
  },
  {
   "cell_type": "code",
   "execution_count": 6,
   "metadata": {
    "collapsed": false
   },
   "outputs": [],
   "source": [
    "# --------------\n",
    "# check listings and price by listing_id\n",
    "# --------------\n",
    "# group data by listing_id\n",
    "grouped_id = data_2015.groupby('listing_id')\n",
    "# get a pandas series of id_size\n",
    "id_size = grouped_id.size()\n",
    "\n",
    "# get group size by id\n",
    "size_by_id = id_size.values\n",
    "\n",
    "# get mean price by id\n",
    "grouped_mean = grouped_id.mean()\n",
    "price_by_id = grouped_mean['price_cleaned'].values\n"
   ]
  },
  {
   "cell_type": "code",
   "execution_count": 7,
   "metadata": {
    "collapsed": false
   },
   "outputs": [
    {
     "name": "stdout",
     "output_type": "stream",
     "text": [
      "Total number of listing_id: 26622\n"
     ]
    }
   ],
   "source": [
    "# print total number of listing_id\n",
    "print 'Total number of listing_id: ' + str(len(grouped_id.size()))"
   ]
  },
  {
   "cell_type": "code",
   "execution_count": 22,
   "metadata": {
    "collapsed": false
   },
   "outputs": [
    {
     "name": "stdout",
     "output_type": "stream",
     "text": [
      "Proportion of landlords post more than 300 days in 2015: 0.610810607768\n"
     ]
    }
   ],
   "source": [
    "print 'Proportion of landlords post more than 300 days in 2015: ' + str(float(sum(size_by_id >= 300))/26622)"
   ]
  },
  {
   "cell_type": "code",
   "execution_count": 26,
   "metadata": {
    "collapsed": false
   },
   "outputs": [
    {
     "data": {
      "text/plain": [
       "<matplotlib.text.Text at 0x11990c210>"
      ]
     },
     "execution_count": 26,
     "metadata": {},
     "output_type": "execute_result"
    },
    {
     "data": {
      "image/png": "[encoded data removed]",
      "text/plain": [
       "<matplotlib.figure.Figure at 0x1267a4950>"
      ]
     },
     "metadata": {},
     "output_type": "display_data"
    }
   ],
   "source": [
    "# plot listing_id data\n",
    "fig, ax = plt.subplots(1, 2, figsize=(18, 5))\n",
    "\n",
    "# plot listings by listing_id\n",
    "ax[0].hist(size_by_id, bins=36, color='limegreen', alpha=0.8)\n",
    "\n",
    "ax[0].set_xlabel('number of listings in 2015', fontsize=16)\n",
    "ax[0].set_ylabel('frequency', fontsize=16)\n",
    "ax[0].set_title('listings by listing_id', fontsize=18)\n",
    "ax[0].set_xlim([0,370])\n",
    "\n",
    "# plot listings by listing_id\n",
    "ax[1].hist(price_by_id, bins=36, color='lightskyblue', alpha=0.8)\n",
    "\n",
    "ax[1].set_xlabel('price', fontsize=16)\n",
    "ax[1].set_ylabel('frequency', fontsize=16)\n",
    "ax[1].set_title('price by listing_id', fontsize=18)\n"
   ]
  },
  {
   "cell_type": "markdown",
   "metadata": {},
   "source": [
    "### Check price vs month ###"
   ]
  },
  {
   "cell_type": "code",
   "execution_count": 7,
   "metadata": {
    "collapsed": false
   },
   "outputs": [],
   "source": [
    "# --------------\n",
    "# check price by month\n",
    "# --------------\n",
    "# group data by month\n",
    "grouped_mon = data_2015.groupby('month')\n",
    "# get a pandas series of id_size\n",
    "mon_size = grouped_mon.size()\n",
    "\n",
    "# get group size by mon\n",
    "size_by_mon = mon_size.values\n",
    "\n",
    "# get mean price by mon\n",
    "grouped_mon_mean = grouped_mon.mean()\n",
    "price_by_mon = grouped_mon_mean['price_cleaned'].values\n"
   ]
  },
  {
   "cell_type": "code",
   "execution_count": 11,
   "metadata": {
    "collapsed": false
   },
   "outputs": [
    {
     "data": {
      "image/png": "[encoded data removed]",
      "text/plain": [
       "<matplotlib.figure.Figure at 0x11a9bdd90>"
      ]
     },
     "metadata": {},
     "output_type": "display_data"
    }
   ],
   "source": [
    "# plot price vs month\n",
    "fig, ax = plt.subplots(1, 1, figsize=(8, 5))\n",
    "ax.plot(range(1,13,1), price_by_mon, 'bo-', label = 'price', alpha = 0.8)\n",
    "ax.set_xlabel('month', fontsize=16)\n",
    "ax.set_ylabel('average price', fontsize=16)\n",
    "ax.set_title('average price vs month (2015)', fontsize=16)\n",
    "ax.set_xlim([1,12])\n",
    "plt.xticks(range(1,13,1))\n",
    "plt.legend(loc = 4, fontsize = 14)\n",
    "plt.show() "
   ]
  }
 ],
 "metadata": {
  "anaconda-cloud": {},
  "kernelspec": {
   "display_name": "Python [py27]",
   "language": "python",
   "name": "Python [py27]"
  },
  "language_info": {
   "codemirror_mode": {
    "name": "ipython",
    "version": 2
   },
   "file_extension": ".py",
   "mimetype": "text/x-python",
   "name": "python",
   "nbconvert_exporter": "python",
   "pygments_lexer": "ipython2",
   "version": "2.7.12"
  }
 },
 "nbformat": 4,
 "nbformat_minor": 0
}
