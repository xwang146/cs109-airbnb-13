{
 "cells": [
  {
   "cell_type": "code",
   "execution_count": 1,
   "metadata": {
    "collapsed": true
   },
   "outputs": [],
   "source": [
    "import numpy as np\n",
    "import pandas as pd\n",
    "import itertools as it\n",
    "import matplotlib\n",
    "import matplotlib.pyplot as plt\n",
    "import matplotlib.cm as cmx\n",
    "import matplotlib.colors as colors\n",
    "import scipy as sp\n",
    "import statsmodels.api as sm\n",
    "from itertools import combinations\n",
    "from sklearn import preprocessing\n",
    "from sklearn.cross_validation import train_test_split\n",
    "from sklearn.linear_model import LinearRegression\n",
    "from collections import Counter\n",
    "from sklearn import ensemble\n",
    "from sklearn.cross_validation import KFold\n",
    "from sklearn import svm\n",
    "%matplotlib inline"
   ]
  },
  {
   "cell_type": "code",
   "execution_count": 2,
   "metadata": {
    "collapsed": false
   },
   "outputs": [
    {
     "name": "stdout",
     "output_type": "stream",
     "text": [
      "['id' 'host_since' 'zipcode' 'latitude' 'longitude' 'property_type'\n",
      " 'room_type' 'accommodates' 'bathrooms' 'bedrooms' 'beds' 'bed_type'\n",
      " 'guests_included' 'minimum_nights' 'maximum_nights' 'availability_30'\n",
      " 'availability_60' 'availability_90' 'availability_365' 'number_of_reviews'\n",
      " 'first_review' 'last_review' 'review_scores_rating'\n",
      " 'review_scores_accuracy' 'review_scores_cleanliness'\n",
      " 'review_scores_checkin' 'review_scores_communication'\n",
      " 'review_scores_location' 'review_scores_value' 'host_listing_count'\n",
      " 'price']\n"
     ]
    },
    {
     "data": {
      "text/html": [
       "<div>\n",
       "<table border=\"1\" class=\"dataframe\">\n",
       "  <thead>\n",
       "    <tr style=\"text-align: right;\">\n",
       "      <th></th>\n",
       "      <th>id</th>\n",
       "      <th>host_since</th>\n",
       "      <th>zipcode</th>\n",
       "      <th>latitude</th>\n",
       "      <th>longitude</th>\n",
       "      <th>property_type</th>\n",
       "      <th>room_type</th>\n",
       "      <th>accommodates</th>\n",
       "      <th>bathrooms</th>\n",
       "      <th>bedrooms</th>\n",
       "      <th>...</th>\n",
       "      <th>last_review</th>\n",
       "      <th>review_scores_rating</th>\n",
       "      <th>review_scores_accuracy</th>\n",
       "      <th>review_scores_cleanliness</th>\n",
       "      <th>review_scores_checkin</th>\n",
       "      <th>review_scores_communication</th>\n",
       "      <th>review_scores_location</th>\n",
       "      <th>review_scores_value</th>\n",
       "      <th>host_listing_count</th>\n",
       "      <th>price</th>\n",
       "    </tr>\n",
       "  </thead>\n",
       "  <tbody>\n",
       "    <tr>\n",
       "      <th>0</th>\n",
       "      <td>1069266</td>\n",
       "      <td>1926</td>\n",
       "      <td>10022.0</td>\n",
       "      <td>40.756852</td>\n",
       "      <td>-73.964754</td>\n",
       "      <td>0</td>\n",
       "      <td>0</td>\n",
       "      <td>2</td>\n",
       "      <td>1.0</td>\n",
       "      <td>1.0</td>\n",
       "      <td>...</td>\n",
       "      <td>2542.0</td>\n",
       "      <td>86.0</td>\n",
       "      <td>9.0</td>\n",
       "      <td>7.0</td>\n",
       "      <td>9.0</td>\n",
       "      <td>9.0</td>\n",
       "      <td>10.0</td>\n",
       "      <td>9.0</td>\n",
       "      <td>1</td>\n",
       "      <td>160</td>\n",
       "    </tr>\n",
       "    <tr>\n",
       "      <th>1</th>\n",
       "      <td>1846722</td>\n",
       "      <td>1625</td>\n",
       "      <td>NaN</td>\n",
       "      <td>40.830599</td>\n",
       "      <td>-73.941014</td>\n",
       "      <td>0</td>\n",
       "      <td>0</td>\n",
       "      <td>10</td>\n",
       "      <td>1.0</td>\n",
       "      <td>3.0</td>\n",
       "      <td>...</td>\n",
       "      <td>2554.0</td>\n",
       "      <td>85.0</td>\n",
       "      <td>8.0</td>\n",
       "      <td>8.0</td>\n",
       "      <td>9.0</td>\n",
       "      <td>8.0</td>\n",
       "      <td>7.0</td>\n",
       "      <td>8.0</td>\n",
       "      <td>2</td>\n",
       "      <td>105</td>\n",
       "    </tr>\n",
       "    <tr>\n",
       "      <th>2</th>\n",
       "      <td>2061725</td>\n",
       "      <td>1831</td>\n",
       "      <td>11221.0</td>\n",
       "      <td>40.692189</td>\n",
       "      <td>-73.924120</td>\n",
       "      <td>0</td>\n",
       "      <td>1</td>\n",
       "      <td>2</td>\n",
       "      <td>1.0</td>\n",
       "      <td>1.0</td>\n",
       "      <td>...</td>\n",
       "      <td>2554.0</td>\n",
       "      <td>98.0</td>\n",
       "      <td>10.0</td>\n",
       "      <td>10.0</td>\n",
       "      <td>10.0</td>\n",
       "      <td>10.0</td>\n",
       "      <td>9.0</td>\n",
       "      <td>10.0</td>\n",
       "      <td>4</td>\n",
       "      <td>58</td>\n",
       "    </tr>\n",
       "    <tr>\n",
       "      <th>3</th>\n",
       "      <td>44974</td>\n",
       "      <td>953</td>\n",
       "      <td>10011.0</td>\n",
       "      <td>40.734751</td>\n",
       "      <td>-74.002592</td>\n",
       "      <td>0</td>\n",
       "      <td>0</td>\n",
       "      <td>2</td>\n",
       "      <td>1.0</td>\n",
       "      <td>1.0</td>\n",
       "      <td>...</td>\n",
       "      <td>2494.0</td>\n",
       "      <td>96.0</td>\n",
       "      <td>10.0</td>\n",
       "      <td>9.0</td>\n",
       "      <td>10.0</td>\n",
       "      <td>10.0</td>\n",
       "      <td>10.0</td>\n",
       "      <td>9.0</td>\n",
       "      <td>1</td>\n",
       "      <td>185</td>\n",
       "    </tr>\n",
       "    <tr>\n",
       "      <th>4</th>\n",
       "      <td>4701675</td>\n",
       "      <td>2479</td>\n",
       "      <td>10011.0</td>\n",
       "      <td>40.745282</td>\n",
       "      <td>-73.997836</td>\n",
       "      <td>0</td>\n",
       "      <td>0</td>\n",
       "      <td>2</td>\n",
       "      <td>1.0</td>\n",
       "      <td>1.0</td>\n",
       "      <td>...</td>\n",
       "      <td>2533.0</td>\n",
       "      <td>100.0</td>\n",
       "      <td>10.0</td>\n",
       "      <td>10.0</td>\n",
       "      <td>10.0</td>\n",
       "      <td>10.0</td>\n",
       "      <td>10.0</td>\n",
       "      <td>10.0</td>\n",
       "      <td>1</td>\n",
       "      <td>195</td>\n",
       "    </tr>\n",
       "  </tbody>\n",
       "</table>\n",
       "<p>5 rows × 31 columns</p>\n",
       "</div>"
      ],
      "text/plain": [
       "        id  host_since  zipcode   latitude  longitude  property_type  \\\n",
       "0  1069266        1926  10022.0  40.756852 -73.964754              0   \n",
       "1  1846722        1625      NaN  40.830599 -73.941014              0   \n",
       "2  2061725        1831  11221.0  40.692189 -73.924120              0   \n",
       "3    44974         953  10011.0  40.734751 -74.002592              0   \n",
       "4  4701675        2479  10011.0  40.745282 -73.997836              0   \n",
       "\n",
       "   room_type  accommodates  bathrooms  bedrooms  ...    last_review  \\\n",
       "0          0             2        1.0       1.0  ...         2542.0   \n",
       "1          0            10        1.0       3.0  ...         2554.0   \n",
       "2          1             2        1.0       1.0  ...         2554.0   \n",
       "3          0             2        1.0       1.0  ...         2494.0   \n",
       "4          0             2        1.0       1.0  ...         2533.0   \n",
       "\n",
       "   review_scores_rating  review_scores_accuracy  review_scores_cleanliness  \\\n",
       "0                  86.0                     9.0                        7.0   \n",
       "1                  85.0                     8.0                        8.0   \n",
       "2                  98.0                    10.0                       10.0   \n",
       "3                  96.0                    10.0                        9.0   \n",
       "4                 100.0                    10.0                       10.0   \n",
       "\n",
       "   review_scores_checkin  review_scores_communication  review_scores_location  \\\n",
       "0                    9.0                          9.0                    10.0   \n",
       "1                    9.0                          8.0                     7.0   \n",
       "2                   10.0                         10.0                     9.0   \n",
       "3                   10.0                         10.0                    10.0   \n",
       "4                   10.0                         10.0                    10.0   \n",
       "\n",
       "   review_scores_value  host_listing_count  price  \n",
       "0                  9.0                   1    160  \n",
       "1                  8.0                   2    105  \n",
       "2                 10.0                   4     58  \n",
       "3                  9.0                   1    185  \n",
       "4                 10.0                   1    195  \n",
       "\n",
       "[5 rows x 31 columns]"
      ]
     },
     "execution_count": 2,
     "metadata": {},
     "output_type": "execute_result"
    }
   ],
   "source": [
    "#read the data\n",
    "df = pd.read_csv('listings_clean.csv')\n",
    "print(df.columns.values)\n",
    "df.head()"
   ]
  },
  {
   "cell_type": "code",
   "execution_count": 3,
   "metadata": {
    "collapsed": false
   },
   "outputs": [
    {
     "data": {
      "text/plain": [
       "(27392, 31)"
      ]
     },
     "execution_count": 3,
     "metadata": {},
     "output_type": "execute_result"
    }
   ],
   "source": [
    "df.shape"
   ]
  },
  {
   "cell_type": "markdown",
   "metadata": {},
   "source": [
    "### Remove 5% samples from smallest zipcode clusters ###"
   ]
  },
  {
   "cell_type": "code",
   "execution_count": 4,
   "metadata": {
    "collapsed": false
   },
   "outputs": [
    {
     "name": "stdout",
     "output_type": "stream",
     "text": [
      "Remaining data proportion: 0.94976635514\n",
      "(26016, 31)\n"
     ]
    }
   ],
   "source": [
    "# remove small zipcode clusters, with 95% data left\n",
    "# count each zipcode entries\n",
    "nb_counts = Counter(df['zipcode'])\n",
    "tdf = pd.DataFrame.from_dict(nb_counts, orient='index').sort_values(by=0)\n",
    "# select clusters with size >= 50\n",
    "tdf1 = tdf[tdf.values>=50]\n",
    "print 'Remaining data proportion: ' + str(float(sum(tdf1.values))/df.shape[0])\n",
    "# get zipcode clusters\n",
    "zipcode_included = tdf1.index\n",
    "\n",
    "df1 = df.loc[df['zipcode'].isin(zipcode_included)]\n",
    "print df1.shape"
   ]
  },
  {
   "cell_type": "code",
   "execution_count": 5,
   "metadata": {
    "collapsed": false
   },
   "outputs": [],
   "source": [
    "y = df1['price']"
   ]
  },
  {
   "cell_type": "code",
   "execution_count": 6,
   "metadata": {
    "collapsed": false
   },
   "outputs": [
    {
     "data": {
      "text/html": [
       "<div>\n",
       "<table border=\"1\" class=\"dataframe\">\n",
       "  <thead>\n",
       "    <tr style=\"text-align: right;\">\n",
       "      <th></th>\n",
       "      <th>zipcode</th>\n",
       "      <th>latitude</th>\n",
       "      <th>longitude</th>\n",
       "      <th>property_type</th>\n",
       "      <th>room_type</th>\n",
       "      <th>accommodates</th>\n",
       "      <th>bathrooms</th>\n",
       "      <th>bedrooms</th>\n",
       "      <th>beds</th>\n",
       "      <th>bed_type</th>\n",
       "      <th>number_of_reviews</th>\n",
       "      <th>review_scores_rating</th>\n",
       "      <th>review_scores_accuracy</th>\n",
       "      <th>review_scores_cleanliness</th>\n",
       "      <th>review_scores_checkin</th>\n",
       "      <th>review_scores_communication</th>\n",
       "      <th>review_scores_location</th>\n",
       "      <th>review_scores_value</th>\n",
       "      <th>host_listing_count</th>\n",
       "    </tr>\n",
       "  </thead>\n",
       "  <tbody>\n",
       "    <tr>\n",
       "      <th>0</th>\n",
       "      <td>10022.0</td>\n",
       "      <td>40.756852</td>\n",
       "      <td>-73.964754</td>\n",
       "      <td>0</td>\n",
       "      <td>0</td>\n",
       "      <td>2</td>\n",
       "      <td>1.0</td>\n",
       "      <td>1.0</td>\n",
       "      <td>1.0</td>\n",
       "      <td>0</td>\n",
       "      <td>62</td>\n",
       "      <td>86.0</td>\n",
       "      <td>9.0</td>\n",
       "      <td>7.0</td>\n",
       "      <td>9.0</td>\n",
       "      <td>9.0</td>\n",
       "      <td>10.0</td>\n",
       "      <td>9.0</td>\n",
       "      <td>1</td>\n",
       "    </tr>\n",
       "    <tr>\n",
       "      <th>2</th>\n",
       "      <td>11221.0</td>\n",
       "      <td>40.692189</td>\n",
       "      <td>-73.924120</td>\n",
       "      <td>0</td>\n",
       "      <td>1</td>\n",
       "      <td>2</td>\n",
       "      <td>1.0</td>\n",
       "      <td>1.0</td>\n",
       "      <td>2.0</td>\n",
       "      <td>0</td>\n",
       "      <td>35</td>\n",
       "      <td>98.0</td>\n",
       "      <td>10.0</td>\n",
       "      <td>10.0</td>\n",
       "      <td>10.0</td>\n",
       "      <td>10.0</td>\n",
       "      <td>9.0</td>\n",
       "      <td>10.0</td>\n",
       "      <td>4</td>\n",
       "    </tr>\n",
       "    <tr>\n",
       "      <th>3</th>\n",
       "      <td>10011.0</td>\n",
       "      <td>40.734751</td>\n",
       "      <td>-74.002592</td>\n",
       "      <td>0</td>\n",
       "      <td>0</td>\n",
       "      <td>2</td>\n",
       "      <td>1.0</td>\n",
       "      <td>1.0</td>\n",
       "      <td>1.0</td>\n",
       "      <td>0</td>\n",
       "      <td>26</td>\n",
       "      <td>96.0</td>\n",
       "      <td>10.0</td>\n",
       "      <td>9.0</td>\n",
       "      <td>10.0</td>\n",
       "      <td>10.0</td>\n",
       "      <td>10.0</td>\n",
       "      <td>9.0</td>\n",
       "      <td>1</td>\n",
       "    </tr>\n",
       "    <tr>\n",
       "      <th>4</th>\n",
       "      <td>10011.0</td>\n",
       "      <td>40.745282</td>\n",
       "      <td>-73.997836</td>\n",
       "      <td>0</td>\n",
       "      <td>0</td>\n",
       "      <td>2</td>\n",
       "      <td>1.0</td>\n",
       "      <td>1.0</td>\n",
       "      <td>2.0</td>\n",
       "      <td>0</td>\n",
       "      <td>1</td>\n",
       "      <td>100.0</td>\n",
       "      <td>10.0</td>\n",
       "      <td>10.0</td>\n",
       "      <td>10.0</td>\n",
       "      <td>10.0</td>\n",
       "      <td>10.0</td>\n",
       "      <td>10.0</td>\n",
       "      <td>1</td>\n",
       "    </tr>\n",
       "    <tr>\n",
       "      <th>5</th>\n",
       "      <td>11231.0</td>\n",
       "      <td>40.679060</td>\n",
       "      <td>-73.994730</td>\n",
       "      <td>0</td>\n",
       "      <td>0</td>\n",
       "      <td>6</td>\n",
       "      <td>1.0</td>\n",
       "      <td>2.0</td>\n",
       "      <td>3.0</td>\n",
       "      <td>0</td>\n",
       "      <td>16</td>\n",
       "      <td>96.0</td>\n",
       "      <td>10.0</td>\n",
       "      <td>9.0</td>\n",
       "      <td>10.0</td>\n",
       "      <td>9.0</td>\n",
       "      <td>10.0</td>\n",
       "      <td>9.0</td>\n",
       "      <td>2</td>\n",
       "    </tr>\n",
       "  </tbody>\n",
       "</table>\n",
       "</div>"
      ],
      "text/plain": [
       "   zipcode   latitude  longitude  property_type  room_type  accommodates  \\\n",
       "0  10022.0  40.756852 -73.964754              0          0             2   \n",
       "2  11221.0  40.692189 -73.924120              0          1             2   \n",
       "3  10011.0  40.734751 -74.002592              0          0             2   \n",
       "4  10011.0  40.745282 -73.997836              0          0             2   \n",
       "5  11231.0  40.679060 -73.994730              0          0             6   \n",
       "\n",
       "   bathrooms  bedrooms  beds  bed_type  number_of_reviews  \\\n",
       "0        1.0       1.0   1.0         0                 62   \n",
       "2        1.0       1.0   2.0         0                 35   \n",
       "3        1.0       1.0   1.0         0                 26   \n",
       "4        1.0       1.0   2.0         0                  1   \n",
       "5        1.0       2.0   3.0         0                 16   \n",
       "\n",
       "   review_scores_rating  review_scores_accuracy  review_scores_cleanliness  \\\n",
       "0                  86.0                     9.0                        7.0   \n",
       "2                  98.0                    10.0                       10.0   \n",
       "3                  96.0                    10.0                        9.0   \n",
       "4                 100.0                    10.0                       10.0   \n",
       "5                  96.0                    10.0                        9.0   \n",
       "\n",
       "   review_scores_checkin  review_scores_communication  review_scores_location  \\\n",
       "0                    9.0                          9.0                    10.0   \n",
       "2                   10.0                         10.0                     9.0   \n",
       "3                   10.0                         10.0                    10.0   \n",
       "4                   10.0                         10.0                    10.0   \n",
       "5                   10.0                          9.0                    10.0   \n",
       "\n",
       "   review_scores_value  host_listing_count  \n",
       "0                  9.0                   1  \n",
       "2                 10.0                   4  \n",
       "3                  9.0                   1  \n",
       "4                 10.0                   1  \n",
       "5                  9.0                   2  "
      ]
     },
     "execution_count": 6,
     "metadata": {},
     "output_type": "execute_result"
    }
   ],
   "source": [
    "#Feature Extraction:\n",
    "#Use the features we decided last time\n",
    "features = ['zipcode', 'latitude', 'longitude', 'property_type', 'room_type', 'accommodates', \n",
    "            'bathrooms', 'bedrooms', 'beds', 'bed_type', 'number_of_reviews', 'review_scores_rating',\n",
    "            'review_scores_accuracy', 'review_scores_cleanliness', \n",
    "            'review_scores_checkin', 'review_scores_communication', \n",
    "            'review_scores_location', 'review_scores_value', 'host_listing_count']\n",
    "\n",
    "df_x = df1[features]\n",
    "df_x.head()"
   ]
  },
  {
   "cell_type": "markdown",
   "metadata": {},
   "source": [
    "Now we start imputing missing values. We fill in numerical values with the mean of its columns, fill in categorical values with most common value of its column."
   ]
  },
  {
   "cell_type": "code",
   "execution_count": 7,
   "metadata": {
    "collapsed": false
   },
   "outputs": [
    {
     "data": {
      "text/html": [
       "<div>\n",
       "<table border=\"1\" class=\"dataframe\">\n",
       "  <thead>\n",
       "    <tr style=\"text-align: right;\">\n",
       "      <th></th>\n",
       "      <th>zipcode</th>\n",
       "      <th>property_type</th>\n",
       "      <th>room_type</th>\n",
       "      <th>bed_type</th>\n",
       "      <th>latitude</th>\n",
       "      <th>longitude</th>\n",
       "      <th>accommodates</th>\n",
       "      <th>bathrooms</th>\n",
       "      <th>bedrooms</th>\n",
       "      <th>beds</th>\n",
       "      <th>number_of_reviews</th>\n",
       "      <th>review_scores_rating</th>\n",
       "      <th>review_scores_accuracy</th>\n",
       "      <th>review_scores_cleanliness</th>\n",
       "      <th>review_scores_checkin</th>\n",
       "      <th>review_scores_communication</th>\n",
       "      <th>review_scores_location</th>\n",
       "      <th>review_scores_value</th>\n",
       "      <th>host_listing_count</th>\n",
       "    </tr>\n",
       "  </thead>\n",
       "  <tbody>\n",
       "    <tr>\n",
       "      <th>0</th>\n",
       "      <td>10022.0</td>\n",
       "      <td>0</td>\n",
       "      <td>0</td>\n",
       "      <td>0</td>\n",
       "      <td>40.756852</td>\n",
       "      <td>-73.964754</td>\n",
       "      <td>2</td>\n",
       "      <td>1.0</td>\n",
       "      <td>1.0</td>\n",
       "      <td>1.0</td>\n",
       "      <td>62</td>\n",
       "      <td>86.0</td>\n",
       "      <td>9.0</td>\n",
       "      <td>7.0</td>\n",
       "      <td>9.0</td>\n",
       "      <td>9.0</td>\n",
       "      <td>10.0</td>\n",
       "      <td>9.0</td>\n",
       "      <td>1</td>\n",
       "    </tr>\n",
       "    <tr>\n",
       "      <th>2</th>\n",
       "      <td>11221.0</td>\n",
       "      <td>0</td>\n",
       "      <td>1</td>\n",
       "      <td>0</td>\n",
       "      <td>40.692189</td>\n",
       "      <td>-73.924120</td>\n",
       "      <td>2</td>\n",
       "      <td>1.0</td>\n",
       "      <td>1.0</td>\n",
       "      <td>2.0</td>\n",
       "      <td>35</td>\n",
       "      <td>98.0</td>\n",
       "      <td>10.0</td>\n",
       "      <td>10.0</td>\n",
       "      <td>10.0</td>\n",
       "      <td>10.0</td>\n",
       "      <td>9.0</td>\n",
       "      <td>10.0</td>\n",
       "      <td>4</td>\n",
       "    </tr>\n",
       "    <tr>\n",
       "      <th>3</th>\n",
       "      <td>10011.0</td>\n",
       "      <td>0</td>\n",
       "      <td>0</td>\n",
       "      <td>0</td>\n",
       "      <td>40.734751</td>\n",
       "      <td>-74.002592</td>\n",
       "      <td>2</td>\n",
       "      <td>1.0</td>\n",
       "      <td>1.0</td>\n",
       "      <td>1.0</td>\n",
       "      <td>26</td>\n",
       "      <td>96.0</td>\n",
       "      <td>10.0</td>\n",
       "      <td>9.0</td>\n",
       "      <td>10.0</td>\n",
       "      <td>10.0</td>\n",
       "      <td>10.0</td>\n",
       "      <td>9.0</td>\n",
       "      <td>1</td>\n",
       "    </tr>\n",
       "    <tr>\n",
       "      <th>4</th>\n",
       "      <td>10011.0</td>\n",
       "      <td>0</td>\n",
       "      <td>0</td>\n",
       "      <td>0</td>\n",
       "      <td>40.745282</td>\n",
       "      <td>-73.997836</td>\n",
       "      <td>2</td>\n",
       "      <td>1.0</td>\n",
       "      <td>1.0</td>\n",
       "      <td>2.0</td>\n",
       "      <td>1</td>\n",
       "      <td>100.0</td>\n",
       "      <td>10.0</td>\n",
       "      <td>10.0</td>\n",
       "      <td>10.0</td>\n",
       "      <td>10.0</td>\n",
       "      <td>10.0</td>\n",
       "      <td>10.0</td>\n",
       "      <td>1</td>\n",
       "    </tr>\n",
       "    <tr>\n",
       "      <th>5</th>\n",
       "      <td>11231.0</td>\n",
       "      <td>0</td>\n",
       "      <td>0</td>\n",
       "      <td>0</td>\n",
       "      <td>40.679060</td>\n",
       "      <td>-73.994730</td>\n",
       "      <td>6</td>\n",
       "      <td>1.0</td>\n",
       "      <td>2.0</td>\n",
       "      <td>3.0</td>\n",
       "      <td>16</td>\n",
       "      <td>96.0</td>\n",
       "      <td>10.0</td>\n",
       "      <td>9.0</td>\n",
       "      <td>10.0</td>\n",
       "      <td>9.0</td>\n",
       "      <td>10.0</td>\n",
       "      <td>9.0</td>\n",
       "      <td>2</td>\n",
       "    </tr>\n",
       "  </tbody>\n",
       "</table>\n",
       "</div>"
      ],
      "text/plain": [
       "   zipcode  property_type  room_type  bed_type   latitude  longitude  \\\n",
       "0  10022.0              0          0         0  40.756852 -73.964754   \n",
       "2  11221.0              0          1         0  40.692189 -73.924120   \n",
       "3  10011.0              0          0         0  40.734751 -74.002592   \n",
       "4  10011.0              0          0         0  40.745282 -73.997836   \n",
       "5  11231.0              0          0         0  40.679060 -73.994730   \n",
       "\n",
       "   accommodates  bathrooms  bedrooms  beds  number_of_reviews  \\\n",
       "0             2        1.0       1.0   1.0                 62   \n",
       "2             2        1.0       1.0   2.0                 35   \n",
       "3             2        1.0       1.0   1.0                 26   \n",
       "4             2        1.0       1.0   2.0                  1   \n",
       "5             6        1.0       2.0   3.0                 16   \n",
       "\n",
       "   review_scores_rating  review_scores_accuracy  review_scores_cleanliness  \\\n",
       "0                  86.0                     9.0                        7.0   \n",
       "2                  98.0                    10.0                       10.0   \n",
       "3                  96.0                    10.0                        9.0   \n",
       "4                 100.0                    10.0                       10.0   \n",
       "5                  96.0                    10.0                        9.0   \n",
       "\n",
       "   review_scores_checkin  review_scores_communication  review_scores_location  \\\n",
       "0                    9.0                          9.0                    10.0   \n",
       "2                   10.0                         10.0                     9.0   \n",
       "3                   10.0                         10.0                    10.0   \n",
       "4                   10.0                         10.0                    10.0   \n",
       "5                   10.0                          9.0                    10.0   \n",
       "\n",
       "   review_scores_value  host_listing_count  \n",
       "0                  9.0                   1  \n",
       "2                 10.0                   4  \n",
       "3                  9.0                   1  \n",
       "4                 10.0                   1  \n",
       "5                  9.0                   2  "
      ]
     },
     "execution_count": 7,
     "metadata": {},
     "output_type": "execute_result"
    }
   ],
   "source": [
    "#categorical and numerical column names\n",
    "cate = ['zipcode', 'property_type', 'room_type', 'bed_type']\n",
    "nume = [c for c in df_x.columns.values if c not in cate]\n",
    "\n",
    "#fill categorical with mode, numerical with mean\n",
    "df_x_cate = df_x[cate].apply(lambda x:x.fillna(x.value_counts().index[0]))\n",
    "df_x_nume = df_x[nume].apply(lambda x:x.fillna(x.mean()))\n",
    "\n",
    "df_x = pd.concat([df_x_cate, df_x_nume], axis=1)\n",
    "df_x.head()"
   ]
  },
  {
   "cell_type": "markdown",
   "metadata": {},
   "source": [
    "Now we encode categorical variables."
   ]
  },
  {
   "cell_type": "code",
   "execution_count": 8,
   "metadata": {
    "collapsed": false
   },
   "outputs": [
    {
     "data": {
      "text/plain": [
       "array([[  0.,   0.,   0., ...,  10.,   9.,   1.],\n",
       "       [  0.,   0.,   0., ...,   9.,  10.,   4.],\n",
       "       [  0.,   0.,   0., ...,  10.,   9.,   1.],\n",
       "       ..., \n",
       "       [  0.,   0.,   0., ...,   9.,   8.,  15.],\n",
       "       [  0.,   0.,   0., ...,   9.,  10.,   7.],\n",
       "       [  0.,   0.,   0., ...,  10.,  10.,   2.]])"
      ]
     },
     "execution_count": 8,
     "metadata": {},
     "output_type": "execute_result"
    }
   ],
   "source": [
    "# Get numpy array from data\n",
    "x = df_x.values\n",
    "\n",
    "# Apply one hot endcoing\n",
    "categorical = [(c in cate) for c in df_x.columns]\n",
    "encoder = preprocessing.OneHotEncoder(categorical_features=categorical, sparse=False)  \n",
    "\n",
    "x = encoder.fit_transform(x)\n",
    "x"
   ]
  },
  {
   "cell_type": "code",
   "execution_count": 9,
   "metadata": {
    "collapsed": false
   },
   "outputs": [
    {
     "name": "stdout",
     "output_type": "stream",
     "text": [
      "(26016, 103)\n",
      "(26016,)\n"
     ]
    }
   ],
   "source": [
    "print x.shape\n",
    "print y.shape"
   ]
  },
  {
   "cell_type": "markdown",
   "metadata": {},
   "source": [
    "Now we've already preprocessed data in both files. We could start build models. We split our training dataset into train data and test data."
   ]
  },
  {
   "cell_type": "markdown",
   "metadata": {
    "collapsed": false
   },
   "source": [
    "Now let's try random forest model.\n",
    "Three important parameters of `sklearn`'s Random Forest module that influence the model fit are the *number of trees*, `n_estimators`, the number of predictors to consider for each split, `max_features`, and the maximum depth of the trees, `max_depth`. Below, we'll tune all the these parameters, using 5-fold cross-validation."
   ]
  },
  {
   "cell_type": "code",
   "execution_count": 33,
   "metadata": {
    "collapsed": true
   },
   "outputs": [],
   "source": [
    "x_train, x_test, y_train, y_test = train_test_split(x, y, test_size=0.3, random_state=0)\n",
    "y_train = y_train.values\n",
    "y_test = y_test.values"
   ]
  },
  {
   "cell_type": "code",
   "execution_count": null,
   "metadata": {
    "collapsed": true
   },
   "outputs": [],
   "source": [
    "import sys\n",
    "# Parameters for tuning\n",
    "n_trees = np.arange(10, 100, 10) # Trees and depth are explored on an exponentially growing space,\n",
    "depths = np.arange(2, 10)   # since it is assumed that trees and depth will add accuracy in a decaying fashion.\n",
    "n_features = np.arange(10, 55, 5)\n",
    "# To keep track of the best model\n",
    "best_score = 0\n",
    "\n",
    "# Run grid search for model with 5-fold cross validation\n",
    "#print '5-fold cross validation:'\n",
    "\n",
    "num_loops = len(n_trees) * len(depths) * len(n_features)\n",
    "count=0\n",
    "\n",
    "for trees in n_trees:\n",
    "    for depth in depths:\n",
    "        for features in n_features:\n",
    "        \n",
    "            # Cross validation for every experiment\n",
    "            k_folds = KFold(x_train.shape[0], n_folds=5, shuffle=True)\n",
    "            scores = []\n",
    "            for train_indices, validation_indices in k_folds:\n",
    "\n",
    "                # Generate training data\n",
    "                x_train_cv = x_train[train_indices]\n",
    "                y_train_cv = y_train[train_indices]\n",
    "                # Generate validation data\n",
    "                x_validate = x_train[validation_indices]\n",
    "                y_validate = y_train[validation_indices]\n",
    "\n",
    "                # Fit random forest on training data\n",
    "                model = ensemble.RandomForestRegressor(n_estimators=trees, max_depth=depth, max_features=features)\n",
    "                model.fit(x_train_cv, y_train_cv)\n",
    "                # Score on validation data\n",
    "                scores += [model.score(x_validate, y_validate)]\n",
    "\n",
    "            # Record and report accuracy\n",
    "            average_score = np.mean(scores)\n",
    "            #print \"Trees:\", trees, \"Depth:\", depth, \"max_features\", features, \"Score:\", average_score\n",
    "            \n",
    "            #Print progress\n",
    "            count=count+1\n",
    "            sys.stdout.write(\"\\r{0}% completed\".format((float(count)/num_loops)*100))\n",
    "            sys.stdout.flush()\n",
    "            # Update our record of the best parameters see so far\n",
    "            if average_score > best_score:\n",
    "                best_score = average_score\n",
    "                best_trees = trees\n",
    "                best_depth = depth\n",
    "                best_features = features\n"
   ]
  },
  {
   "cell_type": "markdown",
   "metadata": {},
   "source": [
    "(Note: Sorry that I accidently deleted the output showing the progress. It takes around an hour to tune in total.)"
   ]
  },
  {
   "cell_type": "code",
   "execution_count": 34,
   "metadata": {
    "collapsed": false
   },
   "outputs": [
    {
     "name": "stdout",
     "output_type": "stream",
     "text": [
      "Chosen number of trees, depth: 70 , 8 , 35\n",
      "Test accuracy: 0.375879343643\n"
     ]
    }
   ],
   "source": [
    "# Fit model on entire train set using chosen number of trees and depth\n",
    "model = ensemble.RandomForestRegressor(n_estimators=best_trees, max_depth=best_depth, max_features=best_features )\n",
    "model.fit(x_train, y_train)\n",
    "print 'Chosen number of trees, depth:', best_trees, ',', best_depth, ',', best_features\n",
    "print 'Test accuracy:', model.score(x_test, y_test)"
   ]
  },
  {
   "cell_type": "code",
   "execution_count": 28,
   "metadata": {
    "collapsed": false
   },
   "outputs": [
    {
     "name": "stdout",
     "output_type": "stream",
     "text": [
      "Train 0.602 Test 0.376\n",
      "Train 0.599 Test 0.364\n",
      "Train 0.619 Test 0.363\n",
      "Train 0.610 Test 0.308\n",
      "Train 0.625 Test 0.379\n",
      "Train 0.634 Test 0.329\n",
      "Train 0.616 Test 0.346\n",
      "Train 0.601 Test 0.379\n",
      "Train 0.605 Test 0.396\n",
      "Train 0.613 Test 0.336\n"
     ]
    }
   ],
   "source": [
    "for r in range(10):\n",
    "    x_train, x_test, y_train, y_test = train_test_split(x, y, test_size=0.3, random_state=r)\n",
    "    y_train = y_train.values\n",
    "    y_test = y_test.values\n",
    "    model = ensemble.RandomForestRegressor(n_estimators=best_trees, max_depth=best_depth, max_features=best_features)\n",
    "    model.fit(x_train, y_train)\n",
    "    print \"Train {:.3f} Test {:.3f}\".format(model.score(x_train, y_train), model.score(x_test, y_test))"
   ]
  },
  {
   "cell_type": "markdown",
   "metadata": {},
   "source": [
    "It seems that random forest model can help to improve our prediction accuracy. Recall that the score of our previous OLS model is 0.30. Using tuned random forest model, the score could be improved to around 0.37."
   ]
  },
  {
   "cell_type": "code",
   "execution_count": 10,
   "metadata": {
    "collapsed": false
   },
   "outputs": [
    {
     "name": "stdout",
     "output_type": "stream",
     "text": [
      "Train 0.093 Test 0.078\n"
     ]
    }
   ],
   "source": [
    "#SVM\n",
    "from math import pow\n",
    "\n",
    "x_train, x_test, y_train, y_test = train_test_split(x, y, test_size=0.3, random_state=0)\n",
    "\n",
    "\n",
    "model = svm.SVC()\n",
    "model.fit(x_train, y_train)\n",
    "print \"Train {:.3f} Test {:.3f}\".format(model.score(x_train, y_train), model.score(x_test, y_test))"
   ]
  },
  {
   "cell_type": "markdown",
   "metadata": {
    "collapsed": true
   },
   "source": [
    "I also tried SVM model. The above SVM model(without tuning) has already takes several minutes. I tried tuing C with \"linear\" kernel, and the result is just as poor as above. Therefore, it seems that running SVM models would take very long time, and the result is not as good as Random Forest Model. So I decided not to go ahead with SVM model."
   ]
  }
 ],
 "metadata": {
  "anaconda-cloud": {},
  "kernelspec": {
   "display_name": "Python [Root]",
   "language": "python",
   "name": "Python [Root]"
  },
  "language_info": {
   "codemirror_mode": {
    "name": "ipython",
    "version": 2
   },
   "file_extension": ".py",
   "mimetype": "text/x-python",
   "name": "python",
   "nbconvert_exporter": "python",
   "pygments_lexer": "ipython2",
   "version": "2.7.12"
  }
 },
 "nbformat": 4,
 "nbformat_minor": 0
}
