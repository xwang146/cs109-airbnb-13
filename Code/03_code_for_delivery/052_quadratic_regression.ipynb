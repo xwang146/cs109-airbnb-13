{
 "cells": [
  {
   "cell_type": "markdown",
   "metadata": {},
   "source": [
    "# CS 109A/AC 209A/STAT 121A Data Science: Final Project\n",
    "**Harvard University**<br>\n",
    "**Fall 2016**<br>\n",
    "**Instructors:** W. Pan, P. Protopapas, K. Rader<br>\n",
    "**Members: ** Shawn Pan, Xinyuan (Amy) Wang, Ming-long Wu"
   ]
  },
  {
   "cell_type": "markdown",
   "metadata": {},
   "source": [
    "## Remark - 052_quadratic_regression.ipynb ##\n",
    "- Do quadratic regression models\n"
   ]
  },
  {
   "cell_type": "code",
   "execution_count": 37,
   "metadata": {
    "collapsed": false
   },
   "outputs": [],
   "source": [
    "import time\n",
    "import pandas as pd\n",
    "import numpy as np\n",
    "import scipy as sp\n",
    "from scipy.signal import savgol_filter\n",
    "from scipy.stats import mode\n",
    "import matplotlib\n",
    "import matplotlib.pyplot as plt\n",
    "from matplotlib import dates\n",
    "from matplotlib import colors\n",
    "import matplotlib.dates as mdates\n",
    "from datetime import datetime\n",
    "from collections import Counter\n",
    "from mpl_toolkits.basemap import Basemap\n",
    "import statsmodels.api as sm\n",
    "from sklearn import preprocessing\n",
    "from collections import Counter\n",
    "from sklearn.linear_model import LinearRegression\n",
    "from sklearn.linear_model import Lasso\n",
    "from sklearn.linear_model import LassoCV\n",
    "from sklearn.neighbors import KNeighborsRegressor\n",
    "from sklearn.feature_selection import RFE\n",
    "from sklearn import preprocessing\n",
    "from sklearn.cross_validation import train_test_split\n",
    "%matplotlib inline"
   ]
  },
  {
   "cell_type": "markdown",
   "metadata": {},
   "source": [
    "### Load data"
   ]
  },
  {
   "cell_type": "code",
   "execution_count": 38,
   "metadata": {
    "collapsed": false
   },
   "outputs": [
    {
     "name": "stdout",
     "output_type": "stream",
     "text": [
      "['accommodates' 'bathrooms' 'bedrooms' 'review_scores_checkin'\n",
      " 'review_scores_communication' 'latitude' 'longitude' 'property_type_0'\n",
      " 'property_type_1' 'property_type_2' 'property_type_3' 'property_type_4'\n",
      " 'property_type_5' 'room_type_0' 'room_type_1' 'room_type_2' 'bed_type_0'\n",
      " 'bed_type_1' 'bed_type_2' 'bed_type_3' 'bed_type_4' 'beds'\n",
      " 'review_scores_value' 'host_listing_count' 'review_scores_cleanliness'\n",
      " 'review_scores_accuracy' 'minimum_nights' 'price']\n"
     ]
    },
    {
     "data": {
      "text/html": [
       "<div>\n",
       "<table border=\"1\" class=\"dataframe\">\n",
       "  <thead>\n",
       "    <tr style=\"text-align: right;\">\n",
       "      <th></th>\n",
       "      <th>accommodates</th>\n",
       "      <th>bathrooms</th>\n",
       "      <th>bedrooms</th>\n",
       "      <th>review_scores_checkin</th>\n",
       "      <th>review_scores_communication</th>\n",
       "      <th>latitude</th>\n",
       "      <th>longitude</th>\n",
       "      <th>property_type_0</th>\n",
       "      <th>property_type_1</th>\n",
       "      <th>property_type_2</th>\n",
       "      <th>...</th>\n",
       "      <th>bed_type_2</th>\n",
       "      <th>bed_type_3</th>\n",
       "      <th>bed_type_4</th>\n",
       "      <th>beds</th>\n",
       "      <th>review_scores_value</th>\n",
       "      <th>host_listing_count</th>\n",
       "      <th>review_scores_cleanliness</th>\n",
       "      <th>review_scores_accuracy</th>\n",
       "      <th>minimum_nights</th>\n",
       "      <th>price</th>\n",
       "    </tr>\n",
       "  </thead>\n",
       "  <tbody>\n",
       "    <tr>\n",
       "      <th>0</th>\n",
       "      <td>2</td>\n",
       "      <td>1.0</td>\n",
       "      <td>1.0</td>\n",
       "      <td>9.0</td>\n",
       "      <td>9.0</td>\n",
       "      <td>40.756852</td>\n",
       "      <td>-73.964754</td>\n",
       "      <td>1.0</td>\n",
       "      <td>0.0</td>\n",
       "      <td>0.0</td>\n",
       "      <td>...</td>\n",
       "      <td>0.0</td>\n",
       "      <td>0.0</td>\n",
       "      <td>0.0</td>\n",
       "      <td>1.0</td>\n",
       "      <td>9.0</td>\n",
       "      <td>1</td>\n",
       "      <td>7.0</td>\n",
       "      <td>9.0</td>\n",
       "      <td>3</td>\n",
       "      <td>160</td>\n",
       "    </tr>\n",
       "    <tr>\n",
       "      <th>1</th>\n",
       "      <td>10</td>\n",
       "      <td>1.0</td>\n",
       "      <td>3.0</td>\n",
       "      <td>9.0</td>\n",
       "      <td>8.0</td>\n",
       "      <td>40.830599</td>\n",
       "      <td>-73.941014</td>\n",
       "      <td>1.0</td>\n",
       "      <td>0.0</td>\n",
       "      <td>0.0</td>\n",
       "      <td>...</td>\n",
       "      <td>0.0</td>\n",
       "      <td>0.0</td>\n",
       "      <td>0.0</td>\n",
       "      <td>3.0</td>\n",
       "      <td>8.0</td>\n",
       "      <td>2</td>\n",
       "      <td>8.0</td>\n",
       "      <td>8.0</td>\n",
       "      <td>1</td>\n",
       "      <td>105</td>\n",
       "    </tr>\n",
       "    <tr>\n",
       "      <th>2</th>\n",
       "      <td>2</td>\n",
       "      <td>1.0</td>\n",
       "      <td>1.0</td>\n",
       "      <td>10.0</td>\n",
       "      <td>10.0</td>\n",
       "      <td>40.692189</td>\n",
       "      <td>-73.924120</td>\n",
       "      <td>1.0</td>\n",
       "      <td>0.0</td>\n",
       "      <td>0.0</td>\n",
       "      <td>...</td>\n",
       "      <td>0.0</td>\n",
       "      <td>0.0</td>\n",
       "      <td>0.0</td>\n",
       "      <td>2.0</td>\n",
       "      <td>10.0</td>\n",
       "      <td>4</td>\n",
       "      <td>10.0</td>\n",
       "      <td>10.0</td>\n",
       "      <td>3</td>\n",
       "      <td>58</td>\n",
       "    </tr>\n",
       "    <tr>\n",
       "      <th>3</th>\n",
       "      <td>2</td>\n",
       "      <td>1.0</td>\n",
       "      <td>1.0</td>\n",
       "      <td>10.0</td>\n",
       "      <td>10.0</td>\n",
       "      <td>40.734751</td>\n",
       "      <td>-74.002592</td>\n",
       "      <td>1.0</td>\n",
       "      <td>0.0</td>\n",
       "      <td>0.0</td>\n",
       "      <td>...</td>\n",
       "      <td>0.0</td>\n",
       "      <td>0.0</td>\n",
       "      <td>0.0</td>\n",
       "      <td>1.0</td>\n",
       "      <td>9.0</td>\n",
       "      <td>1</td>\n",
       "      <td>9.0</td>\n",
       "      <td>10.0</td>\n",
       "      <td>10</td>\n",
       "      <td>185</td>\n",
       "    </tr>\n",
       "    <tr>\n",
       "      <th>4</th>\n",
       "      <td>2</td>\n",
       "      <td>1.0</td>\n",
       "      <td>1.0</td>\n",
       "      <td>10.0</td>\n",
       "      <td>10.0</td>\n",
       "      <td>40.745282</td>\n",
       "      <td>-73.997836</td>\n",
       "      <td>1.0</td>\n",
       "      <td>0.0</td>\n",
       "      <td>0.0</td>\n",
       "      <td>...</td>\n",
       "      <td>0.0</td>\n",
       "      <td>0.0</td>\n",
       "      <td>0.0</td>\n",
       "      <td>2.0</td>\n",
       "      <td>10.0</td>\n",
       "      <td>1</td>\n",
       "      <td>10.0</td>\n",
       "      <td>10.0</td>\n",
       "      <td>1</td>\n",
       "      <td>195</td>\n",
       "    </tr>\n",
       "  </tbody>\n",
       "</table>\n",
       "<p>5 rows × 28 columns</p>\n",
       "</div>"
      ],
      "text/plain": [
       "   accommodates  bathrooms  bedrooms  review_scores_checkin  \\\n",
       "0             2        1.0       1.0                    9.0   \n",
       "1            10        1.0       3.0                    9.0   \n",
       "2             2        1.0       1.0                   10.0   \n",
       "3             2        1.0       1.0                   10.0   \n",
       "4             2        1.0       1.0                   10.0   \n",
       "\n",
       "   review_scores_communication   latitude  longitude  property_type_0  \\\n",
       "0                          9.0  40.756852 -73.964754              1.0   \n",
       "1                          8.0  40.830599 -73.941014              1.0   \n",
       "2                         10.0  40.692189 -73.924120              1.0   \n",
       "3                         10.0  40.734751 -74.002592              1.0   \n",
       "4                         10.0  40.745282 -73.997836              1.0   \n",
       "\n",
       "   property_type_1  property_type_2  ...    bed_type_2  bed_type_3  \\\n",
       "0              0.0              0.0  ...           0.0         0.0   \n",
       "1              0.0              0.0  ...           0.0         0.0   \n",
       "2              0.0              0.0  ...           0.0         0.0   \n",
       "3              0.0              0.0  ...           0.0         0.0   \n",
       "4              0.0              0.0  ...           0.0         0.0   \n",
       "\n",
       "   bed_type_4  beds  review_scores_value  host_listing_count  \\\n",
       "0         0.0   1.0                  9.0                   1   \n",
       "1         0.0   3.0                  8.0                   2   \n",
       "2         0.0   2.0                 10.0                   4   \n",
       "3         0.0   1.0                  9.0                   1   \n",
       "4         0.0   2.0                 10.0                   1   \n",
       "\n",
       "   review_scores_cleanliness  review_scores_accuracy  minimum_nights  price  \n",
       "0                        7.0                     9.0               3    160  \n",
       "1                        8.0                     8.0               1    105  \n",
       "2                       10.0                    10.0               3     58  \n",
       "3                        9.0                    10.0              10    185  \n",
       "4                       10.0                    10.0               1    195  \n",
       "\n",
       "[5 rows x 28 columns]"
      ]
     },
     "execution_count": 38,
     "metadata": {},
     "output_type": "execute_result"
    }
   ],
   "source": [
    "# Load listing data\n",
    "listing = pd.read_csv('../../Data/data_after_predictor_selection.csv')\n",
    "print(listing.columns.values)\n",
    "listing.head()"
   ]
  },
  {
   "cell_type": "markdown",
   "metadata": {},
   "source": [
    "## Feature engineering: location clustering to price by KNN ##"
   ]
  },
  {
   "cell_type": "code",
   "execution_count": 39,
   "metadata": {
    "collapsed": true
   },
   "outputs": [],
   "source": [
    "#Step to convert longitude and latitude to price cluster by KNN\n",
    "from sklearn.base import BaseEstimator\n",
    "from sklearn.base import TransformerMixin\n",
    "from sklearn.neighbors import KNeighborsRegressor\n",
    "\n",
    "class LocationPreprocessor(BaseEstimator, TransformerMixin):\n",
    "    def __init__(self):\n",
    "        self.model = KNeighborsRegressor(n_neighbors=50, weights=\"uniform\")\n",
    "        super(LocationPreprocessor, self).__init__()\n",
    "        \n",
    "    def fit_transform(self, X, y):\n",
    "        self.model.fit(X[[\"longitude\", \"latitude\"]], y)\n",
    "        return self.transform(X)\n",
    "    \n",
    "    def transform(self, X):\n",
    "        loc = self.model.predict(X[[\"longitude\", \"latitude\"]])\n",
    "        Xnew = X.copy()\n",
    "        Xnew[\"location\"] = loc\n",
    "        return Xnew"
   ]
  },
  {
   "cell_type": "markdown",
   "metadata": {},
   "source": [
    "## Split data for training and testing data with transformation log(y)##"
   ]
  },
  {
   "cell_type": "markdown",
   "metadata": {},
   "source": [
    "### Quadrature transformation of x###"
   ]
  },
  {
   "cell_type": "code",
   "execution_count": 40,
   "metadata": {
    "collapsed": false
   },
   "outputs": [
    {
     "name": "stdout",
     "output_type": "stream",
     "text": [
      "(27392, 8)\n",
      "(27392, 14)\n"
     ]
    }
   ],
   "source": [
    "#split numerical and categorical predictors\n",
    "numr = ['accommodates', 'bathrooms', 'bedrooms', 'review_scores_checkin',\n",
    " 'review_scores_communication', 'latitude', 'longitude', 'beds']\n",
    "cate = ['property_type_0', 'property_type_1', 'property_type_2', 'property_type_3', \n",
    "        'property_type_4', 'property_type_5', 'room_type_0', 'room_type_1', 'room_type_2',\n",
    "        'bed_type_0', 'bed_type_1', 'bed_type_2', 'bed_type_3', 'bed_type_4']\n",
    "x_numr = listing[numr]\n",
    "x_cate = listing[cate]\n",
    "print x_numr.shape\n",
    "print x_cate.shape"
   ]
  },
  {
   "cell_type": "code",
   "execution_count": 41,
   "metadata": {
    "collapsed": false
   },
   "outputs": [
    {
     "name": "stdout",
     "output_type": "stream",
     "text": [
      "(27392, 45)\n"
     ]
    }
   ],
   "source": [
    "#quadracture transformation\n",
    "quad_features = preprocessing.PolynomialFeatures(degree = 2)\n",
    "x_expanded = quad_features.fit_transform(x_numr)\n",
    "print x_expanded.shape"
   ]
  },
  {
   "cell_type": "code",
   "execution_count": 42,
   "metadata": {
    "collapsed": false
   },
   "outputs": [
    {
     "name": "stdout",
     "output_type": "stream",
     "text": [
      "(27392, 59)\n",
      "(27392,)\n"
     ]
    }
   ],
   "source": [
    "x = np.concatenate((x_expanded, x_cate.values), axis=1)\n",
    "y = listing['price'].values\n",
    "print x.shape\n",
    "print y.shape"
   ]
  },
  {
   "cell_type": "code",
   "execution_count": 43,
   "metadata": {
    "collapsed": false
   },
   "outputs": [],
   "source": [
    "x_train, x_test, y_train, y_test = train_test_split(x, np.log(y), test_size=0.3, random_state=0)"
   ]
  },
  {
   "cell_type": "markdown",
   "metadata": {},
   "source": [
    "## Linear Models: ##\n",
    "### Linear regression ###"
   ]
  },
  {
   "cell_type": "code",
   "execution_count": 49,
   "metadata": {
    "collapsed": false
   },
   "outputs": [
    {
     "name": "stdout",
     "output_type": "stream",
     "text": [
      "Train Score 0.636819418513\n",
      "Test Score 0.637551177773\n"
     ]
    }
   ],
   "source": [
    "#fit linear regression model\n",
    "from sklearn.pipeline import Pipeline\n",
    "from sklearn.preprocessing import StandardScaler\n",
    "from sklearn.linear_model import LinearRegression\n",
    "\n",
    "model = Pipeline([\n",
    "            (\"normalize\", StandardScaler()),\n",
    "            (\"LinearModel\", LinearRegression())\n",
    "        ])\n",
    "\n",
    "# model = Pipeline([\n",
    "#             (\"location\", LocationPreprocessor()),\n",
    "#             (\"normalize\", StandardScaler()),\n",
    "#             (\"LinearModel\", LinearRegression())\n",
    "#         ])\n",
    "\n",
    "start_time = time.time()\n",
    "model.fit(x_train, y_train)\n",
    "compute_time = time.time() - start_time\n",
    "\n",
    "print \"Train Score\", model.score(x_train, y_train)\n",
    "print \"Test Score\", model.score(x_test, y_test)\n",
    "LR_score = pd.Series([model.score(x_train, y_train), model.score(x_train, y_train), compute_time], \n",
    "                                                index=['Train R^2', 'Test R^2', 'Compute Time'])"
   ]
  },
  {
   "cell_type": "markdown",
   "metadata": {},
   "source": [
    "### Lasso regression (L1 regularization) ###"
   ]
  },
  {
   "cell_type": "code",
   "execution_count": 45,
   "metadata": {
    "collapsed": false
   },
   "outputs": [
    {
     "name": "stdout",
     "output_type": "stream",
     "text": [
      "Train Score 0.564978386565\n",
      "Test Score 0.573400270527\n"
     ]
    }
   ],
   "source": [
    "#fit Lasso model\n",
    "from sklearn.pipeline import Pipeline\n",
    "from sklearn.preprocessing import StandardScaler\n",
    "from sklearn.linear_model import Lasso\n",
    "\n",
    "model = Pipeline([\n",
    "            (\"normalize\", StandardScaler()),\n",
    "            (\"lasso\", Lasso(alpha=0.02))\n",
    "        ])\n",
    "\n",
    "start_time = time.time()\n",
    "model.fit(x_train, y_train)\n",
    "compute_time = time.time() - start_time\n",
    "\n",
    "print \"Train Score\", model.score(x_train, y_train)\n",
    "print \"Test Score\", model.score(x_test, y_test)\n",
    "Lasso_score = pd.Series([model.score(x_train, y_train), model.score(x_train, y_train), compute_time], \n",
    "                                                index=['Train R^2', 'Test R^2', 'Compute Time'])"
   ]
  },
  {
   "cell_type": "markdown",
   "metadata": {},
   "source": [
    "### Ridge regression (L2 regularization) ###"
   ]
  },
  {
   "cell_type": "code",
   "execution_count": 46,
   "metadata": {
    "collapsed": false
   },
   "outputs": [
    {
     "name": "stdout",
     "output_type": "stream",
     "text": [
      "Train Score 0.583849954339\n",
      "Test Score 0.587212278547\n"
     ]
    }
   ],
   "source": [
    "#fit Ridge model\n",
    "from sklearn.pipeline import Pipeline\n",
    "from sklearn.preprocessing import StandardScaler\n",
    "from sklearn.linear_model import Ridge\n",
    "\n",
    "model = Pipeline([\n",
    "            (\"normalize\", StandardScaler()),\n",
    "            (\"ridge\", Ridge())\n",
    "        ])\n",
    "\n",
    "start_time = time.time()\n",
    "model.fit(x_train, y_train)\n",
    "compute_time = time.time() - start_time\n",
    "\n",
    "print \"Train Score\", model.score(x_train, y_train)\n",
    "print \"Test Score\", model.score(x_test, y_test)\n",
    "Ridge_score = pd.Series([model.score(x_train, y_train), model.score(x_train, y_train), compute_time], \n",
    "                                                index=['Train R^2', 'Test R^2', 'Compute Time'])"
   ]
  },
  {
   "cell_type": "markdown",
   "metadata": {},
   "source": [
    "### ElasticNet regression (L1 + L2 regularization) ###"
   ]
  },
  {
   "cell_type": "code",
   "execution_count": 47,
   "metadata": {
    "collapsed": false
   },
   "outputs": [
    {
     "name": "stdout",
     "output_type": "stream",
     "text": [
      "Train Score 0.573240276619\n",
      "Test Score 0.58090557328\n"
     ]
    }
   ],
   "source": [
    "#fit Ridge model\n",
    "from sklearn.pipeline import Pipeline\n",
    "from sklearn.preprocessing import StandardScaler\n",
    "from sklearn.linear_model import ElasticNet\n",
    "\n",
    "model = Pipeline([\n",
    "            (\"normalize\", StandardScaler()),\n",
    "            (\"elasticnet\", ElasticNet (alpha=0.02))\n",
    "        ])\n",
    "\n",
    "start_time = time.time()\n",
    "model.fit(x_train, y_train)\n",
    "compute_time = time.time() - start_time\n",
    "\n",
    "print \"Train Score\", model.score(x_train, y_train)\n",
    "print \"Test Score\", model.score(x_test, y_test)\n",
    "ElasticNet_score = pd.Series([model.score(x_train, y_train), model.score(x_train, y_train), compute_time], \n",
    "                                                index=['Train R^2', 'Test R^2', 'Compute Time'])"
   ]
  },
  {
   "cell_type": "markdown",
   "metadata": {},
   "source": [
    "### Compare four quadratic models ###"
   ]
  },
  {
   "cell_type": "code",
   "execution_count": 54,
   "metadata": {
    "collapsed": false
   },
   "outputs": [
    {
     "data": {
      "text/html": [
       "<div>\n",
       "<table border=\"1\" class=\"dataframe\">\n",
       "  <thead>\n",
       "    <tr style=\"text-align: right;\">\n",
       "      <th></th>\n",
       "      <th>Quad regression</th>\n",
       "      <th>Quad Lasso</th>\n",
       "      <th>Quad Ridge</th>\n",
       "      <th>Quad Elastic Net</th>\n",
       "    </tr>\n",
       "  </thead>\n",
       "  <tbody>\n",
       "    <tr>\n",
       "      <th>Train R^2</th>\n",
       "      <td>0.636819</td>\n",
       "      <td>0.564978</td>\n",
       "      <td>0.58385</td>\n",
       "      <td>0.573240</td>\n",
       "    </tr>\n",
       "    <tr>\n",
       "      <th>Test R^2</th>\n",
       "      <td>0.636819</td>\n",
       "      <td>0.564978</td>\n",
       "      <td>0.58385</td>\n",
       "      <td>0.573240</td>\n",
       "    </tr>\n",
       "    <tr>\n",
       "      <th>Compute Time</th>\n",
       "      <td>0.037014</td>\n",
       "      <td>0.163459</td>\n",
       "      <td>0.02374</td>\n",
       "      <td>0.114789</td>\n",
       "    </tr>\n",
       "  </tbody>\n",
       "</table>\n",
       "</div>"
      ],
      "text/plain": [
       "              Quad regression  Quad Lasso  Quad Ridge  Quad Elastic Net\n",
       "Train R^2            0.636819    0.564978     0.58385          0.573240\n",
       "Test R^2             0.636819    0.564978     0.58385          0.573240\n",
       "Compute Time         0.037014    0.163459     0.02374          0.114789"
      ]
     },
     "execution_count": 54,
     "metadata": {},
     "output_type": "execute_result"
    }
   ],
   "source": [
    "#compare all scores\n",
    "score_df = pd.DataFrame({'Quad regression': LR_score, \n",
    "                         'Quad Lasso': Lasso_score,\n",
    "                         'Quad Ridge': Ridge_score,\n",
    "                         'Quad Elastic Net': ElasticNet_score})\n",
    "\n",
    "score_df = score_df.reindex_axis(['Quad regression', 'Quad Lasso', 'Quad Ridge', 'Quad Elastic Net'], axis=1)\n",
    "score_df"
   ]
  },
  {
   "cell_type": "code",
   "execution_count": 55,
   "metadata": {
    "collapsed": true
   },
   "outputs": [],
   "source": [
    "# Save data\n",
    "score_df.to_csv('../../Data/052_scores.csv', index=False)"
   ]
  },
  {
   "cell_type": "markdown",
   "metadata": {},
   "source": [
    "### Conclusion: Quad regression without regularization performs best among four methods. ###"
   ]
  },
  {
   "cell_type": "code",
   "execution_count": null,
   "metadata": {
    "collapsed": true
   },
   "outputs": [],
   "source": []
  }
 ],
 "metadata": {
  "anaconda-cloud": {},
  "kernelspec": {
   "display_name": "Python [py27]",
   "language": "python",
   "name": "Python [py27]"
  },
  "language_info": {
   "codemirror_mode": {
    "name": "ipython",
    "version": 2
   },
   "file_extension": ".py",
   "mimetype": "text/x-python",
   "name": "python",
   "nbconvert_exporter": "python",
   "pygments_lexer": "ipython2",
   "version": "2.7.12"
  }
 },
 "nbformat": 4,
 "nbformat_minor": 0
}
