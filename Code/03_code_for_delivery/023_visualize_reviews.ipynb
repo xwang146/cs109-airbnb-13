{
 "cells": [
  {
   "cell_type": "markdown",
   "metadata": {},
   "source": [
    "# CS 109A/AC 209A/STAT 121A Data Science: Final Project\n",
    "**Harvard University**<br>\n",
    "**Fall 2016**<br>\n",
    "**Instructors:** W. Pan, P. Protopapas, K. Rader<br>\n",
    "**Members: ** Shawn Pan, Xinyuan (Amy) Wang, Ming-long Wu"
   ]
  },
  {
   "cell_type": "markdown",
   "metadata": {},
   "source": [
    "## Remark ##\n",
    "- Code to perform sentiment analysis on review text and visualize sentiment.\n",
    "- We used the VADER (Valence Aware Dictionary and sEntiment Reasoner), because it can detect sentiment without requiring a marked training set.\n",
    "\n",
    "Hutto, C.J. & Gilbert, E.E. (2014). VADER: A Parsimonious Rule-based Model for Sentiment Analysis of Social Media Text. Eighth International Conference on Weblogs and Social Media (ICWSM-14). Ann Arbor, MI, June 2014."
   ]
  },
  {
   "cell_type": "code",
   "execution_count": 1,
   "metadata": {
    "collapsed": false
   },
   "outputs": [],
   "source": [
    "import pandas as pd\n",
    "import numpy as np\n",
    "\n",
    "import nltk\n",
    "from nltk.sentiment.vader import SentimentIntensityAnalyzer\n",
    "from nltk import tokenize\n",
    "\n",
    "import matplotlib\n",
    "import matplotlib.pyplot as plt\n",
    "%matplotlib inline"
   ]
  },
  {
   "cell_type": "code",
   "execution_count": 3,
   "metadata": {
    "collapsed": false
   },
   "outputs": [
    {
     "data": {
      "text/html": [
       "<div>\n",
       "<table border=\"1\" class=\"dataframe\">\n",
       "  <thead>\n",
       "    <tr style=\"text-align: right;\">\n",
       "      <th></th>\n",
       "      <th>listing_id</th>\n",
       "      <th>id</th>\n",
       "      <th>date</th>\n",
       "      <th>reviewer_id</th>\n",
       "      <th>reviewer_name</th>\n",
       "      <th>comments</th>\n",
       "      <th>if_English</th>\n",
       "    </tr>\n",
       "  </thead>\n",
       "  <tbody>\n",
       "    <tr>\n",
       "      <th>0</th>\n",
       "      <td>1180670</td>\n",
       "      <td>14705995</td>\n",
       "      <td>2014-06-24</td>\n",
       "      <td>10875598</td>\n",
       "      <td>Gregory</td>\n",
       "      <td>Ok, if you like the location and don't mind an...</td>\n",
       "      <td>True</td>\n",
       "    </tr>\n",
       "    <tr>\n",
       "      <th>20000</th>\n",
       "      <td>402201</td>\n",
       "      <td>1578928</td>\n",
       "      <td>2012-06-27</td>\n",
       "      <td>2251260</td>\n",
       "      <td>Dave</td>\n",
       "      <td>The reservation was canceled 183 days before a...</td>\n",
       "      <td>True</td>\n",
       "    </tr>\n",
       "    <tr>\n",
       "      <th>40000</th>\n",
       "      <td>1264732</td>\n",
       "      <td>8209665</td>\n",
       "      <td>2013-10-21</td>\n",
       "      <td>6651045</td>\n",
       "      <td>Ali</td>\n",
       "      <td>Jeffrey is a great host with his amazing promp...</td>\n",
       "      <td>True</td>\n",
       "    </tr>\n",
       "    <tr>\n",
       "      <th>60000</th>\n",
       "      <td>816272</td>\n",
       "      <td>4199429</td>\n",
       "      <td>2013-04-17</td>\n",
       "      <td>5788289</td>\n",
       "      <td>Dan</td>\n",
       "      <td>I booked Cristen's apartment for my parents, a...</td>\n",
       "      <td>True</td>\n",
       "    </tr>\n",
       "    <tr>\n",
       "      <th>80000</th>\n",
       "      <td>237127</td>\n",
       "      <td>7634863</td>\n",
       "      <td>2013-09-27</td>\n",
       "      <td>8941981</td>\n",
       "      <td>Margaret</td>\n",
       "      <td>I can't recommend this host highly enough.  Ex...</td>\n",
       "      <td>True</td>\n",
       "    </tr>\n",
       "    <tr>\n",
       "      <th>100000</th>\n",
       "      <td>51572</td>\n",
       "      <td>2920854</td>\n",
       "      <td>2012-11-19</td>\n",
       "      <td>1135476</td>\n",
       "      <td>Mark</td>\n",
       "      <td>Lee was an excellent host--friendly, easy-goin...</td>\n",
       "      <td>True</td>\n",
       "    </tr>\n",
       "    <tr>\n",
       "      <th>120000</th>\n",
       "      <td>62452</td>\n",
       "      <td>1209986</td>\n",
       "      <td>2012-05-01</td>\n",
       "      <td>1998800</td>\n",
       "      <td>Ksenia</td>\n",
       "      <td>Everithyng is as seen on the pictures. A littl...</td>\n",
       "      <td>True</td>\n",
       "    </tr>\n",
       "    <tr>\n",
       "      <th>140000</th>\n",
       "      <td>2825271</td>\n",
       "      <td>14965973</td>\n",
       "      <td>2014-06-30</td>\n",
       "      <td>1209578</td>\n",
       "      <td>Claire</td>\n",
       "      <td>thant you very much to Olivia and her husband,...</td>\n",
       "      <td>True</td>\n",
       "    </tr>\n",
       "    <tr>\n",
       "      <th>160000</th>\n",
       "      <td>869069</td>\n",
       "      <td>8233008</td>\n",
       "      <td>2013-10-21</td>\n",
       "      <td>9269393</td>\n",
       "      <td>Marian</td>\n",
       "      <td>My son and I stayed one night in Hinanit's apa...</td>\n",
       "      <td>True</td>\n",
       "    </tr>\n",
       "    <tr>\n",
       "      <th>180000</th>\n",
       "      <td>26969</td>\n",
       "      <td>8993097</td>\n",
       "      <td>2013-12-01</td>\n",
       "      <td>3637845</td>\n",
       "      <td>Charles</td>\n",
       "      <td>Great neighborhood, fun house and very conveni...</td>\n",
       "      <td>True</td>\n",
       "    </tr>\n",
       "    <tr>\n",
       "      <th>200000</th>\n",
       "      <td>1087354</td>\n",
       "      <td>4552648</td>\n",
       "      <td>2013-05-12</td>\n",
       "      <td>5481673</td>\n",
       "      <td>Kristenreed5@Hotmail.Com</td>\n",
       "      <td>Alexandre was a fantastic host. He responded p...</td>\n",
       "      <td>True</td>\n",
       "    </tr>\n",
       "    <tr>\n",
       "      <th>220000</th>\n",
       "      <td>3326000</td>\n",
       "      <td>21203357</td>\n",
       "      <td>2014-10-13</td>\n",
       "      <td>6864754</td>\n",
       "      <td>Bernice</td>\n",
       "      <td>Dana was a fine hostess.  The convenient NY ap...</td>\n",
       "      <td>True</td>\n",
       "    </tr>\n",
       "    <tr>\n",
       "      <th>240000</th>\n",
       "      <td>453094</td>\n",
       "      <td>9208189</td>\n",
       "      <td>2013-12-13</td>\n",
       "      <td>240507</td>\n",
       "      <td>Joseph</td>\n",
       "      <td>Waldemar is an excellent host. He's very nice ...</td>\n",
       "      <td>True</td>\n",
       "    </tr>\n",
       "  </tbody>\n",
       "</table>\n",
       "</div>"
      ],
      "text/plain": [
       "        listing_id        id        date  reviewer_id  \\\n",
       "0          1180670  14705995  2014-06-24     10875598   \n",
       "20000       402201   1578928  2012-06-27      2251260   \n",
       "40000      1264732   8209665  2013-10-21      6651045   \n",
       "60000       816272   4199429  2013-04-17      5788289   \n",
       "80000       237127   7634863  2013-09-27      8941981   \n",
       "100000       51572   2920854  2012-11-19      1135476   \n",
       "120000       62452   1209986  2012-05-01      1998800   \n",
       "140000     2825271  14965973  2014-06-30      1209578   \n",
       "160000      869069   8233008  2013-10-21      9269393   \n",
       "180000       26969   8993097  2013-12-01      3637845   \n",
       "200000     1087354   4552648  2013-05-12      5481673   \n",
       "220000     3326000  21203357  2014-10-13      6864754   \n",
       "240000      453094   9208189  2013-12-13       240507   \n",
       "\n",
       "                   reviewer_name  \\\n",
       "0                        Gregory   \n",
       "20000                       Dave   \n",
       "40000                        Ali   \n",
       "60000                        Dan   \n",
       "80000                   Margaret   \n",
       "100000                      Mark   \n",
       "120000                    Ksenia   \n",
       "140000                    Claire   \n",
       "160000                    Marian   \n",
       "180000                   Charles   \n",
       "200000  Kristenreed5@Hotmail.Com   \n",
       "220000                   Bernice   \n",
       "240000                    Joseph   \n",
       "\n",
       "                                                 comments if_English  \n",
       "0       Ok, if you like the location and don't mind an...       True  \n",
       "20000   The reservation was canceled 183 days before a...       True  \n",
       "40000   Jeffrey is a great host with his amazing promp...       True  \n",
       "60000   I booked Cristen's apartment for my parents, a...       True  \n",
       "80000   I can't recommend this host highly enough.  Ex...       True  \n",
       "100000  Lee was an excellent host--friendly, easy-goin...       True  \n",
       "120000  Everithyng is as seen on the pictures. A littl...       True  \n",
       "140000  thant you very much to Olivia and her husband,...       True  \n",
       "160000  My son and I stayed one night in Hinanit's apa...       True  \n",
       "180000  Great neighborhood, fun house and very conveni...       True  \n",
       "200000  Alexandre was a fantastic host. He responded p...       True  \n",
       "220000  Dana was a fine hostess.  The convenient NY ap...       True  \n",
       "240000  Waldemar is an excellent host. He's very nice ...       True  "
      ]
     },
     "execution_count": 3,
     "metadata": {},
     "output_type": "execute_result"
    }
   ],
   "source": [
    "# read data\n",
    "reviews_cleaned = pd.read_csv(\"../../Data/reviews_cleaned.csv\")\n",
    "reviews_cleaned[::20000]"
   ]
  },
  {
   "cell_type": "code",
   "execution_count": 42,
   "metadata": {
    "collapsed": false
   },
   "outputs": [
    {
     "name": "stdout",
     "output_type": "stream",
     "text": [
      "showing info https://raw.githubusercontent.com/nltk/nltk_data/gh-pages/index.xml\n"
     ]
    },
    {
     "data": {
      "text/plain": [
       "True"
      ]
     },
     "execution_count": 42,
     "metadata": {},
     "output_type": "execute_result"
    }
   ],
   "source": [
    "#may need to download required data\n",
    "nltk.download()"
   ]
  },
  {
   "cell_type": "code",
   "execution_count": 20,
   "metadata": {
    "collapsed": false
   },
   "outputs": [
    {
     "name": "stdout",
     "output_type": "stream",
     "text": [
      "Ok, if you like the location and don't mind an occasional roach.\n",
      "{'neg': 0.0, 'neu': 0.68, 'pos': 0.32, 'compound': 0.5719}\n",
      "Overall\n",
      "{'neg': 0.0, 'neu': 0.68, 'pos': 0.32, 'compound': 0.5719}\n",
      "\n",
      "Extremely disappointed.\n",
      "{'neg': 0.772, 'neu': 0.228, 'pos': 0.0, 'compound': -0.5256}\n",
      "Overall\n",
      "{'neg': 0.772, 'neu': 0.228, 'pos': 0.0, 'compound': -0.5256}\n",
      "\n",
      "Exactly as described.\n",
      "{'neg': 0.0, 'neu': 1.0, 'pos': 0.0, 'compound': 0.0}\n",
      "Overall\n",
      "{'neg': 0.0, 'neu': 1.0, 'pos': 0.0, 'compound': 0.0}\n",
      "\n",
      "The reservation was canceled the day before arrival.\n",
      "{'neg': 0.0, 'neu': 1.0, 'pos': 0.0, 'compound': 0.0}\n",
      "This is an automated posting.\n",
      "{'neg': 0.0, 'neu': 1.0, 'pos': 0.0, 'compound': 0.0}\n",
      "Overall\n",
      "{'neg': 0.0, 'neu': 1.0, 'pos': 0.0, 'compound': 0.0}\n",
      "\n",
      "Very Nice and comfortable.\n",
      "{'neg': 0.0, 'neu': 0.231, 'pos': 0.769, 'compound': 0.7688}\n",
      "Great location - Marianne and Son ensured we had a comfortable stay.\n",
      "{'neg': 0.0, 'neu': 0.519, 'pos': 0.481, 'compound': 0.8126}\n",
      "Overall\n",
      "{'neg': 0.0, 'neu': 0.411, 'pos': 0.589, 'compound': 0.9362}\n",
      "\n",
      "Sunserae was a phenomenal host.\n",
      "{'neg': 0.0, 'neu': 1.0, 'pos': 0.0, 'compound': 0.0}\n",
      "Incredible location and beautiful pad.\n",
      "{'neg': 0.0, 'neu': 0.506, 'pos': 0.494, 'compound': 0.5994}\n",
      "Highly recommended.\n",
      "{'neg': 0.0, 'neu': 0.323, 'pos': 0.677, 'compound': 0.2716}\n",
      "Overall\n",
      "{'neg': 0.0, 'neu': 0.6, 'pos': 0.4, 'compound': 0.7178}\n",
      "\n",
      "Our rental was great.\n",
      "{'neg': 0.0, 'neu': 0.423, 'pos': 0.577, 'compound': 0.6249}\n",
      "It was just as described, clean and the perfect location.\n",
      "{'neg': 0.0, 'neu': 0.556, 'pos': 0.444, 'compound': 0.7506}\n",
      "I highly recommend renting from Alyssa. \n",
      "{'neg': 0.0, 'neu': 0.589, 'pos': 0.411, 'compound': 0.4201}\n",
      "Overall\n",
      "{'neg': 0.0, 'neu': 0.53, 'pos': 0.47, 'compound': 0.923}\n",
      "\n",
      "The reservation was canceled 14 days before arrival.\n",
      "{'neg': 0.0, 'neu': 1.0, 'pos': 0.0, 'compound': 0.0}\n",
      "This is an automated posting.\n",
      "{'neg': 0.0, 'neu': 1.0, 'pos': 0.0, 'compound': 0.0}\n",
      "Overall\n",
      "{'neg': 0.0, 'neu': 1.0, 'pos': 0.0, 'compound': 0.0}\n",
      "\n",
      "It's a very convenient place and the host is very kind.\n",
      "{'neg': 0.0, 'neu': 0.709, 'pos': 0.291, 'compound': 0.5709}\n",
      "We had a great time there! \n",
      "{'neg': 0.0, 'neu': 0.477, 'pos': 0.523, 'compound': 0.6588}\n",
      "Overall\n",
      "{'neg': 0.0, 'neu': 0.617, 'pos': 0.383, 'compound': 0.8436}\n",
      "\n",
      "Zak and his room were most hospital in receiving me.\n",
      "{'neg': 0.0, 'neu': 1.0, 'pos': 0.0, 'compound': 0.0}\n",
      "Room was as described - bright, clean and very well situated in the Village. \n",
      "{'neg': 0.0, 'neu': 0.556, 'pos': 0.444, 'compound': 0.7902}\n",
      "Overall\n",
      "{'neg': 0.0, 'neu': 0.714, 'pos': 0.286, 'compound': 0.7902}\n",
      "\n"
     ]
    }
   ],
   "source": [
    "sid = SentimentIntensityAnalyzer()\n",
    "review_comments = reviews_cleaned[\"comments\"]\n",
    "\n",
    "#try looking at full comments and individual sentences within comments\n",
    "for i in range(10):\n",
    "    comment = review_comments.iloc[i]\n",
    "    for sent in tokenize.sent_tokenize(comment):\n",
    "        print sent\n",
    "        print sid.polarity_scores(sent)\n",
    "    print \"Overall\"\n",
    "    print sid.polarity_scores(comment)\n",
    "    print"
   ]
  },
  {
   "cell_type": "markdown",
   "metadata": {},
   "source": [
    "It appears that applying the VADER analyzer to the entire comments is a reasonable average of the sentences."
   ]
  },
  {
   "cell_type": "code",
   "execution_count": 52,
   "metadata": {
    "collapsed": false
   },
   "outputs": [],
   "source": [
    "#find review sentiments with VADER algorithm\n",
    "#neg, neu, pos, compound\n",
    "reviews[\"sentiment\"] = reviews[\"comments\"].apply(lambda c: sid.polarity_scores(c).values())\n",
    "reviews[\"negative_sentiment\"] = reviews[\"sentiment\"].apply(lambda s: s[0])\n",
    "reviews[\"neutral_sentiment\"] = reviews[\"sentiment\"].apply(lambda s: s[1])\n",
    "reviews[\"positive_sentiment\"] = reviews[\"sentiment\"].apply(lambda s: s[2])\n",
    "reviews[\"compound_sentiment\"] = reviews[\"sentiment\"].apply(lambda s: s[3])\n",
    "\n",
    "review_sentiments = reviews[[\"listing_id\", \"positive_sentiment\", \"negative_sentiment\", \n",
    "                             \"neutral_sentiment\", \"compound_sentiment\"]]\n",
    "\n",
    "review_sentiments.to_csv('../../Data/reviews_sentiment.csv', sep=',', index = False)"
   ]
  },
  {
   "cell_type": "markdown",
   "metadata": {},
   "source": [
    "# Visualization"
   ]
  },
  {
   "cell_type": "code",
   "execution_count": 4,
   "metadata": {
    "collapsed": true
   },
   "outputs": [],
   "source": [
    "#read from saved sentiment file, as VADER takes a long time to run for all reviews\n",
    "review_sentiments = pd.read_csv(\"../../Data/reviews_sentiment.csv\")"
   ]
  },
  {
   "cell_type": "code",
   "execution_count": 26,
   "metadata": {
    "collapsed": false
   },
   "outputs": [
    {
     "data": {
      "text/plain": [
       "(19025, 5)"
      ]
     },
     "execution_count": 26,
     "metadata": {},
     "output_type": "execute_result"
    }
   ],
   "source": [
    "#average sentiment across multiple reviews\n",
    "sentiments_by_id = review_sentiments.groupby(\"listing_id\", as_index=False).mean()\n",
    "sentiments_by_id.shape"
   ]
  },
  {
   "cell_type": "code",
   "execution_count": 27,
   "metadata": {
    "collapsed": false
   },
   "outputs": [
    {
     "data": {
      "image/png": "[encoded data removed]",
      "text/plain": [
       "<matplotlib.figure.Figure at 0x7f2489619390>"
      ]
     },
     "metadata": {},
     "output_type": "display_data"
    },
    {
     "data": {
      "image/png": "[encoded data removed]",
      "text/plain": [
       "<matplotlib.figure.Figure at 0x7f248990f090>"
      ]
     },
     "metadata": {},
     "output_type": "display_data"
    },
    {
     "data": {
      "image/png": "[encoded data removed]",
      "text/plain": [
       "<matplotlib.figure.Figure at 0x7f248ab5b410>"
      ]
     },
     "metadata": {},
     "output_type": "display_data"
    },
    {
     "data": {
      "image/png": "[encoded data removed]",
      "text/plain": [
       "<matplotlib.figure.Figure at 0x7f2489b02c50>"
      ]
     },
     "metadata": {},
     "output_type": "display_data"
    }
   ],
   "source": [
    "#distribution of reviews (averaged by id)\n",
    "plt.figure()\n",
    "plt.title(\"Compound Sentiment Distribution\")\n",
    "plt.hist(sentiments_by_id[\"compound_sentiment\"], bins=100);\n",
    "\n",
    "plt.figure()\n",
    "plt.title(\"Positive Sentiment Distribution\")\n",
    "plt.hist(sentiments_by_id[\"positive_sentiment\"], bins=100);\n",
    "\n",
    "plt.figure()\n",
    "plt.title(\"Negative Sentiment Distribution\")\n",
    "plt.hist(sentiments_by_id[\"negative_sentiment\"], bins=100);\n",
    "\n",
    "plt.figure()\n",
    "plt.title(\"Neutral Sentiment Distribution\")\n",
    "plt.hist(sentiments_by_id[\"neutral_sentiment\"], bins=100);"
   ]
  },
  {
   "cell_type": "code",
   "execution_count": 29,
   "metadata": {
    "collapsed": false
   },
   "outputs": [
    {
     "data": {
      "text/plain": [
       "(19025, 7)"
      ]
     },
     "execution_count": 29,
     "metadata": {},
     "output_type": "execute_result"
    }
   ],
   "source": [
    "#merge with price\n",
    "listings_clean = pd.read_csv(\"../../Data/listings_clean.csv\")\n",
    "listings_price = listings_clean[[\"id\", \"price\"]]\n",
    "combined_data = sentiments_by_id.merge(listings_price, left_on=\"listing_id\", right_on=\"id\")\n",
    "combined_data.shape"
   ]
  },
  {
   "cell_type": "code",
   "execution_count": 36,
   "metadata": {
    "collapsed": false
   },
   "outputs": [
    {
     "data": {
      "image/png": "[encoded data removed]",
      "text/plain": [
       "<matplotlib.figure.Figure at 0x7f248e0642d0>"
      ]
     },
     "metadata": {},
     "output_type": "display_data"
    },
    {
     "data": {
      "image/png": "[encoded data removed]",
      "text/plain": [
       "<matplotlib.figure.Figure at 0x7f24894fc490>"
      ]
     },
     "metadata": {},
     "output_type": "display_data"
    }
   ],
   "source": [
    "plt.figure()\n",
    "plt.title(\"Compound Sentiment\")\n",
    "plt.xlabel(\"Compound Sentiment\")\n",
    "plt.ylabel(\"Price\")\n",
    "plt.ylim((0, 1000))\n",
    "plt.scatter(combined_data[\"compound_sentiment\"], combined_data[\"price\"], alpha=0.1, edgecolors='none');\n",
    "\n",
    "plt.figure()\n",
    "plt.title(\"Positive Sentiment\")\n",
    "plt.xlabel(\"Positive Sentiment\")\n",
    "plt.ylabel(\"Price\")\n",
    "plt.ylim((0, 1000))\n",
    "plt.scatter(combined_data[\"positive_sentiment\"], combined_data[\"price\"], alpha=0.1, edgecolors='none');"
   ]
  },
  {
   "cell_type": "code",
   "execution_count": 47,
   "metadata": {
    "collapsed": false
   },
   "outputs": [
    {
     "data": {
      "text/html": [
       "<table class=\"simpletable\">\n",
       "<caption>OLS Regression Results</caption>\n",
       "<tr>\n",
       "  <th>Dep. Variable:</th>          <td>price</td>      <th>  R-squared:         </th>  <td>   0.001</td>  \n",
       "</tr>\n",
       "<tr>\n",
       "  <th>Model:</th>                   <td>OLS</td>       <th>  Adj. R-squared:    </th>  <td>   0.001</td>  \n",
       "</tr>\n",
       "<tr>\n",
       "  <th>Method:</th>             <td>Least Squares</td>  <th>  F-statistic:       </th>  <td>   5.663</td>  \n",
       "</tr>\n",
       "<tr>\n",
       "  <th>Date:</th>             <td>Sun, 11 Dec 2016</td> <th>  Prob (F-statistic):</th>  <td>0.000150</td>  \n",
       "</tr>\n",
       "<tr>\n",
       "  <th>Time:</th>                 <td>10:59:14</td>     <th>  Log-Likelihood:    </th> <td>-1.1844e+05</td>\n",
       "</tr>\n",
       "<tr>\n",
       "  <th>No. Observations:</th>      <td> 19025</td>      <th>  AIC:               </th>  <td>2.369e+05</td> \n",
       "</tr>\n",
       "<tr>\n",
       "  <th>Df Residuals:</th>          <td> 19020</td>      <th>  BIC:               </th>  <td>2.369e+05</td> \n",
       "</tr>\n",
       "<tr>\n",
       "  <th>Df Model:</th>              <td>     4</td>      <th>                     </th>      <td> </td>     \n",
       "</tr>\n",
       "<tr>\n",
       "  <th>Covariance Type:</th>      <td>nonrobust</td>    <th>                     </th>      <td> </td>     \n",
       "</tr>\n",
       "</table>\n",
       "<table class=\"simpletable\">\n",
       "<tr>\n",
       "           <td></td>             <th>coef</th>     <th>std err</th>      <th>t</th>      <th>P>|t|</th> <th>[95.0% Conf. Int.]</th> \n",
       "</tr>\n",
       "<tr>\n",
       "  <th>const</th>              <td>  208.0097</td> <td>   77.792</td> <td>    2.674</td> <td> 0.008</td> <td>   55.531   360.488</td>\n",
       "</tr>\n",
       "<tr>\n",
       "  <th>compound_sentiment</th> <td>   22.9149</td> <td>    5.485</td> <td>    4.178</td> <td> 0.000</td> <td>   12.163    33.667</td>\n",
       "</tr>\n",
       "<tr>\n",
       "  <th>positive_sentiment</th> <td> -112.2952</td> <td>   78.783</td> <td>   -1.425</td> <td> 0.154</td> <td> -266.716    42.126</td>\n",
       "</tr>\n",
       "<tr>\n",
       "  <th>negative_sentiment</th> <td>  -58.5209</td> <td>   91.914</td> <td>   -0.637</td> <td> 0.524</td> <td> -238.681   121.639</td>\n",
       "</tr>\n",
       "<tr>\n",
       "  <th>neutral_sentiment</th>  <td>  -59.0686</td> <td>   77.896</td> <td>   -0.758</td> <td> 0.448</td> <td> -211.752    93.614</td>\n",
       "</tr>\n",
       "</table>\n",
       "<table class=\"simpletable\">\n",
       "<tr>\n",
       "  <th>Omnibus:</th>       <td>30859.755</td> <th>  Durbin-Watson:     </th>   <td>   1.996</td>  \n",
       "</tr>\n",
       "<tr>\n",
       "  <th>Prob(Omnibus):</th>  <td> 0.000</td>   <th>  Jarque-Bera (JB):  </th> <td>61605992.393</td>\n",
       "</tr>\n",
       "<tr>\n",
       "  <th>Skew:</th>           <td>10.276</td>   <th>  Prob(JB):          </th>   <td>    0.00</td>  \n",
       "</tr>\n",
       "<tr>\n",
       "  <th>Kurtosis:</th>       <td>281.017</td>  <th>  Cond. No.          </th>   <td>    266.</td>  \n",
       "</tr>\n",
       "</table>"
      ],
      "text/plain": [
       "<class 'statsmodels.iolib.summary.Summary'>\n",
       "\"\"\"\n",
       "                            OLS Regression Results                            \n",
       "==============================================================================\n",
       "Dep. Variable:                  price   R-squared:                       0.001\n",
       "Model:                            OLS   Adj. R-squared:                  0.001\n",
       "Method:                 Least Squares   F-statistic:                     5.663\n",
       "Date:                Sun, 11 Dec 2016   Prob (F-statistic):           0.000150\n",
       "Time:                        10:59:14   Log-Likelihood:            -1.1844e+05\n",
       "No. Observations:               19025   AIC:                         2.369e+05\n",
       "Df Residuals:                   19020   BIC:                         2.369e+05\n",
       "Df Model:                           4                                         \n",
       "Covariance Type:            nonrobust                                         \n",
       "======================================================================================\n",
       "                         coef    std err          t      P>|t|      [95.0% Conf. Int.]\n",
       "--------------------------------------------------------------------------------------\n",
       "const                208.0097     77.792      2.674      0.008        55.531   360.488\n",
       "compound_sentiment    22.9149      5.485      4.178      0.000        12.163    33.667\n",
       "positive_sentiment  -112.2952     78.783     -1.425      0.154      -266.716    42.126\n",
       "negative_sentiment   -58.5209     91.914     -0.637      0.524      -238.681   121.639\n",
       "neutral_sentiment    -59.0686     77.896     -0.758      0.448      -211.752    93.614\n",
       "==============================================================================\n",
       "Omnibus:                    30859.755   Durbin-Watson:                   1.996\n",
       "Prob(Omnibus):                  0.000   Jarque-Bera (JB):         61605992.393\n",
       "Skew:                          10.276   Prob(JB):                         0.00\n",
       "Kurtosis:                     281.017   Cond. No.                         266.\n",
       "==============================================================================\n",
       "\n",
       "Warnings:\n",
       "[1] Standard Errors assume that the covariance matrix of the errors is correctly specified.\n",
       "\"\"\""
      ]
     },
     "execution_count": 47,
     "metadata": {},
     "output_type": "execute_result"
    }
   ],
   "source": [
    "import statsmodels.api as sm\n",
    "x = combined_data[[\"compound_sentiment\", \"positive_sentiment\", \"negative_sentiment\", \"neutral_sentiment\"]]\n",
    "y = combined_data[[\"price\"]]\n",
    "x = sm.add_constant(x)\n",
    "model = sm.OLS(y, x)\n",
    "results = model.fit()\n",
    "results.summary()"
   ]
  },
  {
   "cell_type": "markdown",
   "metadata": {},
   "source": [
    "Review sentiment score does not appear to affect price on its own."
   ]
  }
 ],
 "metadata": {
  "anaconda-cloud": {},
  "kernelspec": {
   "display_name": "Python 2",
   "language": "python",
   "name": "python2"
  },
  "language_info": {
   "codemirror_mode": {
    "name": "ipython",
    "version": 2
   },
   "file_extension": ".py",
   "mimetype": "text/x-python",
   "name": "python",
   "nbconvert_exporter": "python",
   "pygments_lexer": "ipython2",
   "version": "2.7.12"
  }
 },
 "nbformat": 4,
 "nbformat_minor": 0
}
