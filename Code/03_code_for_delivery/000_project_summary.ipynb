{
 "cells": [
  {
   "cell_type": "markdown",
   "metadata": {},
   "source": [
    "# CS 109A/AC 209A/STAT 121A Data Science: Final Project\n",
    "**Harvard University**<br>\n",
    "**Fall 2016**<br>\n",
    "**Instructors:** W. Pan, P. Protopapas, K. Rader<br>\n",
    "**Members: ** Shawn Pan, Xinyuan (Amy) Wang, Ming-long Wu"
   ]
  },
  {
   "cell_type": "markdown",
   "metadata": {},
   "source": [
    "# Project Summary #\n",
    "## Introduction\n",
    "\n",
    "Peer-to-peer rental networks such as Airbnb have become an alternative to hotels and other traditional accommodations for travelers seeking cheaper prices or a more personal experience. Renters will often have specific preferences such location, dates, cleanliness, or number of guests, but quantifying how these preferences affect the price is a challenge. Renters on a budget would like to know how various preferences affect the price, so they can make informed choices and compromises when planning their travel. The objective of our project is to predict the price of a Airbnb rental in the New York area based on user preferences"
   ]
  },
  {
   "cell_type": "markdown",
   "metadata": {},
   "source": [
    "# Dataset\n",
    "- Data from Airbnb listings in 2015 are used.\n",
    "### listings\n",
    "- Data that contain location, pysical properties, review scores\n",
    "### calendar\n",
    "- Data that contain listing price on different days of 2015.\n",
    "### reviews\n",
    "- Data that contain review texts from users."
   ]
  },
  {
   "cell_type": "markdown",
   "metadata": {},
   "source": [
    "# Workflow\n",
    "<img src=\"Figures/Workflow.png\">"
   ]
  },
  {
   "cell_type": "markdown",
   "metadata": {},
   "source": [
    "# 01. Load data\n",
    "- File: 010_load_data.ipynb\n",
    "- We loaded three datasets and correct any incorrect format of data for later analysis."
   ]
  },
  {
   "cell_type": "markdown",
   "metadata": {},
   "source": [
    "# 02. Data exploration\n",
    "\n",
    "## Listing data\n",
    "- File: 021_visualize_listings_1.ipynb, 021_visualize_listings_2.ipynb\n",
    "- We explored listing data to have better understanding of overall listing distribution.\n",
    "- Correlation between predictors\n",
    "    - <img src=\"Figures/Fig_021.png\">\n",
    "- Most of properties are apartments (> 85%).\n",
    "- Most of listings rent the whole property (> 50%).\n",
    "- Most of prices are below 200.\n",
    "- Most of review scores are high (> 8)\n",
    "\n",
    "## Calendar data\n",
    "- File: 022_visualize_calendar.ipynb\n",
    "- There is a temporal trend in prices, including local trend (weekend spikes) and global trend (monthly fluctuation).\n",
    "    - <img src=\"Figures/Fig_022.png\">\n",
    "\n",
    "## Review data\n",
    "- File: 023_visualize_reviews.ipynb\n",
    "- We cleaned 10% of non-English review texts.\n",
    "- We analyzed review texts with VADER (Valence Aware Dictionary and sEntiment Reasoner) to get sentiment scores for reviews.\n",
    "- We checked correlation between price and sentiment scores, it turned out to be low.\n",
    "    - <img src=\"Figures/Fig_023.png\">\n",
    "\n",
    "## Location clustering of price\n",
    "- File: 024_location_clustering.ipynb\n",
    "- We checked location clustering of price by KNN\n",
    "- **This feature can be used for feature engineering in later steps.**\n",
    "    - <img src=\"Figures/Fig_024.png\">\n",
    "\n",
    "## Conclusion from data exploration\n",
    "- **We mainly use listing data for its aboundance of features for price prediction.**\n",
    "- Althouth calendar data include info for temporal effect of price, we decided not to include the info because: **(1) Predicting a standard price based on the critera of the rental is our primary goal.** (2) On average, weekend price surge is only about 3%. (3) We checked different Airbnb calendar data and found that the global price fluctuation we saw varies in different dataset.\n",
    "- The review text sentiment scores are not correlated to price. So, we decided not to include them in our model. In addition, in listing data, we already have various numerical review scores."
   ]
  },
  {
   "cell_type": "markdown",
   "metadata": {},
   "source": [
    "# 03. Baseline model\n",
    "\n",
    "- File: 030_baseline.ipynb\n",
    "- We fit the data with a linear regression model\n",
    "- Train Score 0.283973128565\n",
    "- Test Score 0.312829854813\n",
    "- We performed cross validation and R^2 values are stable.\n"
   ]
  },
  {
   "cell_type": "code",
   "execution_count": null,
   "metadata": {
    "collapsed": true
   },
   "outputs": [],
   "source": []
  },
  {
   "cell_type": "code",
   "execution_count": null,
   "metadata": {
    "collapsed": true
   },
   "outputs": [],
   "source": []
  },
  {
   "cell_type": "code",
   "execution_count": null,
   "metadata": {
    "collapsed": true
   },
   "outputs": [],
   "source": []
  },
  {
   "cell_type": "code",
   "execution_count": null,
   "metadata": {
    "collapsed": true
   },
   "outputs": [],
   "source": []
  },
  {
   "cell_type": "code",
   "execution_count": null,
   "metadata": {
    "collapsed": true
   },
   "outputs": [],
   "source": []
  },
  {
   "cell_type": "code",
   "execution_count": null,
   "metadata": {
    "collapsed": true
   },
   "outputs": [],
   "source": []
  },
  {
   "cell_type": "code",
   "execution_count": null,
   "metadata": {
    "collapsed": true
   },
   "outputs": [],
   "source": []
  },
  {
   "cell_type": "code",
   "execution_count": null,
   "metadata": {
    "collapsed": true
   },
   "outputs": [],
   "source": []
  },
  {
   "cell_type": "code",
   "execution_count": null,
   "metadata": {
    "collapsed": true
   },
   "outputs": [],
   "source": []
  },
  {
   "cell_type": "code",
   "execution_count": null,
   "metadata": {
    "collapsed": true
   },
   "outputs": [],
   "source": []
  },
  {
   "cell_type": "code",
   "execution_count": null,
   "metadata": {
    "collapsed": true
   },
   "outputs": [],
   "source": []
  },
  {
   "cell_type": "code",
   "execution_count": null,
   "metadata": {
    "collapsed": true
   },
   "outputs": [],
   "source": []
  }
 ],
 "metadata": {
  "anaconda-cloud": {},
  "kernelspec": {
   "display_name": "Python [py27]",
   "language": "python",
   "name": "Python [py27]"
  },
  "language_info": {
   "codemirror_mode": {
    "name": "ipython",
    "version": 2
   },
   "file_extension": ".py",
   "mimetype": "text/x-python",
   "name": "python",
   "nbconvert_exporter": "python",
   "pygments_lexer": "ipython2",
   "version": "2.7.12"
  }
 },
 "nbformat": 4,
 "nbformat_minor": 0
}
