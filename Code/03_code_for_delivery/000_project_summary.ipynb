{
 "cells": [
  {
   "cell_type": "markdown",
   "metadata": {},
   "source": [
    "# CS 109A/AC 209A/STAT 121A Data Science: Final Project\n",
    "**Harvard University**<br>\n",
    "**Fall 2016**<br>\n",
    "**Instructors:** W. Pan, P. Protopapas, K. Rader<br>\n",
    "**Members: ** Shawn Pan, Xinyuan (Amy) Wang, Ming-long Wu"
   ]
  },
  {
   "cell_type": "markdown",
   "metadata": {},
   "source": [
    "# Project Summary #\n",
    "## Introduction\n",
    "\n",
    "Peer-to-peer rental networks such as Airbnb have become an alternative to hotels and other traditional accommodations for travelers seeking cheaper prices or a more personal experience. Renters will often have specific preferences such location, dates, cleanliness, or number of guests, but quantifying how these preferences affect the price is a challenge. Renters on a budget would like to know how various preferences affect the price, so they can make informed choices and compromises when planning their travel. The objective of our project is to predict the price of a Airbnb rental in the New York area based on user preferences"
   ]
  },
  {
   "cell_type": "markdown",
   "metadata": {},
   "source": [
    "# Dataset\n",
    "- Data from Airbnb listings in 2015 are used.\n",
    "### listings\n",
    "- Data that contain location, pysical properties, review scores\n",
    "### calendar\n",
    "- Data that contain listing price on different days of 2015.\n",
    "### reviews\n",
    "- Data that contain review texts from users."
   ]
  },
  {
   "cell_type": "markdown",
   "metadata": {},
   "source": [
    "# Workflow\n",
    "<img src=\"Figures/Workflow.png\">"
   ]
  },
  {
   "cell_type": "markdown",
   "metadata": {},
   "source": [
    "# 01. Load data\n",
    "- **File**: 010_load_data.ipynb\n",
    "- We loaded three datasets and correct any incorrect format of data for later analysis."
   ]
  },
  {
   "cell_type": "markdown",
   "metadata": {},
   "source": [
    "# 02. Data exploration\n",
    "\n",
    "## Listing data\n",
    "- **File**: 021_visualize_listings_1.ipynb, 021_visualize_listings_2.ipynb\n",
    "- We explored listing data to have better understanding of overall listing distribution.\n",
    "- Correlation between predictors\n",
    "    - <img src=\"Figures/Fig_021.png\">\n",
    "- Most of properties are apartments (> 85%).\n",
    "- Most of listings rent the whole property (> 50%).\n",
    "- Most of prices are below 200.\n",
    "- Most of review scores are high (> 8)\n",
    "\n",
    "## Calendar data\n",
    "- **File**: 022_visualize_calendar.ipynb\n",
    "- There is a temporal trend in prices, including local trend (weekend spikes) and global trend (monthly fluctuation).\n",
    "    - <img src=\"Figures/Fig_022.png\">\n",
    "\n",
    "## Review data\n",
    "- **File**: 023_visualize_reviews.ipynb\n",
    "- We cleaned 10% of non-English review texts.\n",
    "- We analyzed review texts with VADER (Valence Aware Dictionary and sEntiment Reasoner) to get sentiment scores for reviews.\n",
    "- We checked correlation between price and sentiment scores, it turned out to be low.\n",
    "    - <img src=\"Figures/Fig_023.png\">\n",
    "\n",
    "## Location clustering of price\n",
    "- **File**: 024_location_clustering.ipynb\n",
    "- We checked location clustering of price by KNN\n",
    "- **This feature can be used for feature engineering in later steps.**\n",
    "    - <img src=\"Figures/Fig_024.png\">\n",
    "\n",
    "## Conclusion from data exploration\n",
    "- **We mainly use listing data for its aboundance of features for price prediction.**\n",
    "- Althouth calendar data include info for temporal effect of price, we decided not to include the info because: **(1) Predicting a standard price based on the critera of the rental is our primary goal.** (2) On average, weekend price surge is only about 3%. (3) We checked different Airbnb calendar data and found that the global price fluctuation we saw varies in different dataset.\n",
    "- The review text sentiment scores are not correlated to price. So, we decided not to include them in our model. In addition, in listing data, we already have various numerical review scores."
   ]
  },
  {
   "cell_type": "markdown",
   "metadata": {},
   "source": [
    "# 03. Baseline model\n",
    "\n",
    "- **File**: 030_baseline.ipynb\n",
    "- We fit the data with a linear regression model\n",
    "- Train Score 0.283973128565\n",
    "- Test Score 0.312829854813\n",
    "- We performed cross validation and R^2 values are stable.\n"
   ]
  },
  {
   "cell_type": "markdown",
   "metadata": {},
   "source": [
    "# 04. Preprocessing\n",
    "\n",
    "- **File**: 041_preprocessing.ipynb\n",
    "- We checked distribution of price (y) and found it's right skewed.\n",
    "- By log transformation, we were able to get a response distribution that is close to symmetric (which is good for linear regression models).\n",
    "    - <img src=\"Figures/Fig_041.png\">\n",
    "- We checked missing data, most of them are in review scores.\n",
    "- We filled missing numerical data with mean and very few missing categorical data with mode.\n",
    "    - <img src=\"Figures/Fig_042.png\">\n",
    "\n",
    "- We one hot encoded categorical data.\n"
   ]
  },
  {
   "cell_type": "markdown",
   "metadata": {},
   "source": [
    "# 04. Data reduction\n",
    "\n",
    "- **File**: 042_predictor_selection.ipynb, 043_reduce_dim.ipynb\n",
    "- We used recursive feature selection and LASSO for feature selection.\n",
    "- We compared results from two methods and select a set of 27 important predictors.\n",
    "- Selected features = [\"accommodates\", \"bathrooms\", \"bedrooms\", \"review_scores_checkin\", \"review_scores_communication\", \"latitude\", \"longitude\", \"property_type_0\", \"property_type_1\", \"property_type_2\", \"property_type_3\", \"property_type_4\", \"property_type_5\", \"room_type_0\", \"room_type_1\", \"room_type_2\", \"bed_type_0\", \"bed_type_1\", \"bed_type_2\", \"bed_type_3\", \"bed_type_4\", \"beds\", \"review_scores_value\", \"host_listing_count\", \"review_scores_cleanliness\", \"review_scores_accuracy\", \"minimum_nights\"]\n",
    "- We performed PCA to have 99.9% of explained variance and fit PCA reduced data to a linear regression.\n",
    "    - R^2 is 0.118438992869. Therefore, we decided not to use PCA and also because our number of predictors are not large.\n"
   ]
  },
  {
   "cell_type": "markdown",
   "metadata": {},
   "source": [
    "# 05. Linear models\n",
    "\n",
    "- **File**: 051_linear_regression.ipynb\n",
    "- **Models**: Linear regression, Lasso, Ridge, Elastic Net\n",
    "    - <img src=\"Figures/Fig_051.png\" width=\"70%\" height=\"70%\">\n"
   ]
  },
  {
   "cell_type": "markdown",
   "metadata": {},
   "source": [
    "- **File**: 052_quadratic_regression.ipynb\n",
    "- Quadratic transformation of numerical predictors.\n",
    "- **Models**: Quadratic regression, Quadratic Lasso, Quadratic Ridge, Quadratic Elastic Net\n",
    "    - <img src=\"Figures/Fig_052.png\"  width=\"80%\" height=\"80%\">\n"
   ]
  },
  {
   "cell_type": "markdown",
   "metadata": {},
   "source": [
    "- **File**: 053_tree_methods.ipynb\n",
    "- **Models**: Random forest, Adaboost"
   ]
  },
  {
   "cell_type": "markdown",
   "metadata": {},
   "source": [
    "- **File**: 054_SVR.ipynb\n",
    "- **Model**: SVR"
   ]
  },
  {
   "cell_type": "markdown",
   "metadata": {},
   "source": [
    "- **File**: 055_ensemble.ipynb\n",
    "- **Model**:Gradient Boosting"
   ]
  },
  {
   "cell_type": "markdown",
   "metadata": {},
   "source": [
    "- **File**: 056_neural_network.ipynb\n",
    "- **Model**: Neural Network (four layers fully connected model)\n",
    "- <img src=\"Figures/Fig_055.png\" width=\"90%\" height=\"90%\">"
   ]
  },
  {
   "cell_type": "markdown",
   "metadata": {
    "collapsed": true
   },
   "source": [
    "- **File**: 057_chosen_model.ipynb\n",
    "- **Model: Random forest**\n",
    "- **Error analysis**\n",
    "    - <img src=\"Figures/Fig_053.png\">\n",
    "    - <img src=\"Figures/Fig_054.png\">"
   ]
  },
  {
   "cell_type": "markdown",
   "metadata": {
    "collapsed": true
   },
   "source": [
    "## Discussion\n",
    "\n",
    "\n",
    "## Conclusion\n",
    "\n"
   ]
  },
  {
   "cell_type": "code",
   "execution_count": null,
   "metadata": {
    "collapsed": true
   },
   "outputs": [],
   "source": []
  },
  {
   "cell_type": "code",
   "execution_count": null,
   "metadata": {
    "collapsed": true
   },
   "outputs": [],
   "source": []
  }
 ],
 "metadata": {
  "anaconda-cloud": {},
  "kernelspec": {
   "display_name": "Python [py27]",
   "language": "python",
   "name": "Python [py27]"
  },
  "language_info": {
   "codemirror_mode": {
    "name": "ipython",
    "version": 2
   },
   "file_extension": ".py",
   "mimetype": "text/x-python",
   "name": "python",
   "nbconvert_exporter": "python",
   "pygments_lexer": "ipython2",
   "version": "2.7.12"
  }
 },
 "nbformat": 4,
 "nbformat_minor": 0
}
