{
 "cells": [
  {
   "cell_type": "markdown",
   "metadata": {},
   "source": [
    "# CS 109A/AC 209A/STAT 121A Data Science: Final Project\n",
    "**Harvard University**<br>\n",
    "**Fall 2016**<br>\n",
    "**Instructors:** W. Pan, P. Protopapas, K. Rader<br>\n",
    "**Members: ** Shawn Pan, Xinyuan (Amy) Wang, Ming-long Wu"
   ]
  },
  {
   "cell_type": "markdown",
   "metadata": {},
   "source": [
    "## SVR ##\n",
    "- $R^2 = 0.678$\n",
    "- To slow to be a practical model, and performs the same as random forest. "
   ]
  },
  {
   "cell_type": "code",
   "execution_count": 1,
   "metadata": {
    "collapsed": false
   },
   "outputs": [],
   "source": [
    "import numpy as np\n",
    "import pandas as pd\n",
    "import itertools as it\n",
    "import matplotlib\n",
    "import matplotlib.pyplot as plt\n",
    "import matplotlib.cm as cmx\n",
    "import matplotlib.colors as colors\n",
    "import time\n",
    "from itertools import combinations\n",
    "from sklearn import preprocessing\n",
    "from sklearn.cross_validation import train_test_split\n",
    "from sklearn.pipeline import Pipeline\n",
    "from sklearn.svm import SVR\n",
    "from sklearn.grid_search import GridSearchCV\n",
    "%matplotlib inline"
   ]
  },
  {
   "cell_type": "code",
   "execution_count": 2,
   "metadata": {
    "collapsed": false
   },
   "outputs": [
    {
     "data": {
      "text/html": [
       "<div>\n",
       "<table border=\"1\" class=\"dataframe\">\n",
       "  <thead>\n",
       "    <tr style=\"text-align: right;\">\n",
       "      <th></th>\n",
       "      <th>accommodates</th>\n",
       "      <th>bathrooms</th>\n",
       "      <th>bedrooms</th>\n",
       "      <th>review_scores_checkin</th>\n",
       "      <th>review_scores_communication</th>\n",
       "      <th>latitude</th>\n",
       "      <th>longitude</th>\n",
       "      <th>property_type_0</th>\n",
       "      <th>property_type_1</th>\n",
       "      <th>property_type_2</th>\n",
       "      <th>...</th>\n",
       "      <th>bed_type_2</th>\n",
       "      <th>bed_type_3</th>\n",
       "      <th>bed_type_4</th>\n",
       "      <th>beds</th>\n",
       "      <th>review_scores_value</th>\n",
       "      <th>host_listing_count</th>\n",
       "      <th>review_scores_cleanliness</th>\n",
       "      <th>review_scores_accuracy</th>\n",
       "      <th>minimum_nights</th>\n",
       "      <th>price</th>\n",
       "    </tr>\n",
       "  </thead>\n",
       "  <tbody>\n",
       "    <tr>\n",
       "      <th>0</th>\n",
       "      <td>2</td>\n",
       "      <td>1.0</td>\n",
       "      <td>1.0</td>\n",
       "      <td>9.0</td>\n",
       "      <td>9.0</td>\n",
       "      <td>40.756852</td>\n",
       "      <td>-73.964754</td>\n",
       "      <td>1.0</td>\n",
       "      <td>0.0</td>\n",
       "      <td>0.0</td>\n",
       "      <td>...</td>\n",
       "      <td>0.0</td>\n",
       "      <td>0.0</td>\n",
       "      <td>0.0</td>\n",
       "      <td>1.0</td>\n",
       "      <td>9.0</td>\n",
       "      <td>1</td>\n",
       "      <td>7.0</td>\n",
       "      <td>9.0</td>\n",
       "      <td>3</td>\n",
       "      <td>160</td>\n",
       "    </tr>\n",
       "    <tr>\n",
       "      <th>1</th>\n",
       "      <td>10</td>\n",
       "      <td>1.0</td>\n",
       "      <td>3.0</td>\n",
       "      <td>9.0</td>\n",
       "      <td>8.0</td>\n",
       "      <td>40.830599</td>\n",
       "      <td>-73.941014</td>\n",
       "      <td>1.0</td>\n",
       "      <td>0.0</td>\n",
       "      <td>0.0</td>\n",
       "      <td>...</td>\n",
       "      <td>0.0</td>\n",
       "      <td>0.0</td>\n",
       "      <td>0.0</td>\n",
       "      <td>3.0</td>\n",
       "      <td>8.0</td>\n",
       "      <td>2</td>\n",
       "      <td>8.0</td>\n",
       "      <td>8.0</td>\n",
       "      <td>1</td>\n",
       "      <td>105</td>\n",
       "    </tr>\n",
       "  </tbody>\n",
       "</table>\n",
       "<p>2 rows × 28 columns</p>\n",
       "</div>"
      ],
      "text/plain": [
       "   accommodates  bathrooms  bedrooms  review_scores_checkin  \\\n",
       "0             2        1.0       1.0                    9.0   \n",
       "1            10        1.0       3.0                    9.0   \n",
       "\n",
       "   review_scores_communication   latitude  longitude  property_type_0  \\\n",
       "0                          9.0  40.756852 -73.964754              1.0   \n",
       "1                          8.0  40.830599 -73.941014              1.0   \n",
       "\n",
       "   property_type_1  property_type_2  ...    bed_type_2  bed_type_3  \\\n",
       "0              0.0              0.0  ...           0.0         0.0   \n",
       "1              0.0              0.0  ...           0.0         0.0   \n",
       "\n",
       "   bed_type_4  beds  review_scores_value  host_listing_count  \\\n",
       "0         0.0   1.0                  9.0                   1   \n",
       "1         0.0   3.0                  8.0                   2   \n",
       "\n",
       "   review_scores_cleanliness  review_scores_accuracy  minimum_nights  price  \n",
       "0                        7.0                     9.0               3    160  \n",
       "1                        8.0                     8.0               1    105  \n",
       "\n",
       "[2 rows x 28 columns]"
      ]
     },
     "execution_count": 2,
     "metadata": {},
     "output_type": "execute_result"
    }
   ],
   "source": [
    "# Load listing data\n",
    "listing = pd.read_csv('../../Data/data_after_predictor_selection.csv')\n",
    "listing.head(2)"
   ]
  },
  {
   "cell_type": "code",
   "execution_count": 3,
   "metadata": {
    "collapsed": false
   },
   "outputs": [
    {
     "name": "stdout",
     "output_type": "stream",
     "text": [
      "(27392, 27)\n",
      "(27392,)\n"
     ]
    }
   ],
   "source": [
    "y = np.log(listing[\"price\"])\n",
    "x = listing[[col for col in listing.columns if col != \"price\"]]\n",
    "print x.shape\n",
    "print y.shape"
   ]
  },
  {
   "cell_type": "code",
   "execution_count": 4,
   "metadata": {
    "collapsed": true
   },
   "outputs": [],
   "source": [
    "from sklearn.base import BaseEstimator\n",
    "from sklearn.base import TransformerMixin\n",
    "from sklearn.neighbors import KNeighborsRegressor\n",
    "\n",
    "class LocationPreprocessor(BaseEstimator, TransformerMixin):\n",
    "    def __init__(self):\n",
    "        self.model = KNeighborsRegressor(n_neighbors=50, weights=\"uniform\")\n",
    "        super(LocationPreprocessor, self).__init__()\n",
    "        \n",
    "    def fit_transform(self, X, y):\n",
    "        self.model.fit(X[[\"longitude\", \"latitude\"]], y)\n",
    "        return self.transform(X)\n",
    "    \n",
    "    def transform(self, X):\n",
    "        loc = self.model.predict(X[[\"longitude\", \"latitude\"]])\n",
    "        Xnew = X.copy()\n",
    "        Xnew[\"location\"] = loc\n",
    "        return Xnew"
   ]
  },
  {
   "cell_type": "markdown",
   "metadata": {},
   "source": [
    "# SVR\n",
    "\n",
    "### Single Split at Various C \n",
    "(too slow to do full grid search)"
   ]
  },
  {
   "cell_type": "code",
   "execution_count": 5,
   "metadata": {
    "collapsed": false
   },
   "outputs": [
    {
     "name": "stdout",
     "output_type": "stream",
     "text": [
      "Train Score 0.706609314812\n",
      "Test Score 0.676630285219\n",
      "Compute Time 16.7144479752\n"
     ]
    }
   ],
   "source": [
    "x_train, x_test, y_train, y_test = train_test_split(x, y, test_size=0.3, random_state=0)\n",
    "model = Pipeline([\n",
    "            (\"location\", LocationPreprocessor()),\n",
    "            (\"svr\", SVR(C=1))\n",
    "        ])\n",
    "\n",
    "start_time = time.time()\n",
    "model.fit(x_train, y_train)\n",
    "compute_time = time.time() - start_time\n",
    "\n",
    "print \"Train Score\", model.score(x_train, y_train)\n",
    "print \"Test Score\", model.score(x_test, y_test)\n",
    "print \"Compute Time\", compute_time"
   ]
  },
  {
   "cell_type": "code",
   "execution_count": 6,
   "metadata": {
    "collapsed": false
   },
   "outputs": [
    {
     "name": "stdout",
     "output_type": "stream",
     "text": [
      "Train Score 0.735636620129\n",
      "Test Score 0.678170699523\n",
      "Compute Time 35.0556018353\n"
     ]
    }
   ],
   "source": [
    "model = Pipeline([\n",
    "            (\"location\", LocationPreprocessor()),\n",
    "            (\"svr\", SVR(C=10))\n",
    "        ])\n",
    "\n",
    "start_time = time.time()\n",
    "model.fit(x_train, y_train)\n",
    "compute_time = time.time() - start_time\n",
    "\n",
    "print \"Train Score\", model.score(x_train, y_train)\n",
    "print \"Test Score\", model.score(x_test, y_test)\n",
    "print \"Compute Time\", compute_time"
   ]
  },
  {
   "cell_type": "markdown",
   "metadata": {},
   "source": [
    "### Tuning by Cross-Validation\n",
    "too slow be practical"
   ]
  },
  {
   "cell_type": "code",
   "execution_count": null,
   "metadata": {
    "collapsed": false
   },
   "outputs": [],
   "source": [
    "#too slow\n",
    "params = {\"svr__C\": [1, 5, 20],\n",
    "          \"svr__kernel\": [\"rbf\", \"linear\"]}\n",
    "\n",
    "gs = GridSearchCV(model, param_grid=params, n_jobs=10)\n",
    "start_time = time.time()\n",
    "gs.fit(x, y);\n",
    "compute_time = time.time() - start_time\n",
    "\n",
    "print gs.best_score_\n",
    "print gs.best_params_\n",
    "print \"Compute Time\", compute_time"
   ]
  },
  {
   "cell_type": "markdown",
   "metadata": {},
   "source": [
    "### SVR is too slow to be practical!"
   ]
  },
  {
   "cell_type": "code",
   "execution_count": null,
   "metadata": {
    "collapsed": true
   },
   "outputs": [],
   "source": []
  }
 ],
 "metadata": {
  "anaconda-cloud": {},
  "kernelspec": {
   "display_name": "Python [py27]",
   "language": "python",
   "name": "Python [py27]"
  },
  "language_info": {
   "codemirror_mode": {
    "name": "ipython",
    "version": 2
   },
   "file_extension": ".py",
   "mimetype": "text/x-python",
   "name": "python",
   "nbconvert_exporter": "python",
   "pygments_lexer": "ipython2",
   "version": "2.7.12"
  }
 },
 "nbformat": 4,
 "nbformat_minor": 0
}
