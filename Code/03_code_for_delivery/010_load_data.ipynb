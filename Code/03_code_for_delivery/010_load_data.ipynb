{
 "cells": [
  {
   "cell_type": "markdown",
   "metadata": {},
   "source": [
    "# CS 109A/AC 209A/STAT 121A Data Science: Final Project\n",
    "**Harvard University**<br>\n",
    "**Fall 2016**<br>\n",
    "**Instructors:** W. Pan, P. Protopapas, K. Rader<br>\n",
    "**Members: ** Shawn Pan, Xinyuan (Amy) Wang, Ming-long Wu"
   ]
  },
  {
   "cell_type": "markdown",
   "metadata": {},
   "source": [
    "## Remark - 01_load_data ##\n",
    "\n",
    "- Load listings.csv, calendar.csv, and reviews.csv\n",
    "- Store cleaned datasets"
   ]
  },
  {
   "cell_type": "markdown",
   "metadata": {},
   "source": [
    "## Code for loading listings ##"
   ]
  },
  {
   "cell_type": "code",
   "execution_count": null,
   "metadata": {
    "collapsed": false
   },
   "outputs": [],
   "source": [
    "import csv\n",
    "from datetime import date\n",
    "\n",
    "#default transformation\n",
    "def transform_default(input_string):\n",
    "    return input_string.upper().strip()\n",
    "\n",
    "#transform a string date into string number of days after 1/1/08\n",
    "start_date = date(2008, 1, 1)\n",
    "def transform_date(date_string):\n",
    "  if date_string == \"\":\n",
    "    return \"\"\n",
    "  elif \"/\" in date_string:\n",
    "    month, day, year = date_string.split(\"/\")\n",
    "    end_date = date(2000 + int(year), int(month), int(day))\n",
    "    return (end_date - start_date).days\n",
    "  elif \"-\" in date_string:\n",
    "    year, month, day = date_string.split(\"-\")\n",
    "    end_date = date(2000 + int(year), int(month), int(day))\n",
    "    return (end_date - start_date).days\n",
    "  else:\n",
    "    raise ValueError(\"Cannot parse date \" + date_string)\n",
    "\n",
    "#transform price\n",
    "def transform_price(price_string):\n",
    "    if price_string == \"\":\n",
    "        return \"\"\n",
    "    elif len(price_string) > 3 and price_string[0] == \"$\" and price_string[-3:] == \".00\":\n",
    "        return price_string[1:-3].replace(\",\", \"\")\n",
    "    else:\n",
    "        raise ValueError(\"Cannot parse price \" + price_string)\n",
    "\n",
    "#transform zip by removing extended part\n",
    "def transform_zip(zip_string):\n",
    "    if len(zip_string) <= 5:\n",
    "        return zip_string\n",
    "    elif len(zip_string) == 10 and \"-\" in zip_string:\n",
    "        #zip + 4 format\n",
    "        return zip_string.rsplit(\"-\")[0]\n",
    "    else:\n",
    "        #invalid (e.g CALL FOR DETAILS)\n",
    "        return \"\"\n",
    "\n",
    "#transform room type to int\n",
    "bed_type_map = {'REAL BED': 0, 'FUTON': 1, 'PULL-OUT SOFA': 2, 'AIRBED': 3, 'COUCH': 4}\n",
    "def transform_bed_type(input_string):\n",
    "    return bed_type_map[input_string.upper()]\n",
    "\n",
    "#transform room type to int\n",
    "room_type_map = {'ENTIRE HOME/APT': 0, 'PRIVATE ROOM': 1, 'SHARED ROOM': 2}\n",
    "def transform_room_type(input_string):\n",
    "    return room_type_map[input_string.upper()]\n",
    "\n",
    "#transform property type to int, combining rare entries into other = 5\n",
    "property_type_map = {'APARTMENT': 0, 'HOUSE': 1, 'LOFT': 2, 'BED & BREAKFAST': 3, 'DORM': 4,\n",
    "'': 5, 'CHALET': 5,    'EARTH HOUSE': 5, 'CAMPER/RV': 5, 'CABIN': 5, 'LIGHTHOUSE': 5,\n",
    "'VILLA': 5,    'CAVE': 5, 'TREEHOUSE': 5, 'HUT': 5, 'OTHER': 5, 'BOAT': 5, 'CASTLE': 5, 'TENT': 5}\n",
    "def transform_property_type(input_string):\n",
    "    return property_type_map[input_string.upper()]\n",
    "\n",
    "#list of all columns to keep and their cleanup function\n",
    "column_mapping = {\n",
    "    \"id\": transform_default,\n",
    "    #\"scrape_id\"\n",
    "    #\"last_scraped\"\n",
    "    #\"name\"\n",
    "    #\"picture_url\"\n",
    "    #\"host_id\"\n",
    "    #\"host_name\"\n",
    "    \"host_since\": transform_date,\n",
    "    #\"host_picture_url\"\n",
    "    #\"street\"\n",
    "    #\"neighbourhood\"\n",
    "    #\"neighbourhood_cleansed\": transform_default,\n",
    "    #\"city\"\n",
    "    #\"state\"\n",
    "    \"zipcode\": transform_zip,\n",
    "    #\"market\"\n",
    "    #\"country\"\n",
    "    \"latitude\": transform_default,\n",
    "    \"longitude\": transform_default,\n",
    "    #\"is_location_exact\"\n",
    "    \"property_type\": transform_property_type,\n",
    "    \"room_type\": transform_room_type,\n",
    "    \"accommodates\": transform_default,\n",
    "    \"bathrooms\": transform_default,\n",
    "    \"bedrooms\": transform_default,\n",
    "    \"beds\": transform_default,\n",
    "    \"bed_type\": transform_bed_type,\n",
    "    #\"square_feet\"\n",
    "    \"price\": transform_price,\n",
    "    #\"weekly_price\"\n",
    "    #\"monthly_price\"\n",
    "    \"guests_included\": transform_default,\n",
    "    #\"extra_people\"\n",
    "    \"minimum_nights\": transform_default,\n",
    "    \"maximum_nights\": transform_default,\n",
    "    #\"calendar_updated\"\n",
    "    \"availability_30\": transform_default,\n",
    "    \"availability_60\": transform_default,\n",
    "    \"availability_90\": transform_default,\n",
    "    \"availability_365\": transform_default,\n",
    "    #\"calendar_last_scraped\"\n",
    "    \"number_of_reviews\": transform_default,\n",
    "    \"first_review\": transform_date,\n",
    "    \"last_review\": transform_date,\n",
    "    \"review_scores_rating\": transform_default,\n",
    "    \"review_scores_accuracy\": transform_default,\n",
    "    \"review_scores_cleanliness\": transform_default,\n",
    "    \"review_scores_checkin\": transform_default,\n",
    "    \"review_scores_communication\": transform_default,\n",
    "    \"review_scores_location\": transform_default,\n",
    "    \"review_scores_value\": transform_default,\n",
    "    \"host_listing_count\": transform_default\n",
    "}\n",
    "\n",
    "with open(\"../../Data/listings.csv\", \"rU\") as original_data, open(\"../../Data/listings_clean.csv\", \"wb\") as new_data:\n",
    "    #create reader for data\n",
    "    reader = csv.DictReader(original_data)\n",
    "\n",
    "    #generate new headers\n",
    "    headers = list(reader.fieldnames)\n",
    "    new_headers = []\n",
    "    for column in headers:\n",
    "        if column in column_mapping.keys():\n",
    "            new_headers.append(column)\n",
    "    #move price to end\n",
    "    new_headers.append(new_headers.pop(new_headers.index('price')))\n",
    "\n",
    "    #create writer\n",
    "    writer = csv.DictWriter(new_data, new_headers)\n",
    "    writer.writeheader()\n",
    "\n",
    "    for row in reader:\n",
    "        new_row = {}\n",
    "        #transform data\n",
    "        for column, transformer in column_mapping.iteritems():\n",
    "            new_row[column] = transformer(row[column])\n",
    "        #write transformed data to new file\n",
    "        writer.writerow(new_row)\n"
   ]
  },
  {
   "cell_type": "markdown",
   "metadata": {},
   "source": [
    "## Code for loading calendar ##"
   ]
  },
  {
   "cell_type": "code",
   "execution_count": null,
   "metadata": {
    "collapsed": true
   },
   "outputs": [],
   "source": [
    "import numpy as np\n",
    "import pandas as pd\n",
    "import matplotlib\n",
    "import matplotlib.pyplot as plt\n",
    "import matplotlib.cm as cmx\n",
    "import matplotlib.colors as colors\n",
    "import csv\n",
    "import string\n",
    "from datetime import date, timedelta\n",
    "%matplotlib inline"
   ]
  },
  {
   "cell_type": "code",
   "execution_count": null,
   "metadata": {
    "collapsed": false
   },
   "outputs": [],
   "source": [
    "#This cell flattens calendar table to grid of prices\n",
    "#It takes input calendar.csv and outputs to a file calendar_grid.csv\n",
    "#You should only need to run it once to generate the calendar_grid.csv file\n",
    "def transform_price(price_string):\n",
    "    if price_string == \"\":\n",
    "        return \"\"\n",
    "    elif len(price_string) > 3 and price_string[0] == \"$\" and price_string[-3:] == \".00\":\n",
    "        return price_string[1:-3].replace(\",\", \"\")\n",
    "    elif len(price_string) > 1 and price_string[0] == \"$\":\n",
    "        return price_string[1:].replace(\",\", \"\")\n",
    "    else:\n",
    "        raise ValueError(\"Cannot parse price \" + price_string)\n",
    "\n",
    "start_date = date(2015, 1, 1)\n",
    "dates = [str(start_date + timedelta(days=i))[5:] for i in xrange(365)]\n",
    "\n",
    "with open(\"../../Data/calendar.csv\", \"rU\") as original_data, open(\"../../calendar_grid.csv\", \"w\") as new_data:\n",
    "    #create reader for data\n",
    "    #we capture the second half of price in price2\n",
    "    #file format is badly designed with commas in thousands e.g. $1,100\n",
    "    reader = csv.DictReader(original_data, restkey=\"price2\")\n",
    "\n",
    "    #create writer\n",
    "    writer = csv.DictWriter(new_data, [\"listing_id\"] + dates)\n",
    "    writer.writeheader()\n",
    "\n",
    "    new_row = None\n",
    "    current_listing_id = None\n",
    "    for row in reader:\n",
    "        if current_listing_id != row[\"listing_id\"]:\n",
    "            #write previous row\n",
    "            if new_row is not None:\n",
    "                writer.writerow(new_row)\n",
    "            #setup new row\n",
    "            current_listing_id = row[\"listing_id\"]\n",
    "            new_row = {\"listing_id\": current_listing_id}\n",
    "        #join price segments\n",
    "        if \"price2\" in row:\n",
    "            price = row[\"price\"] + string.join(row[\"price2\"])\n",
    "        else:\n",
    "            price = row[\"price\"]\n",
    "        #add date entry\n",
    "        new_row[row[\"date\"][5:]] = transform_price(price)\n",
    "    #write final row\n",
    "    writer.writerow(new_row)"
   ]
  },
  {
   "cell_type": "markdown",
   "metadata": {},
   "source": [
    "## Code for loading reviews ##"
   ]
  },
  {
   "cell_type": "code",
   "execution_count": null,
   "metadata": {
    "collapsed": true
   },
   "outputs": [],
   "source": [
    "import pandas as pd\n",
    "import numpy as np\n",
    "import time\n",
    "from langdetect import detect\n",
    "import goslate\n",
    "from guess_language import guess_language as guess_lan\n",
    "import enchant"
   ]
  },
  {
   "cell_type": "code",
   "execution_count": null,
   "metadata": {
    "collapsed": false
   },
   "outputs": [],
   "source": [
    "# read data\n",
    "reviews = pd.read_csv('../../Data/reviews.csv')\n",
    "\n",
    "# check data\n",
    "reviews.head()"
   ]
  },
  {
   "cell_type": "code",
   "execution_count": null,
   "metadata": {
    "collapsed": true
   },
   "outputs": [],
   "source": [
    "reviews['null_review']=np.zeros([reviews.shape[0],])\n",
    "reviews['if_English']=np.zeros([reviews.shape[0],])"
   ]
  },
  {
   "cell_type": "code",
   "execution_count": null,
   "metadata": {
    "collapsed": true
   },
   "outputs": [],
   "source": [
    "def check_null(row):\n",
    "    \n",
    "    if pd.isnull(row['comments']) is True:\n",
    "        return 1\n",
    "    else:\n",
    "        return 0"
   ]
  },
  {
   "cell_type": "code",
   "execution_count": null,
   "metadata": {
    "collapsed": false
   },
   "outputs": [],
   "source": [
    "# Clean up 'NaN' rows\n",
    "reviews['null_review'] = reviews.apply(check_null, axis=1)\n",
    "reviews = reviews[reviews['null_review'] == 0]\n",
    "# Check reduced data size\n",
    "print reviews.shape"
   ]
  },
  {
   "cell_type": "code",
   "execution_count": null,
   "metadata": {
    "collapsed": true
   },
   "outputs": [],
   "source": [
    "# check if review is English\n",
    "def check_if_english1(row):\n",
    "    in_str = row['comments']\n",
    "    count_not_en = 0\n",
    "    words = in_str.split()\n",
    "    d = enchant.Dict(\"en_US\")\n",
    "    for idx in range(len(words)):\n",
    "        if d.check(words[idx]) is False:\n",
    "            count_not_en += 1\n",
    "    if float(count_not_en)/len(words) > 0.3:\n",
    "        return 0\n",
    "    else:\n",
    "        return 1"
   ]
  },
  {
   "cell_type": "code",
   "execution_count": null,
   "metadata": {
    "collapsed": false
   },
   "outputs": [],
   "source": [
    "# Check if reviews are English\n",
    "reviews['if_English'] = reviews.apply(check_if_english1, axis=1)"
   ]
  },
  {
   "cell_type": "code",
   "execution_count": null,
   "metadata": {
    "collapsed": true
   },
   "outputs": [],
   "source": [
    "reviews_cleaned = pd.DataFrame(reviews[reviews['if_English']==1])\n",
    "reviews_cleaned=reviews_cleaned.drop('null_review', axis = 1)\n",
    "print reviews_cleaned.shape\n"
   ]
  },
  {
   "cell_type": "code",
   "execution_count": null,
   "metadata": {
    "collapsed": true
   },
   "outputs": [],
   "source": [
    "float(reviews_cleaned.shape[0])/277659"
   ]
  },
  {
   "cell_type": "code",
   "execution_count": null,
   "metadata": {
    "collapsed": true
   },
   "outputs": [],
   "source": [
    "reviews_cleaned[1000:1020]"
   ]
  },
  {
   "cell_type": "code",
   "execution_count": null,
   "metadata": {
    "collapsed": true
   },
   "outputs": [],
   "source": [
    "reviews_cleaned.to_csv('./Data/reviews_cleaned.csv', sep=',', index = False)"
   ]
  }
 ],
 "metadata": {
  "anaconda-cloud": {},
  "kernelspec": {
   "display_name": "Python [py27]",
   "language": "python",
   "name": "Python [py27]"
  },
  "language_info": {
   "codemirror_mode": {
    "name": "ipython",
    "version": 2
   },
   "file_extension": ".py",
   "mimetype": "text/x-python",
   "name": "python",
   "nbconvert_exporter": "python",
   "pygments_lexer": "ipython2",
   "version": "2.7.12"
  }
 },
 "nbformat": 4,
 "nbformat_minor": 0
}
