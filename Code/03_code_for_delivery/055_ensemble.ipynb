{
 "cells": [
  {
   "cell_type": "markdown",
   "metadata": {},
   "source": [
    "# CS 109A/AC 209A/STAT 121A Data Science: Final Project\n",
    "**Harvard University**<br>\n",
    "**Fall 2016**<br>\n",
    "**Instructors:** W. Pan, P. Protopapas, K. Rader<br>\n",
    "**Members: ** Shawn Pan, Xinyuan (Amy) Wang, Ming-long Wu"
   ]
  },
  {
   "cell_type": "markdown",
   "metadata": {},
   "source": [
    "## Remark - 055_ensemble.ipynb ##\n",
    "- Do ensemble method\n",
    "- Gradient Boosting R^2 0.65946833061\n"
   ]
  },
  {
   "cell_type": "code",
   "execution_count": 23,
   "metadata": {
    "collapsed": false
   },
   "outputs": [],
   "source": [
    "import time\n",
    "import pandas as pd\n",
    "import numpy as np\n",
    "import scipy as sp\n",
    "from scipy.signal import savgol_filter\n",
    "from scipy.stats import mode\n",
    "import matplotlib\n",
    "import matplotlib.pyplot as plt\n",
    "from matplotlib import dates\n",
    "from matplotlib import colors\n",
    "import matplotlib.dates as mdates\n",
    "from datetime import datetime\n",
    "from collections import Counter\n",
    "from mpl_toolkits.basemap import Basemap\n",
    "import statsmodels.api as sm\n",
    "from sklearn import preprocessing\n",
    "from collections import Counter\n",
    "from sklearn.linear_model import LinearRegression\n",
    "from sklearn.linear_model import Lasso\n",
    "from sklearn.linear_model import LassoCV\n",
    "from sklearn.neighbors import KNeighborsRegressor\n",
    "from sklearn.feature_selection import RFE\n",
    "from sklearn import preprocessing\n",
    "from sklearn.cross_validation import train_test_split\n",
    "%matplotlib inline"
   ]
  },
  {
   "cell_type": "markdown",
   "metadata": {},
   "source": [
    "### Load data"
   ]
  },
  {
   "cell_type": "code",
   "execution_count": 24,
   "metadata": {
    "collapsed": false
   },
   "outputs": [
    {
     "name": "stdout",
     "output_type": "stream",
     "text": [
      "['accommodates' 'bathrooms' 'bedrooms' 'review_scores_checkin'\n",
      " 'review_scores_communication' 'latitude' 'longitude' 'property_type_0'\n",
      " 'property_type_1' 'property_type_2' 'property_type_3' 'property_type_4'\n",
      " 'property_type_5' 'room_type_0' 'room_type_1' 'room_type_2' 'bed_type_0'\n",
      " 'bed_type_1' 'bed_type_2' 'bed_type_3' 'bed_type_4' 'beds'\n",
      " 'review_scores_value' 'host_listing_count' 'review_scores_cleanliness'\n",
      " 'review_scores_accuracy' 'minimum_nights' 'price']\n"
     ]
    },
    {
     "data": {
      "text/html": [
       "<div>\n",
       "<table border=\"1\" class=\"dataframe\">\n",
       "  <thead>\n",
       "    <tr style=\"text-align: right;\">\n",
       "      <th></th>\n",
       "      <th>accommodates</th>\n",
       "      <th>bathrooms</th>\n",
       "      <th>bedrooms</th>\n",
       "      <th>review_scores_checkin</th>\n",
       "      <th>review_scores_communication</th>\n",
       "      <th>latitude</th>\n",
       "      <th>longitude</th>\n",
       "      <th>property_type_0</th>\n",
       "      <th>property_type_1</th>\n",
       "      <th>property_type_2</th>\n",
       "      <th>...</th>\n",
       "      <th>bed_type_2</th>\n",
       "      <th>bed_type_3</th>\n",
       "      <th>bed_type_4</th>\n",
       "      <th>beds</th>\n",
       "      <th>review_scores_value</th>\n",
       "      <th>host_listing_count</th>\n",
       "      <th>review_scores_cleanliness</th>\n",
       "      <th>review_scores_accuracy</th>\n",
       "      <th>minimum_nights</th>\n",
       "      <th>price</th>\n",
       "    </tr>\n",
       "  </thead>\n",
       "  <tbody>\n",
       "    <tr>\n",
       "      <th>0</th>\n",
       "      <td>2</td>\n",
       "      <td>1.0</td>\n",
       "      <td>1.0</td>\n",
       "      <td>9.0</td>\n",
       "      <td>9.0</td>\n",
       "      <td>40.756852</td>\n",
       "      <td>-73.964754</td>\n",
       "      <td>1.0</td>\n",
       "      <td>0.0</td>\n",
       "      <td>0.0</td>\n",
       "      <td>...</td>\n",
       "      <td>0.0</td>\n",
       "      <td>0.0</td>\n",
       "      <td>0.0</td>\n",
       "      <td>1.0</td>\n",
       "      <td>9.0</td>\n",
       "      <td>1</td>\n",
       "      <td>7.0</td>\n",
       "      <td>9.0</td>\n",
       "      <td>3</td>\n",
       "      <td>160</td>\n",
       "    </tr>\n",
       "    <tr>\n",
       "      <th>1</th>\n",
       "      <td>10</td>\n",
       "      <td>1.0</td>\n",
       "      <td>3.0</td>\n",
       "      <td>9.0</td>\n",
       "      <td>8.0</td>\n",
       "      <td>40.830599</td>\n",
       "      <td>-73.941014</td>\n",
       "      <td>1.0</td>\n",
       "      <td>0.0</td>\n",
       "      <td>0.0</td>\n",
       "      <td>...</td>\n",
       "      <td>0.0</td>\n",
       "      <td>0.0</td>\n",
       "      <td>0.0</td>\n",
       "      <td>3.0</td>\n",
       "      <td>8.0</td>\n",
       "      <td>2</td>\n",
       "      <td>8.0</td>\n",
       "      <td>8.0</td>\n",
       "      <td>1</td>\n",
       "      <td>105</td>\n",
       "    </tr>\n",
       "    <tr>\n",
       "      <th>2</th>\n",
       "      <td>2</td>\n",
       "      <td>1.0</td>\n",
       "      <td>1.0</td>\n",
       "      <td>10.0</td>\n",
       "      <td>10.0</td>\n",
       "      <td>40.692189</td>\n",
       "      <td>-73.924120</td>\n",
       "      <td>1.0</td>\n",
       "      <td>0.0</td>\n",
       "      <td>0.0</td>\n",
       "      <td>...</td>\n",
       "      <td>0.0</td>\n",
       "      <td>0.0</td>\n",
       "      <td>0.0</td>\n",
       "      <td>2.0</td>\n",
       "      <td>10.0</td>\n",
       "      <td>4</td>\n",
       "      <td>10.0</td>\n",
       "      <td>10.0</td>\n",
       "      <td>3</td>\n",
       "      <td>58</td>\n",
       "    </tr>\n",
       "    <tr>\n",
       "      <th>3</th>\n",
       "      <td>2</td>\n",
       "      <td>1.0</td>\n",
       "      <td>1.0</td>\n",
       "      <td>10.0</td>\n",
       "      <td>10.0</td>\n",
       "      <td>40.734751</td>\n",
       "      <td>-74.002592</td>\n",
       "      <td>1.0</td>\n",
       "      <td>0.0</td>\n",
       "      <td>0.0</td>\n",
       "      <td>...</td>\n",
       "      <td>0.0</td>\n",
       "      <td>0.0</td>\n",
       "      <td>0.0</td>\n",
       "      <td>1.0</td>\n",
       "      <td>9.0</td>\n",
       "      <td>1</td>\n",
       "      <td>9.0</td>\n",
       "      <td>10.0</td>\n",
       "      <td>10</td>\n",
       "      <td>185</td>\n",
       "    </tr>\n",
       "    <tr>\n",
       "      <th>4</th>\n",
       "      <td>2</td>\n",
       "      <td>1.0</td>\n",
       "      <td>1.0</td>\n",
       "      <td>10.0</td>\n",
       "      <td>10.0</td>\n",
       "      <td>40.745282</td>\n",
       "      <td>-73.997836</td>\n",
       "      <td>1.0</td>\n",
       "      <td>0.0</td>\n",
       "      <td>0.0</td>\n",
       "      <td>...</td>\n",
       "      <td>0.0</td>\n",
       "      <td>0.0</td>\n",
       "      <td>0.0</td>\n",
       "      <td>2.0</td>\n",
       "      <td>10.0</td>\n",
       "      <td>1</td>\n",
       "      <td>10.0</td>\n",
       "      <td>10.0</td>\n",
       "      <td>1</td>\n",
       "      <td>195</td>\n",
       "    </tr>\n",
       "  </tbody>\n",
       "</table>\n",
       "<p>5 rows × 28 columns</p>\n",
       "</div>"
      ],
      "text/plain": [
       "   accommodates  bathrooms  bedrooms  review_scores_checkin  \\\n",
       "0             2        1.0       1.0                    9.0   \n",
       "1            10        1.0       3.0                    9.0   \n",
       "2             2        1.0       1.0                   10.0   \n",
       "3             2        1.0       1.0                   10.0   \n",
       "4             2        1.0       1.0                   10.0   \n",
       "\n",
       "   review_scores_communication   latitude  longitude  property_type_0  \\\n",
       "0                          9.0  40.756852 -73.964754              1.0   \n",
       "1                          8.0  40.830599 -73.941014              1.0   \n",
       "2                         10.0  40.692189 -73.924120              1.0   \n",
       "3                         10.0  40.734751 -74.002592              1.0   \n",
       "4                         10.0  40.745282 -73.997836              1.0   \n",
       "\n",
       "   property_type_1  property_type_2  ...    bed_type_2  bed_type_3  \\\n",
       "0              0.0              0.0  ...           0.0         0.0   \n",
       "1              0.0              0.0  ...           0.0         0.0   \n",
       "2              0.0              0.0  ...           0.0         0.0   \n",
       "3              0.0              0.0  ...           0.0         0.0   \n",
       "4              0.0              0.0  ...           0.0         0.0   \n",
       "\n",
       "   bed_type_4  beds  review_scores_value  host_listing_count  \\\n",
       "0         0.0   1.0                  9.0                   1   \n",
       "1         0.0   3.0                  8.0                   2   \n",
       "2         0.0   2.0                 10.0                   4   \n",
       "3         0.0   1.0                  9.0                   1   \n",
       "4         0.0   2.0                 10.0                   1   \n",
       "\n",
       "   review_scores_cleanliness  review_scores_accuracy  minimum_nights  price  \n",
       "0                        7.0                     9.0               3    160  \n",
       "1                        8.0                     8.0               1    105  \n",
       "2                       10.0                    10.0               3     58  \n",
       "3                        9.0                    10.0              10    185  \n",
       "4                       10.0                    10.0               1    195  \n",
       "\n",
       "[5 rows x 28 columns]"
      ]
     },
     "execution_count": 24,
     "metadata": {},
     "output_type": "execute_result"
    }
   ],
   "source": [
    "# Load listing data\n",
    "listing = pd.read_csv('../../Data/data_after_predictor_selection.csv')\n",
    "print(listing.columns.values)\n",
    "listing.head()"
   ]
  },
  {
   "cell_type": "markdown",
   "metadata": {},
   "source": [
    "## Feature engineering: location clustering to price by KNN ##"
   ]
  },
  {
   "cell_type": "code",
   "execution_count": 25,
   "metadata": {
    "collapsed": true
   },
   "outputs": [],
   "source": [
    "#Step to convert longitude and latitude to price cluster by KNN\n",
    "from sklearn.base import BaseEstimator\n",
    "from sklearn.base import TransformerMixin\n",
    "from sklearn.neighbors import KNeighborsRegressor\n",
    "\n",
    "class LocationPreprocessor(BaseEstimator, TransformerMixin):\n",
    "    def __init__(self):\n",
    "        self.model = KNeighborsRegressor(n_neighbors=50, weights=\"uniform\")\n",
    "        super(LocationPreprocessor, self).__init__()\n",
    "        \n",
    "    def fit_transform(self, X, y):\n",
    "        self.model.fit(X[[\"longitude\", \"latitude\"]], y)\n",
    "        return self.transform(X)\n",
    "    \n",
    "    def transform(self, X):\n",
    "        loc = self.model.predict(X[[\"longitude\", \"latitude\"]])\n",
    "        Xnew = X.copy()\n",
    "        Xnew[\"location\"] = loc\n",
    "        return Xnew"
   ]
  },
  {
   "cell_type": "markdown",
   "metadata": {},
   "source": [
    "## Split data for training and testing data with transformation log(y)##"
   ]
  },
  {
   "cell_type": "code",
   "execution_count": 26,
   "metadata": {
    "collapsed": false
   },
   "outputs": [
    {
     "name": "stdout",
     "output_type": "stream",
     "text": [
      "(27392, 27)\n",
      "(27392,)\n"
     ]
    }
   ],
   "source": [
    "# Get x and y\n",
    "x = listing\n",
    "x = x.drop('price', axis=1)\n",
    "y = listing['price']\n",
    "print x.shape\n",
    "print y.shape"
   ]
  },
  {
   "cell_type": "code",
   "execution_count": 27,
   "metadata": {
    "collapsed": true
   },
   "outputs": [],
   "source": [
    "x_train, x_test, y_train, y_test = train_test_split(x, np.log(y), test_size=0.3, random_state=0)"
   ]
  },
  {
   "cell_type": "markdown",
   "metadata": {},
   "source": [
    "### Ensemble - Gradient Boosting ###"
   ]
  },
  {
   "cell_type": "code",
   "execution_count": 28,
   "metadata": {
    "collapsed": false
   },
   "outputs": [],
   "source": [
    "from sklearn.ensemble import GradientBoostingRegressor\n",
    "from sklearn.grid_search import GridSearchCV\n",
    "\n",
    "n_est = 300\n",
    "tuned_parameters = {\n",
    "\"n_estimators\": [ n_est ],\n",
    "\"max_depth\" : [ 4 ],\n",
    "\"learning_rate\": [ 0.01 ],\n",
    "\"min_samples_split\" : [ 1 ],\n",
    "\"loss\" : [ 'ls', 'lad' ]\n",
    "}\n",
    "gbr = GradientBoostingRegressor()\n",
    "clf = GridSearchCV(gbr, cv=3, param_grid=tuned_parameters)\n",
    "preds = clf.fit(x_train, y_train)\n",
    "best = clf.best_estimator_\n"
   ]
  },
  {
   "cell_type": "code",
   "execution_count": 29,
   "metadata": {
    "collapsed": false
   },
   "outputs": [
    {
     "name": "stdout",
     "output_type": "stream",
     "text": [
      "GradientBoostingRegressor(alpha=0.9, init=None, learning_rate=0.01, loss='ls',\n",
      "             max_depth=4, max_features=None, max_leaf_nodes=None,\n",
      "             min_samples_leaf=1, min_samples_split=1,\n",
      "             min_weight_fraction_leaf=0.0, n_estimators=300,\n",
      "             presort='auto', random_state=None, subsample=1.0, verbose=0,\n",
      "             warm_start=False)\n"
     ]
    }
   ],
   "source": [
    "print best"
   ]
  },
  {
   "cell_type": "code",
   "execution_count": 31,
   "metadata": {
    "collapsed": false
   },
   "outputs": [
    {
     "name": "stdout",
     "output_type": "stream",
     "text": [
      "Train Score 0.661300447664\n",
      "Test Score 0.65946841902\n",
      "Compute Time 7.26501512527\n"
     ]
    }
   ],
   "source": [
    "# fit with optimized parameter\n",
    "start_time = time.time()\n",
    "best.fit(x_train, y_train)\n",
    "compute_time = time.time() - start_time\n",
    "\n",
    "print \"Train Score\", best.score(x_train, y_train)\n",
    "print \"Test Score\", best.score(x_test, y_test)\n",
    "print \"Compute Time\", compute_time\n"
   ]
  },
  {
   "cell_type": "markdown",
   "metadata": {},
   "source": [
    "### Conclusion: Gradient Boosting performs similarly. ###"
   ]
  },
  {
   "cell_type": "code",
   "execution_count": null,
   "metadata": {
    "collapsed": true
   },
   "outputs": [],
   "source": []
  }
 ],
 "metadata": {
  "anaconda-cloud": {},
  "kernelspec": {
   "display_name": "Python [py27]",
   "language": "python",
   "name": "Python [py27]"
  },
  "language_info": {
   "codemirror_mode": {
    "name": "ipython",
    "version": 2
   },
   "file_extension": ".py",
   "mimetype": "text/x-python",
   "name": "python",
   "nbconvert_exporter": "python",
   "pygments_lexer": "ipython2",
   "version": "2.7.12"
  }
 },
 "nbformat": 4,
 "nbformat_minor": 0
}
