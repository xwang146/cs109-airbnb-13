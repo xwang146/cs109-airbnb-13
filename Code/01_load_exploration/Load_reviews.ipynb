{
 "cells": [
  {
   "cell_type": "markdown",
   "metadata": {},
   "source": [
    "# CS 109A/AC 209A/STAT 121A Data Science: Final Project\n",
    "**Harvard University**<br>\n",
    "**Fall 2016**<br>\n",
    "**Instructors:** W. Pan, P. Protopapas, K. Rader<br>\n",
    "**Members: ** Shawn Pan, Xinyuan (Amy) Wang, Ming-long Wu"
   ]
  },
  {
   "cell_type": "markdown",
   "metadata": {},
   "source": [
    "## Remark ##\n",
    "- Code to load reviews"
   ]
  },
  {
   "cell_type": "code",
   "execution_count": 55,
   "metadata": {
    "collapsed": false
   },
   "outputs": [],
   "source": [
    "import pandas as pd\n",
    "import numpy as np\n",
    "import time\n",
    "\n",
    "import enchant\n",
    "import nltk\n",
    "from nltk.sentiment.vader import SentimentIntensityAnalyzer\n",
    "from nltk import tokenize\n",
    "\n",
    "import matplotlib\n",
    "import matplotlib.pyplot as plt\n",
    "%matplotlib inline"
   ]
  },
  {
   "cell_type": "code",
   "execution_count": 3,
   "metadata": {
    "collapsed": false
   },
   "outputs": [
    {
     "data": {
      "text/html": [
       "<div>\n",
       "<table border=\"1\" class=\"dataframe\">\n",
       "  <thead>\n",
       "    <tr style=\"text-align: right;\">\n",
       "      <th></th>\n",
       "      <th>listing_id</th>\n",
       "      <th>id</th>\n",
       "      <th>date</th>\n",
       "      <th>reviewer_id</th>\n",
       "      <th>reviewer_name</th>\n",
       "      <th>comments</th>\n",
       "    </tr>\n",
       "  </thead>\n",
       "  <tbody>\n",
       "    <tr>\n",
       "      <th>0</th>\n",
       "      <td>1180670</td>\n",
       "      <td>14705995</td>\n",
       "      <td>2014-06-24</td>\n",
       "      <td>10875598</td>\n",
       "      <td>Gregory</td>\n",
       "      <td>Ok, if you like the location and don't mind an...</td>\n",
       "    </tr>\n",
       "    <tr>\n",
       "      <th>1</th>\n",
       "      <td>4457617</td>\n",
       "      <td>24432844</td>\n",
       "      <td>2014-12-28</td>\n",
       "      <td>24502047</td>\n",
       "      <td>Amber</td>\n",
       "      <td>Kleine süße WG, super gelegen, sehr freundlich...</td>\n",
       "    </tr>\n",
       "    <tr>\n",
       "      <th>2</th>\n",
       "      <td>722394</td>\n",
       "      <td>9248781</td>\n",
       "      <td>2013-12-16</td>\n",
       "      <td>6821360</td>\n",
       "      <td>Giri</td>\n",
       "      <td>Extremely disappointed.</td>\n",
       "    </tr>\n",
       "    <tr>\n",
       "      <th>3</th>\n",
       "      <td>4074444</td>\n",
       "      <td>23983183</td>\n",
       "      <td>2014-12-15</td>\n",
       "      <td>8822691</td>\n",
       "      <td>Wendy</td>\n",
       "      <td>Exactly as described.</td>\n",
       "    </tr>\n",
       "    <tr>\n",
       "      <th>4</th>\n",
       "      <td>68046</td>\n",
       "      <td>11797670</td>\n",
       "      <td>2014-04-15</td>\n",
       "      <td>12231047</td>\n",
       "      <td>Virginie</td>\n",
       "      <td>Appartement très sympa, accueillant. A quelque...</td>\n",
       "    </tr>\n",
       "  </tbody>\n",
       "</table>\n",
       "</div>"
      ],
      "text/plain": [
       "   listing_id        id        date  reviewer_id reviewer_name  \\\n",
       "0     1180670  14705995  2014-06-24     10875598       Gregory   \n",
       "1     4457617  24432844  2014-12-28     24502047         Amber   \n",
       "2      722394   9248781  2013-12-16      6821360          Giri   \n",
       "3     4074444  23983183  2014-12-15      8822691         Wendy   \n",
       "4       68046  11797670  2014-04-15     12231047      Virginie   \n",
       "\n",
       "                                            comments  \n",
       "0  Ok, if you like the location and don't mind an...  \n",
       "1  Kleine süße WG, super gelegen, sehr freundlich...  \n",
       "2                            Extremely disappointed.  \n",
       "3                              Exactly as described.  \n",
       "4  Appartement très sympa, accueillant. A quelque...  "
      ]
     },
     "execution_count": 3,
     "metadata": {},
     "output_type": "execute_result"
    }
   ],
   "source": [
    "# read data\n",
    "reviews = pd.read_csv('../../Data/reviews.csv')\n",
    "\n",
    "# check data\n",
    "reviews.head()"
   ]
  },
  {
   "cell_type": "code",
   "execution_count": 4,
   "metadata": {
    "collapsed": false
   },
   "outputs": [
    {
     "name": "stdout",
     "output_type": "stream",
     "text": [
      "277659\n"
     ]
    }
   ],
   "source": [
    "print(reviews.shape[0])"
   ]
  },
  {
   "cell_type": "code",
   "execution_count": 5,
   "metadata": {
    "collapsed": false
   },
   "outputs": [],
   "source": [
    "reviews['null_review']=np.zeros([reviews.shape[0],])\n",
    "reviews['if_English']=np.zeros([reviews.shape[0],])"
   ]
  },
  {
   "cell_type": "code",
   "execution_count": 7,
   "metadata": {
    "collapsed": false
   },
   "outputs": [
    {
     "name": "stdout",
     "output_type": "stream",
     "text": [
      "(277495, 8)\n"
     ]
    }
   ],
   "source": [
    "# Clean up 'NaN' rows\n",
    "reviews['null_review'] = reviews.apply(lambda row: int(pd.isnull(row['comments'])), axis=1)\n",
    "reviews = reviews[reviews['null_review'] == 0]\n",
    "# Check reduced data size\n",
    "print reviews.shape"
   ]
  },
  {
   "cell_type": "code",
   "execution_count": 8,
   "metadata": {
    "collapsed": false
   },
   "outputs": [],
   "source": [
    "# check if review is English\n",
    "english_dict = enchant.Dict(\"en_US\")\n",
    "\n",
    "def check_if_english1(row):\n",
    "    count_en = 0\n",
    "    words = row['comments'].split()\n",
    "    for word in words:\n",
    "        count_en += int(english_dict.check(word))\n",
    "    return count_en > 0.7 * len(words)"
   ]
  },
  {
   "cell_type": "code",
   "execution_count": 9,
   "metadata": {
    "collapsed": false
   },
   "outputs": [],
   "source": [
    "# Check if reviews are English\n",
    "reviews['if_English'] = reviews.apply(check_if_english1, axis=1)"
   ]
  },
  {
   "cell_type": "code",
   "execution_count": 11,
   "metadata": {
    "collapsed": false
   },
   "outputs": [
    {
     "name": "stdout",
     "output_type": "stream",
     "text": [
      "(251941, 7)\n"
     ]
    }
   ],
   "source": [
    "reviews_cleaned = pd.DataFrame(reviews[reviews['if_English']==1])\n",
    "reviews_cleaned=reviews_cleaned.drop('null_review', axis = 1)\n",
    "print reviews_cleaned.shape"
   ]
  },
  {
   "cell_type": "code",
   "execution_count": 12,
   "metadata": {
    "collapsed": false
   },
   "outputs": [
    {
     "data": {
      "text/plain": [
       "0.9073755938039105"
      ]
     },
     "execution_count": 12,
     "metadata": {},
     "output_type": "execute_result"
    }
   ],
   "source": [
    "float(reviews_cleaned.shape[0])/277659"
   ]
  },
  {
   "cell_type": "code",
   "execution_count": 24,
   "metadata": {
    "collapsed": false
   },
   "outputs": [
    {
     "data": {
      "text/html": [
       "<div>\n",
       "<table border=\"1\" class=\"dataframe\">\n",
       "  <thead>\n",
       "    <tr style=\"text-align: right;\">\n",
       "      <th></th>\n",
       "      <th>listing_id</th>\n",
       "      <th>id</th>\n",
       "      <th>date</th>\n",
       "      <th>reviewer_id</th>\n",
       "      <th>reviewer_name</th>\n",
       "      <th>comments</th>\n",
       "      <th>if_English</th>\n",
       "    </tr>\n",
       "  </thead>\n",
       "  <tbody>\n",
       "    <tr>\n",
       "      <th>0</th>\n",
       "      <td>1180670</td>\n",
       "      <td>14705995</td>\n",
       "      <td>2014-06-24</td>\n",
       "      <td>10875598</td>\n",
       "      <td>Gregory</td>\n",
       "      <td>Ok, if you like the location and don't mind an...</td>\n",
       "      <td>True</td>\n",
       "    </tr>\n",
       "    <tr>\n",
       "      <th>11107</th>\n",
       "      <td>266756</td>\n",
       "      <td>8042286</td>\n",
       "      <td>2013-10-14</td>\n",
       "      <td>8155079</td>\n",
       "      <td>Crister</td>\n",
       "      <td>Roberto Mike Mercado is a realyable landlord, ...</td>\n",
       "      <td>True</td>\n",
       "    </tr>\n",
       "    <tr>\n",
       "      <th>22122</th>\n",
       "      <td>402201</td>\n",
       "      <td>1578928</td>\n",
       "      <td>2012-06-27</td>\n",
       "      <td>2251260</td>\n",
       "      <td>Dave</td>\n",
       "      <td>The reservation was canceled 183 days before a...</td>\n",
       "      <td>True</td>\n",
       "    </tr>\n",
       "    <tr>\n",
       "      <th>33133</th>\n",
       "      <td>1980203</td>\n",
       "      <td>13452728</td>\n",
       "      <td>2014-05-27</td>\n",
       "      <td>500136</td>\n",
       "      <td>Joseph</td>\n",
       "      <td>Host was a no show.  Huge stress, inconvenienc...</td>\n",
       "      <td>True</td>\n",
       "    </tr>\n",
       "    <tr>\n",
       "      <th>44158</th>\n",
       "      <td>1264732</td>\n",
       "      <td>8209665</td>\n",
       "      <td>2013-10-21</td>\n",
       "      <td>6651045</td>\n",
       "      <td>Ali</td>\n",
       "      <td>Jeffrey is a great host with his amazing promp...</td>\n",
       "      <td>True</td>\n",
       "    </tr>\n",
       "    <tr>\n",
       "      <th>55158</th>\n",
       "      <td>2057534</td>\n",
       "      <td>20496428</td>\n",
       "      <td>2014-09-30</td>\n",
       "      <td>18482309</td>\n",
       "      <td>Julia</td>\n",
       "      <td>Pros: Anwar is a great host! So nice and helpf...</td>\n",
       "      <td>True</td>\n",
       "    </tr>\n",
       "    <tr>\n",
       "      <th>66159</th>\n",
       "      <td>816272</td>\n",
       "      <td>4199429</td>\n",
       "      <td>2013-04-17</td>\n",
       "      <td>5788289</td>\n",
       "      <td>Dan</td>\n",
       "      <td>I booked Cristen's apartment for my parents, a...</td>\n",
       "      <td>True</td>\n",
       "    </tr>\n",
       "    <tr>\n",
       "      <th>77247</th>\n",
       "      <td>4098302</td>\n",
       "      <td>22896281</td>\n",
       "      <td>2014-11-17</td>\n",
       "      <td>22344105</td>\n",
       "      <td>Ally</td>\n",
       "      <td>Overall, the apartment was a great location an...</td>\n",
       "      <td>True</td>\n",
       "    </tr>\n",
       "    <tr>\n",
       "      <th>88218</th>\n",
       "      <td>237127</td>\n",
       "      <td>7634863</td>\n",
       "      <td>2013-09-27</td>\n",
       "      <td>8941981</td>\n",
       "      <td>Margaret</td>\n",
       "      <td>I can't recommend this host highly enough.  Ex...</td>\n",
       "      <td>True</td>\n",
       "    </tr>\n",
       "    <tr>\n",
       "      <th>99148</th>\n",
       "      <td>701474</td>\n",
       "      <td>3151070</td>\n",
       "      <td>2012-12-24</td>\n",
       "      <td>3639945</td>\n",
       "      <td>Tammer</td>\n",
       "      <td>We had a wonderful time staying in Jessi's apa...</td>\n",
       "      <td>True</td>\n",
       "    </tr>\n",
       "    <tr>\n",
       "      <th>110106</th>\n",
       "      <td>51572</td>\n",
       "      <td>2920854</td>\n",
       "      <td>2012-11-19</td>\n",
       "      <td>1135476</td>\n",
       "      <td>Mark</td>\n",
       "      <td>Lee was an excellent host--friendly, easy-goin...</td>\n",
       "      <td>True</td>\n",
       "    </tr>\n",
       "    <tr>\n",
       "      <th>121181</th>\n",
       "      <td>2482036</td>\n",
       "      <td>12976718</td>\n",
       "      <td>2014-05-16</td>\n",
       "      <td>3304391</td>\n",
       "      <td>Talya</td>\n",
       "      <td>The location is great, just as described.  The...</td>\n",
       "      <td>True</td>\n",
       "    </tr>\n",
       "    <tr>\n",
       "      <th>132140</th>\n",
       "      <td>62452</td>\n",
       "      <td>1209986</td>\n",
       "      <td>2012-05-01</td>\n",
       "      <td>1998800</td>\n",
       "      <td>Ksenia</td>\n",
       "      <td>Everithyng is as seen on the pictures. A littl...</td>\n",
       "      <td>True</td>\n",
       "    </tr>\n",
       "    <tr>\n",
       "      <th>143152</th>\n",
       "      <td>3082285</td>\n",
       "      <td>14492037</td>\n",
       "      <td>2014-06-20</td>\n",
       "      <td>8615298</td>\n",
       "      <td>Barbara</td>\n",
       "      <td>Eli was very pleasant to deal with.  His frien...</td>\n",
       "      <td>True</td>\n",
       "    </tr>\n",
       "    <tr>\n",
       "      <th>154234</th>\n",
       "      <td>2825271</td>\n",
       "      <td>14965973</td>\n",
       "      <td>2014-06-30</td>\n",
       "      <td>1209578</td>\n",
       "      <td>Claire</td>\n",
       "      <td>thant you very much to Olivia and her husband,...</td>\n",
       "      <td>True</td>\n",
       "    </tr>\n",
       "    <tr>\n",
       "      <th>165338</th>\n",
       "      <td>1454152</td>\n",
       "      <td>7228236</td>\n",
       "      <td>2013-09-11</td>\n",
       "      <td>8258451</td>\n",
       "      <td>Katie</td>\n",
       "      <td>Brook hosted my parents on their first time co...</td>\n",
       "      <td>True</td>\n",
       "    </tr>\n",
       "    <tr>\n",
       "      <th>176316</th>\n",
       "      <td>869069</td>\n",
       "      <td>8233008</td>\n",
       "      <td>2013-10-21</td>\n",
       "      <td>9269393</td>\n",
       "      <td>Marian</td>\n",
       "      <td>My son and I stayed one night in Hinanit's apa...</td>\n",
       "      <td>True</td>\n",
       "    </tr>\n",
       "    <tr>\n",
       "      <th>187308</th>\n",
       "      <td>873824</td>\n",
       "      <td>4580888</td>\n",
       "      <td>2013-05-13</td>\n",
       "      <td>3311972</td>\n",
       "      <td>Aurélien</td>\n",
       "      <td>My girlfriend and I stayed 3 nights at Carl's ...</td>\n",
       "      <td>True</td>\n",
       "    </tr>\n",
       "    <tr>\n",
       "      <th>198371</th>\n",
       "      <td>26969</td>\n",
       "      <td>8993097</td>\n",
       "      <td>2013-12-01</td>\n",
       "      <td>3637845</td>\n",
       "      <td>Charles</td>\n",
       "      <td>Great neighborhood, fun house and very conveni...</td>\n",
       "      <td>True</td>\n",
       "    </tr>\n",
       "    <tr>\n",
       "      <th>209347</th>\n",
       "      <td>1671064</td>\n",
       "      <td>12921263</td>\n",
       "      <td>2014-05-14</td>\n",
       "      <td>13384160</td>\n",
       "      <td>Jessica</td>\n",
       "      <td>This apartment is spacious and in a very fun p...</td>\n",
       "      <td>True</td>\n",
       "    </tr>\n",
       "    <tr>\n",
       "      <th>220385</th>\n",
       "      <td>1087354</td>\n",
       "      <td>4552648</td>\n",
       "      <td>2013-05-12</td>\n",
       "      <td>5481673</td>\n",
       "      <td>Kristenreed5@Hotmail.Com</td>\n",
       "      <td>Alexandre was a fantastic host. He responded p...</td>\n",
       "      <td>True</td>\n",
       "    </tr>\n",
       "    <tr>\n",
       "      <th>231363</th>\n",
       "      <td>44040</td>\n",
       "      <td>101211</td>\n",
       "      <td>2010-09-20</td>\n",
       "      <td>212443</td>\n",
       "      <td>Lorraine</td>\n",
       "      <td>great apartment, clean and quiet. it was a fan...</td>\n",
       "      <td>True</td>\n",
       "    </tr>\n",
       "    <tr>\n",
       "      <th>242430</th>\n",
       "      <td>3326000</td>\n",
       "      <td>21203357</td>\n",
       "      <td>2014-10-13</td>\n",
       "      <td>6864754</td>\n",
       "      <td>Bernice</td>\n",
       "      <td>Dana was a fine hostess.  The convenient NY ap...</td>\n",
       "      <td>True</td>\n",
       "    </tr>\n",
       "    <tr>\n",
       "      <th>253405</th>\n",
       "      <td>54694</td>\n",
       "      <td>245547</td>\n",
       "      <td>2011-04-30</td>\n",
       "      <td>491850</td>\n",
       "      <td>Mischa</td>\n",
       "      <td>A lovely and convenient place to stay at a gre...</td>\n",
       "      <td>True</td>\n",
       "    </tr>\n",
       "    <tr>\n",
       "      <th>264447</th>\n",
       "      <td>453094</td>\n",
       "      <td>9208189</td>\n",
       "      <td>2013-12-13</td>\n",
       "      <td>240507</td>\n",
       "      <td>Joseph</td>\n",
       "      <td>Waldemar is an excellent host. He's very nice ...</td>\n",
       "      <td>True</td>\n",
       "    </tr>\n",
       "    <tr>\n",
       "      <th>275541</th>\n",
       "      <td>64649</td>\n",
       "      <td>4321894</td>\n",
       "      <td>2013-04-28</td>\n",
       "      <td>5030984</td>\n",
       "      <td>Oichu</td>\n",
       "      <td>I stayed a week in Suzanne's house. This locat...</td>\n",
       "      <td>True</td>\n",
       "    </tr>\n",
       "  </tbody>\n",
       "</table>\n",
       "</div>"
      ],
      "text/plain": [
       "        listing_id        id        date  reviewer_id  \\\n",
       "0          1180670  14705995  2014-06-24     10875598   \n",
       "11107       266756   8042286  2013-10-14      8155079   \n",
       "22122       402201   1578928  2012-06-27      2251260   \n",
       "33133      1980203  13452728  2014-05-27       500136   \n",
       "44158      1264732   8209665  2013-10-21      6651045   \n",
       "55158      2057534  20496428  2014-09-30     18482309   \n",
       "66159       816272   4199429  2013-04-17      5788289   \n",
       "77247      4098302  22896281  2014-11-17     22344105   \n",
       "88218       237127   7634863  2013-09-27      8941981   \n",
       "99148       701474   3151070  2012-12-24      3639945   \n",
       "110106       51572   2920854  2012-11-19      1135476   \n",
       "121181     2482036  12976718  2014-05-16      3304391   \n",
       "132140       62452   1209986  2012-05-01      1998800   \n",
       "143152     3082285  14492037  2014-06-20      8615298   \n",
       "154234     2825271  14965973  2014-06-30      1209578   \n",
       "165338     1454152   7228236  2013-09-11      8258451   \n",
       "176316      869069   8233008  2013-10-21      9269393   \n",
       "187308      873824   4580888  2013-05-13      3311972   \n",
       "198371       26969   8993097  2013-12-01      3637845   \n",
       "209347     1671064  12921263  2014-05-14     13384160   \n",
       "220385     1087354   4552648  2013-05-12      5481673   \n",
       "231363       44040    101211  2010-09-20       212443   \n",
       "242430     3326000  21203357  2014-10-13      6864754   \n",
       "253405       54694    245547  2011-04-30       491850   \n",
       "264447      453094   9208189  2013-12-13       240507   \n",
       "275541       64649   4321894  2013-04-28      5030984   \n",
       "\n",
       "                   reviewer_name  \\\n",
       "0                        Gregory   \n",
       "11107                    Crister   \n",
       "22122                       Dave   \n",
       "33133                     Joseph   \n",
       "44158                        Ali   \n",
       "55158                      Julia   \n",
       "66159                        Dan   \n",
       "77247                       Ally   \n",
       "88218                   Margaret   \n",
       "99148                     Tammer   \n",
       "110106                      Mark   \n",
       "121181                     Talya   \n",
       "132140                    Ksenia   \n",
       "143152                   Barbara   \n",
       "154234                    Claire   \n",
       "165338                     Katie   \n",
       "176316                    Marian   \n",
       "187308                  Aurélien   \n",
       "198371                   Charles   \n",
       "209347                   Jessica   \n",
       "220385  Kristenreed5@Hotmail.Com   \n",
       "231363                  Lorraine   \n",
       "242430                   Bernice   \n",
       "253405                    Mischa   \n",
       "264447                    Joseph   \n",
       "275541                     Oichu   \n",
       "\n",
       "                                                 comments if_English  \n",
       "0       Ok, if you like the location and don't mind an...       True  \n",
       "11107   Roberto Mike Mercado is a realyable landlord, ...       True  \n",
       "22122   The reservation was canceled 183 days before a...       True  \n",
       "33133   Host was a no show.  Huge stress, inconvenienc...       True  \n",
       "44158   Jeffrey is a great host with his amazing promp...       True  \n",
       "55158   Pros: Anwar is a great host! So nice and helpf...       True  \n",
       "66159   I booked Cristen's apartment for my parents, a...       True  \n",
       "77247   Overall, the apartment was a great location an...       True  \n",
       "88218   I can't recommend this host highly enough.  Ex...       True  \n",
       "99148   We had a wonderful time staying in Jessi's apa...       True  \n",
       "110106  Lee was an excellent host--friendly, easy-goin...       True  \n",
       "121181  The location is great, just as described.  The...       True  \n",
       "132140  Everithyng is as seen on the pictures. A littl...       True  \n",
       "143152  Eli was very pleasant to deal with.  His frien...       True  \n",
       "154234  thant you very much to Olivia and her husband,...       True  \n",
       "165338  Brook hosted my parents on their first time co...       True  \n",
       "176316  My son and I stayed one night in Hinanit's apa...       True  \n",
       "187308  My girlfriend and I stayed 3 nights at Carl's ...       True  \n",
       "198371  Great neighborhood, fun house and very conveni...       True  \n",
       "209347  This apartment is spacious and in a very fun p...       True  \n",
       "220385  Alexandre was a fantastic host. He responded p...       True  \n",
       "231363  great apartment, clean and quiet. it was a fan...       True  \n",
       "242430  Dana was a fine hostess.  The convenient NY ap...       True  \n",
       "253405  A lovely and convenient place to stay at a gre...       True  \n",
       "264447  Waldemar is an excellent host. He's very nice ...       True  \n",
       "275541  I stayed a week in Suzanne's house. This locat...       True  "
      ]
     },
     "execution_count": 24,
     "metadata": {},
     "output_type": "execute_result"
    }
   ],
   "source": [
    "#output reviews\n",
    "reviews_cleaned.to_csv('../../Data/reviews_cleaned.csv', sep=',', index = False)\n",
    "reviews_cleaned[::10000]"
   ]
  },
  {
   "cell_type": "code",
   "execution_count": 42,
   "metadata": {
    "collapsed": false
   },
   "outputs": [
    {
     "name": "stdout",
     "output_type": "stream",
     "text": [
      "showing info https://raw.githubusercontent.com/nltk/nltk_data/gh-pages/index.xml\n"
     ]
    },
    {
     "data": {
      "text/plain": [
       "True"
      ]
     },
     "execution_count": 42,
     "metadata": {},
     "output_type": "execute_result"
    }
   ],
   "source": [
    "#may need to download required data\n",
    "nltk.download()"
   ]
  },
  {
   "cell_type": "code",
   "execution_count": 20,
   "metadata": {
    "collapsed": false
   },
   "outputs": [
    {
     "name": "stdout",
     "output_type": "stream",
     "text": [
      "Ok, if you like the location and don't mind an occasional roach.\n",
      "{'neg': 0.0, 'neu': 0.68, 'pos': 0.32, 'compound': 0.5719}\n",
      "Overall\n",
      "{'neg': 0.0, 'neu': 0.68, 'pos': 0.32, 'compound': 0.5719}\n",
      "\n",
      "Extremely disappointed.\n",
      "{'neg': 0.772, 'neu': 0.228, 'pos': 0.0, 'compound': -0.5256}\n",
      "Overall\n",
      "{'neg': 0.772, 'neu': 0.228, 'pos': 0.0, 'compound': -0.5256}\n",
      "\n",
      "Exactly as described.\n",
      "{'neg': 0.0, 'neu': 1.0, 'pos': 0.0, 'compound': 0.0}\n",
      "Overall\n",
      "{'neg': 0.0, 'neu': 1.0, 'pos': 0.0, 'compound': 0.0}\n",
      "\n",
      "The reservation was canceled the day before arrival.\n",
      "{'neg': 0.0, 'neu': 1.0, 'pos': 0.0, 'compound': 0.0}\n",
      "This is an automated posting.\n",
      "{'neg': 0.0, 'neu': 1.0, 'pos': 0.0, 'compound': 0.0}\n",
      "Overall\n",
      "{'neg': 0.0, 'neu': 1.0, 'pos': 0.0, 'compound': 0.0}\n",
      "\n",
      "Very Nice and comfortable.\n",
      "{'neg': 0.0, 'neu': 0.231, 'pos': 0.769, 'compound': 0.7688}\n",
      "Great location - Marianne and Son ensured we had a comfortable stay.\n",
      "{'neg': 0.0, 'neu': 0.519, 'pos': 0.481, 'compound': 0.8126}\n",
      "Overall\n",
      "{'neg': 0.0, 'neu': 0.411, 'pos': 0.589, 'compound': 0.9362}\n",
      "\n",
      "Sunserae was a phenomenal host.\n",
      "{'neg': 0.0, 'neu': 1.0, 'pos': 0.0, 'compound': 0.0}\n",
      "Incredible location and beautiful pad.\n",
      "{'neg': 0.0, 'neu': 0.506, 'pos': 0.494, 'compound': 0.5994}\n",
      "Highly recommended.\n",
      "{'neg': 0.0, 'neu': 0.323, 'pos': 0.677, 'compound': 0.2716}\n",
      "Overall\n",
      "{'neg': 0.0, 'neu': 0.6, 'pos': 0.4, 'compound': 0.7178}\n",
      "\n",
      "Our rental was great.\n",
      "{'neg': 0.0, 'neu': 0.423, 'pos': 0.577, 'compound': 0.6249}\n",
      "It was just as described, clean and the perfect location.\n",
      "{'neg': 0.0, 'neu': 0.556, 'pos': 0.444, 'compound': 0.7506}\n",
      "I highly recommend renting from Alyssa. \n",
      "{'neg': 0.0, 'neu': 0.589, 'pos': 0.411, 'compound': 0.4201}\n",
      "Overall\n",
      "{'neg': 0.0, 'neu': 0.53, 'pos': 0.47, 'compound': 0.923}\n",
      "\n",
      "The reservation was canceled 14 days before arrival.\n",
      "{'neg': 0.0, 'neu': 1.0, 'pos': 0.0, 'compound': 0.0}\n",
      "This is an automated posting.\n",
      "{'neg': 0.0, 'neu': 1.0, 'pos': 0.0, 'compound': 0.0}\n",
      "Overall\n",
      "{'neg': 0.0, 'neu': 1.0, 'pos': 0.0, 'compound': 0.0}\n",
      "\n",
      "It's a very convenient place and the host is very kind.\n",
      "{'neg': 0.0, 'neu': 0.709, 'pos': 0.291, 'compound': 0.5709}\n",
      "We had a great time there! \n",
      "{'neg': 0.0, 'neu': 0.477, 'pos': 0.523, 'compound': 0.6588}\n",
      "Overall\n",
      "{'neg': 0.0, 'neu': 0.617, 'pos': 0.383, 'compound': 0.8436}\n",
      "\n",
      "Zak and his room were most hospital in receiving me.\n",
      "{'neg': 0.0, 'neu': 1.0, 'pos': 0.0, 'compound': 0.0}\n",
      "Room was as described - bright, clean and very well situated in the Village. \n",
      "{'neg': 0.0, 'neu': 0.556, 'pos': 0.444, 'compound': 0.7902}\n",
      "Overall\n",
      "{'neg': 0.0, 'neu': 0.714, 'pos': 0.286, 'compound': 0.7902}\n",
      "\n"
     ]
    }
   ],
   "source": [
    "sid = SentimentIntensityAnalyzer()\n",
    "review_comments = reviews_cleaned[\"comments\"]\n",
    "\n",
    "#try looking at full comments and individual sentences within comments\n",
    "for i in range(10):\n",
    "    comment = review_comments.iloc[i]\n",
    "    for sent in tokenize.sent_tokenize(comment):\n",
    "        print sent\n",
    "        print sid.polarity_scores(sent)\n",
    "    print \"Overall\"\n",
    "    print sid.polarity_scores(comment)\n",
    "    print"
   ]
  },
  {
   "cell_type": "markdown",
   "metadata": {},
   "source": [
    "It appears that applying the VADER analyzer to the entire comments is a reasonable average of the sentences."
   ]
  },
  {
   "cell_type": "code",
   "execution_count": 52,
   "metadata": {
    "collapsed": false
   },
   "outputs": [],
   "source": [
    "#find review sentiments with VADER algorithm\n",
    "#neg, neu, pos, compound\n",
    "reviews[\"sentiment\"] = reviews[\"comments\"].apply(lambda c: sid.polarity_scores(c).values())\n",
    "reviews[\"negative_sentiment\"] = reviews[\"sentiment\"].apply(lambda s: s[0])\n",
    "reviews[\"neutral_sentiment\"] = reviews[\"sentiment\"].apply(lambda s: s[1])\n",
    "reviews[\"positive_sentiment\"] = reviews[\"sentiment\"].apply(lambda s: s[2])\n",
    "reviews[\"compound_sentiment\"] = reviews[\"sentiment\"].apply(lambda s: s[3])\n",
    "\n",
    "review_sentiments = reviews[[\"listing_id\", \"positive_sentiment\", \"negative_sentiment\", \n",
    "                             \"neutral_sentiment\", \"compound_sentiment\"]]\n",
    "\n",
    "review_sentiments.to_csv('../../Data/reviews_sentiment.csv', sep=',', index = False)"
   ]
  },
  {
   "cell_type": "code",
   "execution_count": 59,
   "metadata": {
    "collapsed": false
   },
   "outputs": [
    {
     "data": {
      "image/png": "[encoded data removed]",
      "text/plain": [
       "<matplotlib.figure.Figure at 0x7f62eac6fbd0>"
      ]
     },
     "metadata": {},
     "output_type": "display_data"
    },
    {
     "data": {
      "image/png": "[encoded data removed]",
      "text/plain": [
       "<matplotlib.figure.Figure at 0x7f62eb6e2110>"
      ]
     },
     "metadata": {},
     "output_type": "display_data"
    },
    {
     "data": {
      "image/png": "[encoded data removed]",
      "text/plain": [
       "<matplotlib.figure.Figure at 0x7f62eb6e2590>"
      ]
     },
     "metadata": {},
     "output_type": "display_data"
    },
    {
     "data": {
      "image/png": "[encoded data removed]",
      "text/plain": [
       "<matplotlib.figure.Figure at 0x7f62eb6e2650>"
      ]
     },
     "metadata": {},
     "output_type": "display_data"
    }
   ],
   "source": [
    "plt.figure()\n",
    "plt.title(\"Compound Sentiment\")\n",
    "plt.hist(review_sentiments[\"compound_sentiment\"], bins=100);\n",
    "\n",
    "plt.figure()\n",
    "plt.title(\"Positive Sentiment\")\n",
    "plt.hist(review_sentiments[\"positive_sentiment\"], bins=100);\n",
    "\n",
    "plt.figure()\n",
    "plt.title(\"Negative Sentiment\")\n",
    "plt.hist(review_sentiments[\"negative_sentiment\"], bins=100);\n",
    "\n",
    "plt.figure()\n",
    "plt.title(\"Neutral Sentiment\")\n",
    "plt.hist(review_sentiments[\"neutral_sentiment\"], bins=100);"
   ]
  }
 ],
 "metadata": {
  "anaconda-cloud": {},
  "kernelspec": {
   "display_name": "Python 2",
   "language": "python",
   "name": "python2"
  },
  "language_info": {
   "codemirror_mode": {
    "name": "ipython",
    "version": 2
   },
   "file_extension": ".py",
   "mimetype": "text/x-python",
   "name": "python",
   "nbconvert_exporter": "python",
   "pygments_lexer": "ipython2",
   "version": "2.7.12"
  }
 },
 "nbformat": 4,
 "nbformat_minor": 0
}
